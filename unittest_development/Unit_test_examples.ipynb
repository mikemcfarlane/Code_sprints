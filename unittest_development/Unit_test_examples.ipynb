{
 "metadata": {
  "name": ""
 },
 "nbformat": 3,
 "nbformat_minor": 0,
 "worksheets": [
  {
   "cells": [
    {
     "cell_type": "heading",
     "level": 1,
     "metadata": {},
     "source": [
      "Exploring Python nosetests and unittests for a simple Markov transition function"
     ]
    },
    {
     "cell_type": "markdown",
     "metadata": {},
     "source": [
      "1. Unit tests will allow me to refactor code and ensure it works.\n",
      "2. Unit tests can be highly structured into classes, but are perhaps just as effective as a list of single test methods.\n",
      "3. At my level I see no difference between unittests and nose.\n",
      "4. Running unit tests is significantly slower (approx 1sec for 4 tests vs 0.0002s) if a broker is created to NAO  in each setUp() and stopped in each tearDown().\n",
      "5. The fastest approach appears to be to create a global variable instance as is normal in NAO code and to create and destroy the broker only once in the whole test. It is possible in more complex method tests that this may cause problems with shared variables.\n",
      "6. I spent about 4 hours trying to get the unittests to run in the NAO robot code as I renamed the test methods from the initial development code. Test methods names need to start with the word 'test'. If I had carefully re-read the documentation at http://docs.python.org/2/library/unittest.html I would have solved this more quickly.\n"
     ]
    },
    {
     "cell_type": "heading",
     "level": 2,
     "metadata": {},
     "source": [
      "Unit tests with method based code"
     ]
    },
    {
     "cell_type": "code",
     "collapsed": false,
     "input": [
      "%%file choice.py\n",
      "# -*- coding: ascii -*-\n",
      "\"\"\" Exploring unit tests.\n",
      "    Simple code to implement a simple Markov transition function.\n",
      "    \n",
      "\"\"\"\n",
      "__author__ = \"Mike McFarlane (mike@mikemcfarlane.co.uk)\"\n",
      "__version__ = \"$Revision: 0 $\"\n",
      "__date__ = \"$Date: 11-04-14\"\n",
      "__copyright__ =  \"Copyright (c) Mike McFarlane 2014\"\n",
      "__license__ = \"TBC\"\n",
      "\n",
      "import random\n",
      "import numpy as np\n",
      "import custom_exceptions as ce\n",
      "\n",
      "def choice2(inArray):\n",
      "    \"\"\" Simple function to implement a Markov transition function.\n",
      "\n",
      "    \"\"\"\n",
      "    randNum = np.random.random()\n",
      "    cum = 0\n",
      "    sumVal = np.sum(inArray)\n",
      "    if not abs(sumVal - 1.0) < 1e-10:\n",
      "        #print \"not a P array\"\n",
      "        raise ce.MatrixError(\"Not a valid array\")\n",
      "    else:\n",
      "        for count, i in enumerate(inArray):\n",
      "            cum += i\n",
      "            if cum >= randNum:\n",
      "                return count\n",
      "            \n",
      "if __name__ == '__main__':\n",
      "    print choice2([1])\n"
     ],
     "language": "python",
     "metadata": {},
     "outputs": [
      {
       "output_type": "stream",
       "stream": "stdout",
       "text": [
        "Overwriting choice.py\n"
       ]
      }
     ],
     "prompt_number": 220
    },
    {
     "cell_type": "code",
     "collapsed": false,
     "input": [
      "%%file custom_exceptions.py\n",
      "# -*- coding: ascii -*-\n",
      "\"\"\" Exploring unit tests.\n",
      "    Custom exceptions classes for choice.py. \n",
      "\n",
      "\"\"\"\n",
      "__author__ = \"Mike McFarlane (mike@mikemcfarlane.co.uk)\"\n",
      "__version__ = \"$Revision: 0 $\"\n",
      "__date__ = \"$Date: 11-04-14\"\n",
      "__copyright__ =  \"Copyright (c) Mike McFarlane 2014\"\n",
      "__license__ = \"TBC\"\n",
      "\n",
      "\n",
      "class MatrixError(Exception):\n",
      "    \"\"\" Raised when wrong matrix error. \n",
      "    \n",
      "    \"\"\"\n",
      "    pass"
     ],
     "language": "python",
     "metadata": {},
     "outputs": [
      {
       "output_type": "stream",
       "stream": "stdout",
       "text": [
        "Overwriting custom_exceptions.py\n"
       ]
      }
     ],
     "prompt_number": 221
    },
    {
     "cell_type": "code",
     "collapsed": false,
     "input": [
      "%%file choicetest_nosetests.py\n",
      "# -*- coding: ascii -*-\n",
      "\"\"\" Exploring unit tests.\n",
      "    Tests for nose for choice.py.\n",
      "    \n",
      "\"\"\"\n",
      "__author__ = \"Mike McFarlane (mike@mikemcfarlane.co.uk)\"\n",
      "__version__ = \"$Revision: 0 $\"\n",
      "__date__ = \"$Date: 11-04-14\"\n",
      "__copyright__ =  \"Copyright (c) Mike McFarlane 2014\"\n",
      "__license__ = \"TBC\"\n",
      "\n",
      "import choice\n",
      "\n",
      "def test_range():\n",
      "    assert choice.choice2([1]) >= 0\n",
      "    \n",
      "def test_bad_range():\n",
      "    assert choice.choice2([2]) >= 0\n",
      "    \n",
      "def test_large_range():\n",
      "    assert choice.choice2([0.1, 0.1, 0.2, 0.2, 0.2, 0.1, 0.09, 0.01]) >= 0\n",
      "    \n",
      "def test_large_bad_range():\n",
      "    assert choice.choice2([0.1, 0.1, 0.2, 0.2, 0.2, 0.1, 0.09, 0.1]) >= 0\n",
      "\t\t\t\t\t\t\t\t\t\t"
     ],
     "language": "python",
     "metadata": {},
     "outputs": [
      {
       "output_type": "stream",
       "stream": "stdout",
       "text": [
        "Overwriting choicetest_nosetests.py\n"
       ]
      }
     ],
     "prompt_number": 222
    },
    {
     "cell_type": "code",
     "collapsed": false,
     "input": [
      "%%file choicetest_unittest.py\n",
      "# -*- coding: ascii -*-\n",
      "\"\"\" Exploring unit tests.\n",
      "    Unit tests for unittest for choice.py. \n",
      "\n",
      "\"\"\"\n",
      "__author__ = \"Mike McFarlane (mike@mikemcfarlane.co.uk)\"\n",
      "__version__ = \"$Revision: 0 $\"\n",
      "__date__ = \"$Date: 11-04-14\"\n",
      "__copyright__ =  \"Copyright (c) Mike McFarlane 2014\"\n",
      "__license__ = \"TBC\"\n",
      "\n",
      "import choice\n",
      "import unittest\n",
      "\n",
      "class RangeTests(unittest.TestCase):\n",
      "    def test_range(self):\n",
      "        a = choice.choice2([1])\n",
      "        b = 0\n",
      "        self.assertGreaterEqual(a, b)\n",
      "        \n",
      "    def test_bad_range(self):\n",
      "        a = choice.choice2([2])\n",
      "        b = 0\n",
      "        self.assertGreaterEqual(a, b)\n",
      "        \n",
      "    def test_large_range(self):\n",
      "        a = choice.choice2([0.1, 0.1, 0.2, 0.2, 0.2, 0.1, 0.09, 0.01])\n",
      "        b = 0\n",
      "        self.assertGreaterEqual(a, b)\n",
      "    \n",
      "    def test_large_bad_range(self):      \n",
      "        a = choice.choice2([0.1, 0.1, 0.2, 0.2, 0.2, 0.1, 0.09, 0.1])\n",
      "        b = 0\n",
      "        self.assertGreaterEqual(a, b)\n",
      "    \n",
      "\n",
      "if __name__ == \"__main__\":\n",
      "    unittest.main()"
     ],
     "language": "python",
     "metadata": {},
     "outputs": [
      {
       "output_type": "stream",
       "stream": "stdout",
       "text": [
        "Overwriting choicetest_unittest.py\n"
       ]
      }
     ],
     "prompt_number": 223
    },
    {
     "cell_type": "code",
     "collapsed": false,
     "input": [
      "!ls"
     ],
     "language": "python",
     "metadata": {},
     "outputs": [
      {
       "output_type": "stream",
       "stream": "stdout",
       "text": [
        "Unit_test_examples.ipynb choice.pyc               choicetest_nosetests.pyc custom_exceptions.py\r\n",
        "choice.py                choicetest_nosetests.py  choicetest_unittest.py   custom_exceptions.pyc\r\n"
       ]
      }
     ],
     "prompt_number": 224
    },
    {
     "cell_type": "code",
     "collapsed": false,
     "input": [
      "import sys\n",
      "if 'choice' in sys.modules: \n",
      "    print \"Module present, will delete and import.\"\n",
      "    del(sys.modules['choice'])\n",
      "import choice\n",
      "\n",
      "print choice.__version__\n",
      "\n",
      "print \"1: \", choice.choice2([1])\n",
      "print \"2: \", choice.choice2([2])\n",
      "print \"3: \", choice.choice2([0.1, 0.1, 0.2, 0.2, 0.2, 0.1, 0.09, 0.01])\n",
      "print \"4: \", choice.choice2([0.1, 0.1, 0.2, 0.2, 0.2, 0.1, 0.09, 0.1])"
     ],
     "language": "python",
     "metadata": {},
     "outputs": [
      {
       "ename": "MatrixError",
       "evalue": "Not a valid array",
       "output_type": "pyerr",
       "traceback": [
        "\u001b[0;31m---------------------------------------------------------------------------\u001b[0m\n\u001b[0;31mMatrixError\u001b[0m                               Traceback (most recent call last)",
        "\u001b[0;32m<ipython-input-225-c786bd10754d>\u001b[0m in \u001b[0;36m<module>\u001b[0;34m()\u001b[0m\n\u001b[1;32m      8\u001b[0m \u001b[0;34m\u001b[0m\u001b[0m\n\u001b[1;32m      9\u001b[0m \u001b[0;32mprint\u001b[0m \u001b[0;34m\"1: \"\u001b[0m\u001b[0;34m,\u001b[0m \u001b[0mchoice\u001b[0m\u001b[0;34m.\u001b[0m\u001b[0mchoice2\u001b[0m\u001b[0;34m(\u001b[0m\u001b[0;34m[\u001b[0m\u001b[0;36m1\u001b[0m\u001b[0;34m]\u001b[0m\u001b[0;34m)\u001b[0m\u001b[0;34m\u001b[0m\u001b[0m\n\u001b[0;32m---> 10\u001b[0;31m \u001b[0;32mprint\u001b[0m \u001b[0;34m\"2: \"\u001b[0m\u001b[0;34m,\u001b[0m \u001b[0mchoice\u001b[0m\u001b[0;34m.\u001b[0m\u001b[0mchoice2\u001b[0m\u001b[0;34m(\u001b[0m\u001b[0;34m[\u001b[0m\u001b[0;36m2\u001b[0m\u001b[0;34m]\u001b[0m\u001b[0;34m)\u001b[0m\u001b[0;34m\u001b[0m\u001b[0m\n\u001b[0m\u001b[1;32m     11\u001b[0m \u001b[0;32mprint\u001b[0m \u001b[0;34m\"3: \"\u001b[0m\u001b[0;34m,\u001b[0m \u001b[0mchoice\u001b[0m\u001b[0;34m.\u001b[0m\u001b[0mchoice2\u001b[0m\u001b[0;34m(\u001b[0m\u001b[0;34m[\u001b[0m\u001b[0;36m0.1\u001b[0m\u001b[0;34m,\u001b[0m \u001b[0;36m0.1\u001b[0m\u001b[0;34m,\u001b[0m \u001b[0;36m0.2\u001b[0m\u001b[0;34m,\u001b[0m \u001b[0;36m0.2\u001b[0m\u001b[0;34m,\u001b[0m \u001b[0;36m0.2\u001b[0m\u001b[0;34m,\u001b[0m \u001b[0;36m0.1\u001b[0m\u001b[0;34m,\u001b[0m \u001b[0;36m0.09\u001b[0m\u001b[0;34m,\u001b[0m \u001b[0;36m0.01\u001b[0m\u001b[0;34m]\u001b[0m\u001b[0;34m)\u001b[0m\u001b[0;34m\u001b[0m\u001b[0m\n\u001b[1;32m     12\u001b[0m \u001b[0;32mprint\u001b[0m \u001b[0;34m\"4: \"\u001b[0m\u001b[0;34m,\u001b[0m \u001b[0mchoice\u001b[0m\u001b[0;34m.\u001b[0m\u001b[0mchoice2\u001b[0m\u001b[0;34m(\u001b[0m\u001b[0;34m[\u001b[0m\u001b[0;36m0.1\u001b[0m\u001b[0;34m,\u001b[0m \u001b[0;36m0.1\u001b[0m\u001b[0;34m,\u001b[0m \u001b[0;36m0.2\u001b[0m\u001b[0;34m,\u001b[0m \u001b[0;36m0.2\u001b[0m\u001b[0;34m,\u001b[0m \u001b[0;36m0.2\u001b[0m\u001b[0;34m,\u001b[0m \u001b[0;36m0.1\u001b[0m\u001b[0;34m,\u001b[0m \u001b[0;36m0.09\u001b[0m\u001b[0;34m,\u001b[0m \u001b[0;36m0.1\u001b[0m\u001b[0;34m]\u001b[0m\u001b[0;34m)\u001b[0m\u001b[0;34m\u001b[0m\u001b[0m\n",
        "\u001b[0;32m/Users/mikemcfarlane/Dropbox/Code/Repositories/NAO/TickleMeNAO/Idea_Development/nose_test_example/choice.py\u001b[0m in \u001b[0;36mchoice2\u001b[0;34m(inArray)\u001b[0m\n\u001b[1;32m     23\u001b[0m     \u001b[0;32mif\u001b[0m \u001b[0;32mnot\u001b[0m \u001b[0mabs\u001b[0m\u001b[0;34m(\u001b[0m\u001b[0msumVal\u001b[0m \u001b[0;34m-\u001b[0m \u001b[0;36m1.0\u001b[0m\u001b[0;34m)\u001b[0m \u001b[0;34m<\u001b[0m \u001b[0;36m1e-10\u001b[0m\u001b[0;34m:\u001b[0m\u001b[0;34m\u001b[0m\u001b[0m\n\u001b[1;32m     24\u001b[0m         \u001b[0;31m#print \"not a P array\"\u001b[0m\u001b[0;34m\u001b[0m\u001b[0;34m\u001b[0m\u001b[0m\n\u001b[0;32m---> 25\u001b[0;31m         \u001b[0;32mraise\u001b[0m \u001b[0mce\u001b[0m\u001b[0;34m.\u001b[0m\u001b[0mMatrixError\u001b[0m\u001b[0;34m(\u001b[0m\u001b[0;34m\"Not a valid array\"\u001b[0m\u001b[0;34m)\u001b[0m\u001b[0;34m\u001b[0m\u001b[0m\n\u001b[0m\u001b[1;32m     26\u001b[0m     \u001b[0;32melse\u001b[0m\u001b[0;34m:\u001b[0m\u001b[0;34m\u001b[0m\u001b[0m\n\u001b[1;32m     27\u001b[0m         \u001b[0;32mfor\u001b[0m \u001b[0mcount\u001b[0m\u001b[0;34m,\u001b[0m \u001b[0mi\u001b[0m \u001b[0;32min\u001b[0m \u001b[0menumerate\u001b[0m\u001b[0;34m(\u001b[0m\u001b[0minArray\u001b[0m\u001b[0;34m)\u001b[0m\u001b[0;34m:\u001b[0m\u001b[0;34m\u001b[0m\u001b[0m\n",
        "\u001b[0;31mMatrixError\u001b[0m: Not a valid array"
       ]
      },
      {
       "output_type": "stream",
       "stream": "stdout",
       "text": [
        "Module present, will delete and import.\n",
        "$Revision: 0 $\n",
        "1:  0\n",
        "2: "
       ]
      }
     ],
     "prompt_number": 225
    },
    {
     "cell_type": "code",
     "collapsed": false,
     "input": [
      "!~/Library/Enthought/Canopy_64bit/User/bin/python choice.py"
     ],
     "language": "python",
     "metadata": {},
     "outputs": [
      {
       "output_type": "stream",
       "stream": "stdout",
       "text": [
        "0\r\n"
       ]
      }
     ],
     "prompt_number": 227
    },
    {
     "cell_type": "code",
     "collapsed": false,
     "input": [
      "!~/Library/Enthought/Canopy_64bit/User/bin/nosetests -v choicetest_nosetests.py"
     ],
     "language": "python",
     "metadata": {},
     "outputs": [
      {
       "output_type": "stream",
       "stream": "stdout",
       "text": [
        "choicetest_nosetests.test_range ... ok\r\n",
        "choicetest_nosetests.test_bad_range ... ERROR\r\n",
        "choicetest_nosetests.test_large_range ... ok\r\n",
        "choicetest_nosetests.test_large_bad_range ... ERROR\r\n",
        "\r\n",
        "======================================================================\r\n",
        "ERROR: choicetest_nosetests.test_bad_range\r\n",
        "----------------------------------------------------------------------\r\n",
        "Traceback (most recent call last):\r\n",
        "  File \"/Users/mikemcfarlane/Library/Enthought/Canopy_64bit/User/lib/python2.7/site-packages/nose/case.py\", line 197, in runTest\r\n",
        "    self.test(*self.arg)\r\n",
        "  File \"/Users/mikemcfarlane/Dropbox/Code/Repositories/NAO/TickleMeNAO/Idea_Development/nose_test_example/choicetest_nosetests.py\", line 18, in test_bad_range\r\n",
        "    assert choice.choice2([2]) >= 0\r\n",
        "  File \"/Users/mikemcfarlane/Dropbox/Code/Repositories/NAO/TickleMeNAO/Idea_Development/nose_test_example/choice.py\", line 25, in choice2\r\n",
        "    raise ce.MatrixError(\"Not a valid array\")\r\n",
        "MatrixError: Not a valid array\r\n",
        "\r\n",
        "======================================================================\r\n",
        "ERROR: choicetest_nosetests.test_large_bad_range\r\n",
        "----------------------------------------------------------------------\r\n",
        "Traceback (most recent call last):\r\n",
        "  File \"/Users/mikemcfarlane/Library/Enthought/Canopy_64bit/User/lib/python2.7/site-packages/nose/case.py\", line 197, in runTest\r\n",
        "    self.test(*self.arg)\r\n",
        "  File \"/Users/mikemcfarlane/Dropbox/Code/Repositories/NAO/TickleMeNAO/Idea_Development/nose_test_example/choicetest_nosetests.py\", line 24, in test_large_bad_range\r\n",
        "    assert choice.choice2([0.1, 0.1, 0.2, 0.2, 0.2, 0.1, 0.09, 0.1]) >= 0\r\n",
        "  File \"/Users/mikemcfarlane/Dropbox/Code/Repositories/NAO/TickleMeNAO/Idea_Development/nose_test_example/choice.py\", line 25, in choice2\r\n",
        "    raise ce.MatrixError(\"Not a valid array\")\r\n",
        "MatrixError: Not a valid array\r\n",
        "\r\n",
        "----------------------------------------------------------------------\r\n",
        "Ran 4 tests in 0.002s\r\n",
        "\r\n",
        "FAILED (errors=2)\r\n"
       ]
      }
     ],
     "prompt_number": 228
    },
    {
     "cell_type": "code",
     "collapsed": false,
     "input": [
      "!~/Library/Enthought/Canopy_64bit/User/bin/python choicetest_unittest.py"
     ],
     "language": "python",
     "metadata": {},
     "outputs": [
      {
       "output_type": "stream",
       "stream": "stdout",
       "text": [
        "EE..\r\n",
        "======================================================================\r\n",
        "ERROR: test_bad_range (__main__.RangeTests)\r\n",
        "----------------------------------------------------------------------\r\n",
        "Traceback (most recent call last):\r\n",
        "  File \"choicetest_unittest.py\", line 22, in test_bad_range\r\n",
        "    a = choice.choice2([2])\r\n",
        "  File \"/Users/mikemcfarlane/Dropbox/Code/Repositories/NAO/TickleMeNAO/Idea_Development/nose_test_example/choice.py\", line 25, in choice2\r\n",
        "    raise ce.MatrixError(\"Not a valid array\")\r\n",
        "MatrixError: Not a valid array\r\n",
        "\r\n",
        "======================================================================\r\n",
        "ERROR: test_large_bad_range (__main__.RangeTests)\r\n",
        "----------------------------------------------------------------------\r\n",
        "Traceback (most recent call last):\r\n",
        "  File \"choicetest_unittest.py\", line 32, in test_large_bad_range\r\n",
        "    a = choice.choice2([0.1, 0.1, 0.2, 0.2, 0.2, 0.1, 0.09, 0.1])\r\n",
        "  File \"/Users/mikemcfarlane/Dropbox/Code/Repositories/NAO/TickleMeNAO/Idea_Development/nose_test_example/choice.py\", line 25, in choice2\r\n",
        "    raise ce.MatrixError(\"Not a valid array\")\r\n",
        "MatrixError: Not a valid array\r\n",
        "\r\n",
        "----------------------------------------------------------------------\r\n",
        "Ran 4 tests in 0.001s\r\n",
        "\r\n",
        "FAILED (errors=2)\r\n"
       ]
      }
     ],
     "prompt_number": 229
    },
    {
     "cell_type": "heading",
     "level": 2,
     "metadata": {},
     "source": [
      "Unit tests with classes in NAO robot code"
     ]
    },
    {
     "cell_type": "markdown",
     "metadata": {},
     "source": [
      "1. Running tests without __init__ and not inheriting ALModule. If inherits ALModule get error \"Could not create a module, as there is no current broker in Python's world\".\n",
      "2. Test methods must start method name with 'test' to run"
     ]
    },
    {
     "cell_type": "code",
     "collapsed": false,
     "input": [
      "%%file Markov_tickles.py\n",
      "# -*- coding: ascii -*-\n",
      "\"\"\" NAO responds to being tickled.\n",
      "\n",
      "\n",
      "\"\"\"\n",
      "\n",
      "import time\n",
      "import sys\n",
      "import numpy as np\n",
      "\n",
      "\n",
      "from naoqi import ALProxy\n",
      "from naoqi import ALBroker\n",
      "from naoqi import ALModule\n",
      "\n",
      "NAO_IP = \"mistcalf.local\"\n",
      "\n",
      "# Global variables to store module instances and proxies\n",
      "MarkovTickle = None\n",
      "\n",
      "class MarkovTickleModule():\n",
      "\t\"\"\" Simple module for tickling NAO. \n",
      "\n",
      "\t\"\"\"\n",
      "\n",
      "\t# def __init__(self, name):\n",
      "\t# \t\"\"\" Initialise module. \n",
      "\n",
      "\t# \t\"\"\"\n",
      "\t# \tALModule.__init__(self, name)\n",
      "\t\t\n",
      "\n",
      "\tdef markovChoice(self, inMatrix):\n",
      "\t\t\"\"\" Chooses a value from a Markov transition matrix.\n",
      "\n",
      "\t\t\"\"\"\n",
      "\t\trandNum = np.random.random()\n",
      "\t\tcum = 0\n",
      "\t\t\n",
      "\t\tif round(np.sum(inMatrix)) != 1:\n",
      "\t\t\t# print \"This is not a p array.\"\n",
      "\t\t\traise ValueError\n",
      "\t\telse:\n",
      "\t\t\tfor index, probability in enumerate(inMatrix):\n",
      "\t\t\t\tcum += probability\n",
      "\t\t\t\tif cum > randNum:\n",
      "\t\t\t\t\treturn index\n",
      "\t\t\n",
      "\tdef mainTask(self):\n",
      "\t\t\"\"\" Temp main task.\n",
      "\n",
      "\t\t\"\"\"\n",
      "\t\t# Run forever\n",
      "\t\twhile True:\n",
      "\t\t\tprint (\"Alive!\")\n",
      "\t\t\tprint \"I choose: \", self.markovChoice([0.25, 0.25, 0.25, 0.25])\n",
      "\t\t\ttime.sleep(1.0)\n",
      "\n",
      "\n",
      "def main():\n",
      "\t\"\"\" Main entry point\n",
      "\n",
      "\t\"\"\"\n",
      "\tmyBroker = ALBroker(\"myBroker\", \"0.0.0.0\", 0, NAO_IP, 9559)\n",
      "\n",
      "\tglobal MarkovTickle\n",
      "\tMarkovTickle = MarkovTickleModule(\"MarkovTickle\")\n",
      "\n",
      "\tprint \"Running, hit CTRL+C to stop script\"\n",
      "\tMarkovTickle.mainTask()\n",
      "\n",
      "\ttry:\n",
      "\t\twhile True:\n",
      "\t\t\ttime.sleep(1)\n",
      "\texcept KeyboardInterrupt:\n",
      "\t\tprint \"Interrupted by user, shutting down\"\n",
      "\t\t# stop any post tasks\n",
      "\t\t# eg void ALModule::stop(const int& id)\n",
      "\t\ttry:\n",
      "\t\t\tmyBroker.shutdown()\n",
      "\t\texcept Exception, e:\n",
      "\t\t\tprint \"Error shutting down broker: \", e\n",
      "\t\ttry:\n",
      "\t\t\tsys.exit(0)\n",
      "\t\texcept Exception, e:\n",
      "\t\t\tprint \"Error exiting system: \", e\n",
      "\n",
      "\n",
      "if __name__ == \"__main__\":\n",
      "\tmain()\n",
      "\t\t"
     ],
     "language": "python",
     "metadata": {},
     "outputs": [
      {
       "output_type": "stream",
       "stream": "stdout",
       "text": [
        "Writing Markov_tickles.py\n"
       ]
      }
     ],
     "prompt_number": 1
    },
    {
     "cell_type": "code",
     "collapsed": false,
     "input": [
      "%%file Markov_tickles_unittest.py\n",
      "# -*- coding: ascii -*-\n",
      "\"\"\" Unit tests using unittest framework for Markov_tickles.py.\n",
      "\n",
      "\"\"\"\n",
      "\n",
      "\n",
      "#from Markov_tickles import MarkovTickleModule as mt\n",
      "from Markov_tickles import MarkovTickleModule\n",
      "import unittest\n",
      "\n",
      "\n",
      "class ToMarkovChoiceGoodInput(unittest.TestCase):\n",
      "\t\"\"\" Markov choice should give known result with known input.\n",
      "\n",
      "\t\"\"\"\n",
      "\n",
      "\tdef setUp(self):\n",
      "\t\tself.mt = MarkovTickleModule()\t\n",
      "\t\n",
      "\tdef testSmallMatrix(self):\n",
      "\t\ta = self.mt.markovChoice([1])\n",
      "\t\tb = 0\n",
      "\t\tself.assertGreaterEqual(a, b)\n",
      "\n",
      "\tdef testLargeMatrix(self):\n",
      "\t\ta = self.mt.markovChoice([0.1, 0.1, 0.1, 0.1, 0.1, 0.1, 0.1, 0.1, 0.1, 0.1])\n",
      "\t\tb = 0\n",
      "\t\tself.assertGreaterEqual(a, b)\n",
      "\n",
      "\n",
      "class ToMarkovChoiceBadInput(unittest.TestCase):\n",
      "\t\"\"\" Markov choice should give error if bad input.\n",
      "\n",
      "\t\"\"\"\n",
      "\n",
      "\tdef setUp(self):\n",
      "\t\tself.mt = MarkovTickleModule()\n",
      "\t\n",
      "\tdef testSmallMatrix(self):\n",
      "\t\ta = self.mt.markovChoice([2])\n",
      "\t\tb = 0\n",
      "\t\tself.assertGreaterEqual(a, b)\n",
      "\n",
      "\tdef testLargeMatrix(self):\n",
      "\t\ta = self.mt.markovChoice([0.9, 0.1, 0.1, 0.1, 0.1, 0.1, 0.1, 0.1, 0.1, 0.1])\n",
      "\t\tb = 0\n",
      "\t\tself.assertGreaterEqual(a, b)\n",
      "\n",
      "\n",
      "if __name__ == \"__main__\":\n",
      "\tunittest.main()\n"
     ],
     "language": "python",
     "metadata": {},
     "outputs": [
      {
       "output_type": "stream",
       "stream": "stdout",
       "text": [
        "Writing Markov_tickles_unittest.py\n"
       ]
      }
     ],
     "prompt_number": 2
    },
    {
     "cell_type": "code",
     "collapsed": false,
     "input": [
      "!python Markov_tickles_unittest.py"
     ],
     "language": "python",
     "metadata": {},
     "outputs": [
      {
       "output_type": "stream",
       "stream": "stdout",
       "text": [
        "EE..\r\n",
        "======================================================================\r\n",
        "ERROR: testLargeMatrix (__main__.ToMarkovChoiceBadInput)\r\n",
        "----------------------------------------------------------------------\r\n",
        "Traceback (most recent call last):\r\n",
        "  File \"Markov_tickles_unittest.py\", line 45, in testLargeMatrix\r\n",
        "    a = self.mt.markovChoice([0.9, 0.1, 0.1, 0.1, 0.1, 0.1, 0.1, 0.1, 0.1, 0.1])\r\n",
        "  File \"/Users/mikemcfarlane/Dropbox/Code/Repositories/Code_sprints/unittest_development/Markov_tickles.py\", line 42, in markovChoice\r\n",
        "    raise ValueError\r\n",
        "ValueError\r\n",
        "\r\n",
        "======================================================================\r\n",
        "ERROR: testSmallMatrix (__main__.ToMarkovChoiceBadInput)\r\n",
        "----------------------------------------------------------------------\r\n",
        "Traceback (most recent call last):\r\n",
        "  File \"Markov_tickles_unittest.py\", line 40, in testSmallMatrix\r\n",
        "    a = self.mt.markovChoice([2])\r\n",
        "  File \"/Users/mikemcfarlane/Dropbox/Code/Repositories/Code_sprints/unittest_development/Markov_tickles.py\", line 42, in markovChoice\r\n",
        "    raise ValueError\r\n",
        "ValueError\r\n",
        "\r\n",
        "----------------------------------------------------------------------\r\n",
        "Ran 4 tests in 0.001s\r\n",
        "\r\n",
        "FAILED (errors=2)\r\n"
       ]
      }
     ],
     "prompt_number": 3
    },
    {
     "cell_type": "markdown",
     "metadata": {},
     "source": [
      "1. Running tests with __init__ and inheriting ALModule. Using standard NAO instance as global variable technique."
     ]
    },
    {
     "cell_type": "code",
     "collapsed": false,
     "input": [
      "%%file Markov_tickles.py\n",
      "# -*- coding: ascii -*-\n",
      "\"\"\" NAO responds to being tickled.\n",
      "\n",
      "\n",
      "\"\"\"\n",
      "\n",
      "import time\n",
      "import sys\n",
      "import numpy as np\n",
      "\n",
      "\n",
      "from naoqi import ALProxy\n",
      "from naoqi import ALBroker\n",
      "from naoqi import ALModule\n",
      "\n",
      "NAO_IP = \"mistcalf.local\"\n",
      "\n",
      "# Global variables to store module instances and proxies\n",
      "MarkovTickle = None\n",
      "\n",
      "class MarkovTickleModule(ALModule):\n",
      "\t\"\"\" Simple module for tickling NAO. \n",
      "\n",
      "\t\"\"\"\n",
      "\n",
      "\tdef __init__(self, name):\n",
      "\t\t\"\"\" Initialise module. \n",
      "\n",
      "\t\t\"\"\"\n",
      "\t\tALModule.__init__(self, name)\n",
      "\t\t\n",
      "\n",
      "\tdef markovChoice(self, inMatrix):\n",
      "\t\t\"\"\" Chooses a value from a Markov transition matrix.\n",
      "\n",
      "\t\t\"\"\"\n",
      "\t\trandNum = np.random.random()\n",
      "\t\tcum = 0\n",
      "\t\t\n",
      "\t\tif round(np.sum(inMatrix)) != 1:\n",
      "\t\t\t# print \"This is not a p array.\"\n",
      "\t\t\traise ValueError\n",
      "\t\telse:\n",
      "\t\t\tfor index, probability in enumerate(inMatrix):\n",
      "\t\t\t\tcum += probability\n",
      "\t\t\t\tif cum > randNum:\n",
      "\t\t\t\t\treturn index\n",
      "\t\t\n",
      "\tdef mainTask(self):\n",
      "\t\t\"\"\" Temp main task.\n",
      "\n",
      "\t\t\"\"\"\n",
      "\t\t# Run forever\n",
      "\t\twhile True:\n",
      "\t\t\tprint (\"Alive!\")\n",
      "\t\t\tprint \"I choose: \", self.markovChoice([0.25, 0.25, 0.25, 0.25])\n",
      "\t\t\ttime.sleep(1.0)\n",
      "\n",
      "\n",
      "def main():\n",
      "\t\"\"\" Main entry point\n",
      "\n",
      "\t\"\"\"\n",
      "\tmyBroker = ALBroker(\"myBroker\", \"0.0.0.0\", 0, NAO_IP, 9559)\n",
      "\n",
      "\tglobal MarkovTickle\n",
      "\tMarkovTickle = MarkovTickleModule(\"MarkovTickle\")\n",
      "\n",
      "\tprint \"Running, hit CTRL+C to stop script\"\n",
      "\tMarkovTickle.mainTask()\n",
      "\n",
      "\ttry:\n",
      "\t\twhile True:\n",
      "\t\t\ttime.sleep(1)\n",
      "\texcept KeyboardInterrupt:\n",
      "\t\tprint \"Interrupted by user, shutting down\"\n",
      "\t\t# stop any post tasks\n",
      "\t\t# eg void ALModule::stop(const int& id)\n",
      "\t\ttry:\n",
      "\t\t\tmyBroker.shutdown()\n",
      "\t\texcept Exception, e:\n",
      "\t\t\tprint \"Error shutting down broker: \", e\n",
      "\t\ttry:\n",
      "\t\t\tsys.exit(0)\n",
      "\t\texcept Exception, e:\n",
      "\t\t\tprint \"Error exiting system: \", e\n",
      "\n",
      "\n",
      "if __name__ == \"__main__\":\n",
      "\tmain()"
     ],
     "language": "python",
     "metadata": {},
     "outputs": [
      {
       "output_type": "stream",
       "stream": "stdout",
       "text": [
        "Overwriting Markov_tickles.py\n"
       ]
      }
     ],
     "prompt_number": 7
    },
    {
     "cell_type": "code",
     "collapsed": false,
     "input": [
      "%%file Markov_tickles_unittest.py\n",
      "# -*- coding: ascii -*-\n",
      "\"\"\" Unit tests using unittest framework for Markov_tickles.py.\n",
      "\n",
      "\"\"\"\n",
      "\n",
      "\n",
      "#from Markov_tickles import MarkovTickleModule as mt\n",
      "from Markov_tickles import MarkovTickleModule\n",
      "import unittest\n",
      "\n",
      "from naoqi import ALProxy\n",
      "from naoqi import ALBroker\n",
      "from naoqi import ALModule\n",
      "\n",
      "NAO_IP = \"mistcalf.local\"\n",
      "\n",
      "# Global variables to store module instances and proxies\n",
      "MarkovTickle = None\n",
      "\n",
      "class ToMarkovChoiceGoodInput(unittest.TestCase):\n",
      "\t\"\"\" Markov choice should give known result with known input.\n",
      "\n",
      "\t\"\"\"\n",
      "\n",
      "\t# def setUp(self):\n",
      "\t# \tself.mt = MarkovTickleModule(\"test\")\n",
      "\n",
      "\tglobal MarkovTickle\t\n",
      "\t\n",
      "\tdef testSmallMatrix(self):\n",
      "\t\ta = MarkovTickle.markovChoice([1])\n",
      "\t\tb = 0\n",
      "\t\tself.assertGreaterEqual(a, b)\n",
      "\n",
      "\tdef testLargeMatrix(self):\n",
      "\t\ta = MarkovTickle.markovChoice([0.1, 0.1, 0.1, 0.1, 0.1, 0.1, 0.1, 0.1, 0.1, 0.1])\n",
      "\t\tb = 0\n",
      "\t\tself.assertGreaterEqual(a, b)\n",
      "\n",
      "\n",
      "class ToMarkovChoiceBadInput(unittest.TestCase):\n",
      "\t\"\"\" Markov choice should give error if bad input.\n",
      "\n",
      "\t\"\"\"\n",
      "\n",
      "\t# def setUp(self):\n",
      "\t# \tself.mt = MarkovTickleModule(\"test\")\n",
      "\n",
      "\tglobal MarkovTickle\n",
      "\t\n",
      "\tdef testSmallMatrix(self):\n",
      "\t\ta = MarkovTickle.markovChoice([2])\n",
      "\t\tb = 0\n",
      "\t\tself.assertGreaterEqual(a, b)\n",
      "\n",
      "\tdef testLargeMatrix(self):\n",
      "\t\ta = MarkovTickle.markovChoice([0.9, 0.1, 0.1, 0.1, 0.1, 0.1, 0.1, 0.1, 0.1, 0.1])\n",
      "\t\tb = 0\n",
      "\t\tself.assertGreaterEqual(a, b)\n",
      "\n",
      "\n",
      "if __name__ == \"__main__\":\n",
      "\tmyBroker = ALBroker(\"myBroker\", \"0.0.0.0\", 0, NAO_IP, 9559)\n",
      "\n",
      "\tglobal MarkovTickle\n",
      "\tMarkovTickle = MarkovTickleModule(\"MarkovTickle\")\n",
      "\n",
      "\tunittest.main()\n",
      "\n",
      "\tmyBroker.shutdown()"
     ],
     "language": "python",
     "metadata": {},
     "outputs": [
      {
       "output_type": "stream",
       "stream": "stdout",
       "text": [
        "Overwriting Markov_tickles_unittest.py\n"
       ]
      }
     ],
     "prompt_number": 8
    },
    {
     "cell_type": "code",
     "collapsed": false,
     "input": [
      "!python Markov_tickles_unittest.py"
     ],
     "language": "python",
     "metadata": {},
     "outputs": [
      {
       "output_type": "stream",
       "stream": "stdout",
       "text": [
        "Markov_tickles_unittest.py:65: SyntaxWarning: name 'MarkovTickle' is assigned to before global declaration\r\n",
        "  global MarkovTickle\r\n"
       ]
      },
      {
       "output_type": "stream",
       "stream": "stdout",
       "text": [
        "inaoqi-broker: construct at 0.0.0.0:0, parent : mistcalf.local:9559\r\n",
        "\u001b[0m\u001b[37m\u001b[0m\u001b[34m[I] \u001b[0m\u001b[47m\u001b[30m4359\u001b[0m \u001b[37mqi.eventloop: \u001b[0mCreating event loop while no qi::Application() is running\r\n",
        "\u001b[0m\u001b[37m\u001b[0m\u001b[34m[I] \u001b[0m\u001b[47m\u001b[30m4359\u001b[0m \u001b[37mqimessaging.session: \u001b[0mSession listener created on tcp://0.0.0.0:0\r\n",
        "\u001b[0m\u001b[37m\u001b[0m\u001b[34m[I] \u001b[0m\u001b[47m\u001b[30m4359\u001b[0m \u001b[37mqi.eventloop: \u001b[0mCreating event loop while no qi::Application() is running\r\n",
        "\u001b[0m\u001b[37m\u001b[0m\u001b[34m[I] \u001b[0m\u001b[47m\u001b[30m4359\u001b[0m \u001b[37mqimessaging.transportserver: \u001b[0mTransportServer will listen on: tcp://10.0.1.152:49810\r\n",
        "\u001b[0m\u001b[37m\u001b[0m\u001b[34m[I] \u001b[0m\u001b[47m\u001b[30m4359\u001b[0m \u001b[37mqimessaging.transportserver: \u001b[0mTransportServer will listen on: tcp://127.0.0.1:49810\r\n",
        "\u001b[0m\u001b[37m\u001b[0m\u001b[34m[I] \u001b[0m\u001b[47m\u001b[30m4359\u001b[0m \u001b[37mqimessaging.transportserver: \u001b[0mTransportServer will listen on: tcp://10.137.0.6:49810\r\n"
       ]
      },
      {
       "output_type": "stream",
       "stream": "stdout",
       "text": [
        "\u001b[0m\u001b[37m\u001b[0m\u001b[33m[W] \u001b[0m\u001b[47m\u001b[30m4359\u001b[0m \u001b[35mqitype.metaobject: \u001b[0mMethod(112) already defined (and overriden): BIND_PYTHON::(m)\r\n",
        "\u001b[0m\u001b[37m\u001b[0m\u001b[33m[W] \u001b[0m\u001b[47m\u001b[30m4359\u001b[0m \u001b[35mqitype.metaobject: \u001b[0mMethod(113) already defined (and overriden): addParam::(m)\r\n",
        "\u001b[0m\u001b[37m\u001b[0m\u001b[33m[W] \u001b[0m\u001b[47m\u001b[30m4359\u001b[0m \u001b[35mqitype.metaobject: \u001b[0mMethod(114) already defined (and overriden): autoBind::(m)\r\n",
        "\u001b[0m\u001b[37m\u001b[0m\u001b[33m[W] \u001b[0m\u001b[47m\u001b[30m4359\u001b[0m \u001b[35mqitype.metaobject: \u001b[0mMethod(100) already defined (and overriden): exit::()\r\n",
        "\u001b[0m\u001b[37m\u001b[0m\u001b[33m[W] \u001b[0m\u001b[47m\u001b[30m4359\u001b[0m \u001b[35mqitype.metaobject: \u001b[0mMethod(115) already defined (and overriden): functionName::(m)\r\n",
        "\u001b[0m\u001b[37m\u001b[0m\u001b[33m[W] \u001b[0m\u001b[47m\u001b[30m4359\u001b[0m \u001b[35mqitype.metaobject: \u001b[0mMethod(110) already defined (and overriden): getBrokerName::()\r\n",
        "\u001b[0m\u001b[37m\u001b[0m\u001b[33m[W] \u001b[0m\u001b[47m\u001b[30m4359\u001b[0m \u001b[35mqitype.metaobject: \u001b[0mMethod(116) already defined (and overriden): getModule::(m)\r\n",
        "\u001b[0m\u001b[37m\u001b[0m\u001b[33m[W] \u001b[0m\u001b[47m\u001b[30m4359\u001b[0m \u001b[35mqitype.metaobject: \u001b[0mMethod(119) already defined (and overriden): markovChoice::(m)\r\n",
        "\u001b[0m\u001b[37m\u001b[0m\u001b[33m[W] \u001b[0m\u001b[47m\u001b[30m4359\u001b[0m \u001b[35mqitype.metaobject: \u001b[0mMethod(119) already defined (and overriden): markovChoice::(m)\r\n",
        "\u001b[0m\u001b[37m\u001b[0m\u001b[33m[W] \u001b[0m\u001b[47m\u001b[30m4359\u001b[0m \u001b[35mqitype.metaobject: \u001b[0mMethod(119) already defined (and overriden): markovChoice::(m)\r\n",
        "\u001b[0m\u001b[37m\u001b[0m\u001b[33m[W] \u001b[0m\u001b[47m\u001b[30m4359\u001b[0m \u001b[35mqitype.metaobject: \u001b[0mMethod(119) already defined (and overriden): markovChoice::(m)\r\n",
        "\u001b[0m\u001b[37m\u001b[0m\u001b[33m[W] \u001b[0m\u001b[47m\u001b[30m4359\u001b[0m \u001b[35mqitype.metaobject: \u001b[0mMethod(119) already defined (and overriden): markovChoice::(m)\r\n",
        "\u001b[0m\u001b[37m\u001b[0m\u001b[33m[W] \u001b[0m\u001b[47m\u001b[30m4359\u001b[0m \u001b[35mqitype.metaobject: \u001b[0mMethod(121) already defined (and overriden): pythonChanged::(mmm)\r\n",
        "\u001b[0m\u001b[37m\u001b[0m\u001b[33m[W] \u001b[0m\u001b[47m\u001b[30m4359\u001b[0m \u001b[35mqitype.metaobject: \u001b[0mMethod(121) already defined (and overriden): pythonChanged::(mmm)\r\n",
        "\u001b[0m\u001b[37m\u001b[0m\u001b[33m[W] \u001b[0m\u001b[47m\u001b[30m4359\u001b[0m \u001b[35mqitype.metaobject: \u001b[0mMethod(121) already defined (and overriden): pythonChanged::(mmm)\r\n",
        "\u001b[0m\u001b[37m\u001b[0m\u001b[33m[W] \u001b[0m\u001b[47m\u001b[30m4359\u001b[0m \u001b[35mqitype.metaobject: \u001b[0mMethod(123) already defined (and overriden): setModuleDescription::(m)\r\n",
        "\u001b[0m\u001b[37m\u001b[0m\u001b[33m[W] \u001b[0m\u001b[47m\u001b[30m4359\u001b[0m \u001b[35mqitype.metaobject: \u001b[0mMethod(102) already defined (and overriden): version::()\r\n"
       ]
      },
      {
       "output_type": "stream",
       "stream": "stdout",
       "text": [
        "EE..\r\n",
        "======================================================================\r\n",
        "ERROR: testLargeMatrix (__main__.ToMarkovChoiceBadInput)\r\n",
        "----------------------------------------------------------------------\r\n",
        "Traceback (most recent call last):\r\n",
        "  File \"Markov_tickles_unittest.py\", line 57, in testLargeMatrix\r\n",
        "    a = MarkovTickle.markovChoice([0.9, 0.1, 0.1, 0.1, 0.1, 0.1, 0.1, 0.1, 0.1, 0.1])\r\n",
        "  File \"/Users/mikemcfarlane/Dropbox/Code/Repositories/Code_sprints/unittest_development/Markov_tickles.py\", line 42, in markovChoice\r\n",
        "    raise ValueError\r\n",
        "ValueError\r\n",
        "\r\n",
        "======================================================================\r\n",
        "ERROR: testSmallMatrix (__main__.ToMarkovChoiceBadInput)\r\n",
        "----------------------------------------------------------------------\r\n",
        "Traceback (most recent call last):\r\n",
        "  File \"Markov_tickles_unittest.py\", line 52, in testSmallMatrix\r\n",
        "    a = MarkovTickle.markovChoice([2])\r\n",
        "  File \"/Users/mikemcfarlane/Dropbox/Code/Repositories/Code_sprints/unittest_development/Markov_tickles.py\", line 42, in markovChoice\r\n",
        "    raise ValueError\r\n",
        "ValueError\r\n",
        "\r\n",
        "----------------------------------------------------------------------\r\n",
        "Ran 4 tests in 0.001s\r\n",
        "\r\n",
        "FAILED (errors=2)\r\n"
       ]
      }
     ],
     "prompt_number": 9
    },
    {
     "cell_type": "markdown",
     "metadata": {},
     "source": [
      "1. Running tests with init and inheriting ALModule. Creating instance and setting up broker in setUp(), then destroying instance and stopping broker in tearDown().\n",
      "2. This is significantly slower but possible better practise in more complex tests to prevent variable value problems."
     ]
    },
    {
     "cell_type": "code",
     "collapsed": false,
     "input": [
      "%%file Markov_tickles.py\n",
      "# -*- coding: ascii -*-\n",
      "\"\"\" NAO responds to being tickled.\n",
      "\n",
      "\n",
      "\"\"\"\n",
      "\n",
      "import time\n",
      "import sys\n",
      "import numpy as np\n",
      "\n",
      "\n",
      "from naoqi import ALProxy\n",
      "from naoqi import ALBroker\n",
      "from naoqi import ALModule\n",
      "\n",
      "NAO_IP = \"mistcalf.local\"\n",
      "\n",
      "# Global variables to store module instances and proxies\n",
      "MarkovTickle = None\n",
      "\n",
      "class MarkovTickleModule(ALModule):\n",
      "\t\"\"\" Simple module for tickling NAO. \n",
      "\n",
      "\t\"\"\"\n",
      "\n",
      "\tdef __init__(self, name):\n",
      "\t\t\"\"\" Initialise module. \n",
      "\n",
      "\t\t\"\"\"\n",
      "\t\tALModule.__init__(self, name)\n",
      "\t\t\n",
      "\n",
      "\tdef markovChoice(self, inMatrix):\n",
      "\t\t\"\"\" Chooses a value from a Markov transition matrix.\n",
      "\n",
      "\t\t\"\"\"\n",
      "\t\trandNum = np.random.random()\n",
      "\t\tcum = 0\n",
      "\t\t\n",
      "\t\tif round(np.sum(inMatrix)) != 1:\n",
      "\t\t\t# print \"This is not a p array.\"\n",
      "\t\t\traise ValueError\n",
      "\t\telse:\n",
      "\t\t\tfor index, probability in enumerate(inMatrix):\n",
      "\t\t\t\tcum += probability\n",
      "\t\t\t\tif cum > randNum:\n",
      "\t\t\t\t\treturn index\n",
      "\t\t\n",
      "\tdef mainTask(self):\n",
      "\t\t\"\"\" Temp main task.\n",
      "\n",
      "\t\t\"\"\"\n",
      "\t\t# Run forever\n",
      "\t\twhile True:\n",
      "\t\t\tprint (\"Alive!\")\n",
      "\t\t\tprint \"I choose: \", self.markovChoice([0.25, 0.25, 0.25, 0.25])\n",
      "\t\t\ttime.sleep(1.0)\n",
      "\n",
      "\n",
      "def main():\n",
      "\t\"\"\" Main entry point\n",
      "\n",
      "\t\"\"\"\n",
      "\tmyBroker = ALBroker(\"myBroker\", \"0.0.0.0\", 0, NAO_IP, 9559)\n",
      "\n",
      "\tglobal MarkovTickle\n",
      "\tMarkovTickle = MarkovTickleModule(\"MarkovTickle\")\n",
      "\n",
      "\tprint \"Running, hit CTRL+C to stop script\"\n",
      "\tMarkovTickle.mainTask()\n",
      "\n",
      "\ttry:\n",
      "\t\twhile True:\n",
      "\t\t\ttime.sleep(1)\n",
      "\texcept KeyboardInterrupt:\n",
      "\t\tprint \"Interrupted by user, shutting down\"\n",
      "\t\t# stop any post tasks\n",
      "\t\t# eg void ALModule::stop(const int& id)\n",
      "\t\ttry:\n",
      "\t\t\tmyBroker.shutdown()\n",
      "\t\texcept Exception, e:\n",
      "\t\t\tprint \"Error shutting down broker: \", e\n",
      "\t\ttry:\n",
      "\t\t\tsys.exit(0)\n",
      "\t\texcept Exception, e:\n",
      "\t\t\tprint \"Error exiting system: \", e\n",
      "\n",
      "\n",
      "if __name__ == \"__main__\":\n",
      "\tmain()"
     ],
     "language": "python",
     "metadata": {},
     "outputs": [
      {
       "output_type": "stream",
       "stream": "stdout",
       "text": [
        "Overwriting Markov_tickles.py\n"
       ]
      }
     ],
     "prompt_number": 10
    },
    {
     "cell_type": "code",
     "collapsed": false,
     "input": [
      "%%file Markov_tickles_unittest.py\n",
      "# -*- coding: ascii -*-\n",
      "\"\"\" Unit tests using unittest framework for Markov_tickles.py.\n",
      "\n",
      "\"\"\"\n",
      "\n",
      "\n",
      "#from Markov_tickles import MarkovTickleModule as mt\n",
      "from Markov_tickles import MarkovTickleModule\n",
      "import unittest\n",
      "\n",
      "from naoqi import ALProxy\n",
      "from naoqi import ALBroker\n",
      "from naoqi import ALModule\n",
      "\n",
      "NAO_IP = \"mistcalf.local\"\n",
      "\n",
      "class ToMarkovChoiceGoodInput(unittest.TestCase):\n",
      "\t\"\"\" Markov choice should give known result with known input.\n",
      "\n",
      "\t\"\"\"\n",
      "\n",
      "\tdef setUp(self):\n",
      "\t\tself.myBroker = ALBroker(\"myBroker\", \"0.0.0.0\", 0, NAO_IP, 9559)\n",
      "\t\tself.MarkovTickle = MarkovTickleModule(\"MarkovTickle\")\n",
      "\n",
      "\tdef tearDown(self):\n",
      "\t\t# self.MarkovTickle.dispose()\n",
      "\t\tself.MarkovTickle = None\n",
      "\t\tself.myBroker.shutdown()\n",
      "\t\t\n",
      "\tdef testSmallMatrix(self):\n",
      "\t\ta = self.MarkovTickle.markovChoice([1])\n",
      "\t\tb = 0\n",
      "\t\tself.assertGreaterEqual(a, b)\n",
      "\n",
      "\tdef testLargeMatrix(self):\n",
      "\t\ta = self.MarkovTickle.markovChoice([0.1, 0.1, 0.1, 0.1, 0.1, 0.1, 0.1, 0.1, 0.1, 0.1])\n",
      "\t\tb = 0\n",
      "\t\tself.assertGreaterEqual(a, b)\n",
      "\n",
      "\n",
      "class ToMarkovChoiceBadInput(unittest.TestCase):\n",
      "\t\"\"\" Markov choice should give error if bad input.\n",
      "\n",
      "\t\"\"\"\n",
      "\n",
      "\tdef setUp(self):\n",
      "\t\tself.myBroker = ALBroker(\"myBroker\", \"0.0.0.0\", 0, NAO_IP, 9559)\n",
      "\t\tself.MarkovTickle = MarkovTickleModule(\"MarkovTickle\")\n",
      "\n",
      "\tdef tearDown(self):\n",
      "\t\t# self.MarkovTickle.dispose()\n",
      "\t\tself.MarkovTickle = None\n",
      "\t\tself.myBroker.shutdown()\n",
      "\t\n",
      "\tdef testSmallMatrix(self):\n",
      "\t\ta = self.MarkovTickle.markovChoice([2])\n",
      "\t\tb = 0\n",
      "\t\tself.assertGreaterEqual(a, b)\n",
      "\n",
      "\tdef testLargeMatrix(self):\n",
      "\t\ta = self.MarkovTickle.markovChoice([0.9, 0.1, 0.1, 0.1, 0.1, 0.1, 0.1, 0.1, 0.1, 0.1])\n",
      "\t\tb = 0\n",
      "\t\tself.assertGreaterEqual(a, b)\n",
      "\n",
      "\n",
      "if __name__ == \"__main__\":\n",
      "\tunittest.main()"
     ],
     "language": "python",
     "metadata": {},
     "outputs": [
      {
       "output_type": "stream",
       "stream": "stdout",
       "text": [
        "Overwriting Markov_tickles_unittest.py\n"
       ]
      }
     ],
     "prompt_number": 11
    },
    {
     "cell_type": "code",
     "collapsed": false,
     "input": [
      "!python Markov_tickles_unittest.py"
     ],
     "language": "python",
     "metadata": {},
     "outputs": [
      {
       "output_type": "stream",
       "stream": "stdout",
       "text": [
        "inaoqi-broker: construct at 0.0.0.0:0, parent : mistcalf.local:9559\r\n",
        "\u001b[0m\u001b[37m\u001b[0m\u001b[34m[I] \u001b[0m\u001b[47m\u001b[30m4359\u001b[0m \u001b[37mqi.eventloop: \u001b[0mCreating event loop while no qi::Application() is running\r\n",
        "\u001b[0m\u001b[37m\u001b[0m\u001b[34m[I] \u001b[0m\u001b[47m\u001b[30m4359\u001b[0m \u001b[37mqimessaging.session: \u001b[0mSession listener created on tcp://0.0.0.0:0\r\n",
        "\u001b[0m\u001b[37m\u001b[0m\u001b[34m[I] \u001b[0m\u001b[47m\u001b[30m4359\u001b[0m \u001b[37mqi.eventloop: \u001b[0mCreating event loop while no qi::Application() is running\r\n",
        "\u001b[0m\u001b[37m\u001b[0m\u001b[34m[I] \u001b[0m\u001b[47m\u001b[30m4359\u001b[0m \u001b[37mqimessaging.transportserver: \u001b[0mTransportServer will listen on: tcp://10.0.1.152:50037\r\n",
        "\u001b[0m\u001b[37m\u001b[0m\u001b[34m[I] \u001b[0m\u001b[47m\u001b[30m4359\u001b[0m \u001b[37mqimessaging.transportserver: \u001b[0mTransportServer will listen on: tcp://127.0.0.1:50037\r\n",
        "\u001b[0m\u001b[37m\u001b[0m\u001b[34m[I] \u001b[0m\u001b[47m\u001b[30m4359\u001b[0m \u001b[37mqimessaging.transportserver: \u001b[0mTransportServer will listen on: tcp://10.137.0.6:50037\r\n"
       ]
      },
      {
       "output_type": "stream",
       "stream": "stdout",
       "text": [
        "\u001b[0m\u001b[37m\u001b[0m\u001b[33m[W] \u001b[0m\u001b[47m\u001b[30m4359\u001b[0m \u001b[35mqitype.metaobject: \u001b[0mMethod(112) already defined (and overriden): BIND_PYTHON::(m)\r\n",
        "\u001b[0m\u001b[37m\u001b[0m\u001b[33m[W] \u001b[0m\u001b[47m\u001b[30m4359\u001b[0m \u001b[35mqitype.metaobject: \u001b[0mMethod(113) already defined (and overriden): addParam::(m)\r\n",
        "\u001b[0m\u001b[37m\u001b[0m\u001b[33m[W] \u001b[0m\u001b[47m\u001b[30m4359\u001b[0m \u001b[35mqitype.metaobject: \u001b[0mMethod(114) already defined (and overriden): autoBind::(m)\r\n",
        "\u001b[0m\u001b[37m\u001b[0m\u001b[33m[W] \u001b[0m\u001b[47m\u001b[30m4359\u001b[0m \u001b[35mqitype.metaobject: \u001b[0mMethod(100) already defined (and overriden): exit::()\r\n",
        "\u001b[0m\u001b[37m\u001b[0m\u001b[33m[W] \u001b[0m\u001b[47m\u001b[30m4359\u001b[0m \u001b[35mqitype.metaobject: \u001b[0mMethod(115) already defined (and overriden): functionName::(m)\r\n",
        "\u001b[0m\u001b[37m\u001b[0m\u001b[33m[W] \u001b[0m\u001b[47m\u001b[30m4359\u001b[0m \u001b[35mqitype.metaobject: \u001b[0mMethod(110) already defined (and overriden): getBrokerName::()\r\n",
        "\u001b[0m\u001b[37m\u001b[0m\u001b[33m[W] \u001b[0m\u001b[47m\u001b[30m4359\u001b[0m \u001b[35mqitype.metaobject: \u001b[0mMethod(116) already defined (and overriden): getModule::(m)\r\n",
        "\u001b[0m\u001b[37m\u001b[0m\u001b[33m[W] \u001b[0m\u001b[47m\u001b[30m4359\u001b[0m \u001b[35mqitype.metaobject: \u001b[0mMethod(119) already defined (and overriden): markovChoice::(m)\r\n",
        "\u001b[0m\u001b[37m\u001b[0m\u001b[33m[W] \u001b[0m\u001b[47m\u001b[30m4359\u001b[0m \u001b[35mqitype.metaobject: \u001b[0mMethod(119) already defined (and overriden): markovChoice::(m)\r\n",
        "\u001b[0m\u001b[37m\u001b[0m\u001b[33m[W] \u001b[0m\u001b[47m\u001b[30m4359\u001b[0m \u001b[35mqitype.metaobject: \u001b[0mMethod(119) already defined (and overriden): markovChoice::(m)\r\n",
        "\u001b[0m\u001b[37m\u001b[0m\u001b[33m[W] \u001b[0m\u001b[47m\u001b[30m4359\u001b[0m \u001b[35mqitype.metaobject: \u001b[0mMethod(119) already defined (and overriden): markovChoice::(m)\r\n",
        "\u001b[0m\u001b[37m\u001b[0m\u001b[33m[W] \u001b[0m\u001b[47m\u001b[30m4359\u001b[0m \u001b[35mqitype.metaobject: \u001b[0mMethod(119) already defined (and overriden): markovChoice::(m)\r\n",
        "\u001b[0m\u001b[37m\u001b[0m\u001b[33m[W] \u001b[0m\u001b[47m\u001b[30m4359\u001b[0m \u001b[35mqitype.metaobject: \u001b[0mMethod(121) already defined (and overriden): pythonChanged::(mmm)\r\n",
        "\u001b[0m\u001b[37m\u001b[0m\u001b[33m[W] \u001b[0m\u001b[47m\u001b[30m4359\u001b[0m \u001b[35mqitype.metaobject: \u001b[0mMethod(121) already defined (and overriden): pythonChanged::(mmm)\r\n",
        "\u001b[0m\u001b[37m\u001b[0m\u001b[33m[W] \u001b[0m\u001b[47m\u001b[30m4359\u001b[0m \u001b[35mqitype.metaobject: \u001b[0mMethod(121) already defined (and overriden): pythonChanged::(mmm)\r\n",
        "\u001b[0m\u001b[37m\u001b[0m\u001b[33m[W] \u001b[0m\u001b[47m\u001b[30m4359\u001b[0m \u001b[35mqitype.metaobject: \u001b[0mMethod(123) already defined (and overriden): setModuleDescription::(m)\r\n",
        "\u001b[0m\u001b[37m\u001b[0m\u001b[33m[W] \u001b[0m\u001b[47m\u001b[30m4359\u001b[0m \u001b[35mqitype.metaobject: \u001b[0mMethod(102) already defined (and overriden): version::()\r\n",
        "E\u001b[0m\u001b[37m\u001b[0m\u001b[34m[I] \u001b[0m\u001b[47m\u001b[30m4359\u001b[0m \u001b[33mbehavior.inaoqi: \u001b[0mStop broker myBroker\r\n",
        "\r\n"
       ]
      },
      {
       "output_type": "stream",
       "stream": "stdout",
       "text": [
        "inaoqi-broker: construct at 0.0.0.0:0, parent : mistcalf.local:9559\r\n",
        "\u001b[0m\u001b[37m\u001b[0m\u001b[34m[I] \u001b[0m\u001b[47m\u001b[30m4359\u001b[0m \u001b[37mqimessaging.session: \u001b[0mSession listener created on tcp://0.0.0.0:0\r\n",
        "\u001b[0m\u001b[37m\u001b[0m\u001b[34m[I] \u001b[0m\u001b[47m\u001b[30m4359\u001b[0m \u001b[37mqimessaging.transportserver: \u001b[0mTransportServer will listen on: tcp://10.0.1.152:50039\r\n",
        "\u001b[0m\u001b[37m\u001b[0m\u001b[34m[I] \u001b[0m\u001b[47m\u001b[30m4359\u001b[0m \u001b[37mqimessaging.transportserver: \u001b[0mTransportServer will listen on: tcp://127.0.0.1:50039\r\n",
        "\u001b[0m\u001b[37m\u001b[0m\u001b[34m[I] \u001b[0m\u001b[47m\u001b[30m4359\u001b[0m \u001b[37mqimessaging.transportserver: \u001b[0mTransportServer will listen on: tcp://10.137.0.6:50039\r\n"
       ]
      },
      {
       "output_type": "stream",
       "stream": "stdout",
       "text": [
        "\u001b[0m\u001b[37m\u001b[0m\u001b[33m[W] \u001b[0m\u001b[47m\u001b[30m4359\u001b[0m \u001b[35mqitype.metaobject: \u001b[0mMethod(112) already defined (and overriden): BIND_PYTHON::(m)\r\n",
        "\u001b[0m\u001b[37m\u001b[0m\u001b[33m[W] \u001b[0m\u001b[47m\u001b[30m4359\u001b[0m \u001b[35mqitype.metaobject: \u001b[0mMethod(113) already defined (and overriden): addParam::(m)\r\n",
        "\u001b[0m\u001b[37m\u001b[0m\u001b[33m[W] \u001b[0m\u001b[47m\u001b[30m4359\u001b[0m \u001b[35mqitype.metaobject: \u001b[0mMethod(114) already defined (and overriden): autoBind::(m)\r\n",
        "\u001b[0m\u001b[37m\u001b[0m\u001b[33m[W] \u001b[0m\u001b[47m\u001b[30m4359\u001b[0m \u001b[35mqitype.metaobject: \u001b[0mMethod(100) already defined (and overriden): exit::()\r\n",
        "\u001b[0m\u001b[37m\u001b[0m\u001b[33m[W] \u001b[0m\u001b[47m\u001b[30m4359\u001b[0m \u001b[35mqitype.metaobject: \u001b[0mMethod(115) already defined (and overriden): functionName::(m)\r\n",
        "\u001b[0m\u001b[37m\u001b[0m\u001b[33m[W] \u001b[0m\u001b[47m\u001b[30m4359\u001b[0m \u001b[35mqitype.metaobject: \u001b[0mMethod(110) already defined (and overriden): getBrokerName::()\r\n",
        "\u001b[0m\u001b[37m\u001b[0m\u001b[33m[W] \u001b[0m\u001b[47m\u001b[30m4359\u001b[0m \u001b[35mqitype.metaobject: \u001b[0mMethod(116) already defined (and overriden): getModule::(m)\r\n",
        "\u001b[0m\u001b[37m\u001b[0m\u001b[33m[W] \u001b[0m\u001b[47m\u001b[30m4359\u001b[0m \u001b[35mqitype.metaobject: \u001b[0mMethod(119) already defined (and overriden): markovChoice::(m)\r\n",
        "\u001b[0m\u001b[37m\u001b[0m\u001b[33m[W] \u001b[0m\u001b[47m\u001b[30m4359\u001b[0m \u001b[35mqitype.metaobject: \u001b[0mMethod(119) already defined (and overriden): markovChoice::(m)\r\n",
        "\u001b[0m\u001b[37m\u001b[0m\u001b[33m[W] \u001b[0m\u001b[47m\u001b[30m4359\u001b[0m \u001b[35mqitype.metaobject: \u001b[0mMethod(119) already defined (and overriden): markovChoice::(m)\r\n",
        "\u001b[0m\u001b[37m\u001b[0m\u001b[33m[W] \u001b[0m\u001b[47m\u001b[30m4359\u001b[0m \u001b[35mqitype.metaobject: \u001b[0mMethod(119) already defined (and overriden): markovChoice::(m)\r\n",
        "\u001b[0m\u001b[37m\u001b[0m\u001b[33m[W] \u001b[0m\u001b[47m\u001b[30m4359\u001b[0m \u001b[35mqitype.metaobject: \u001b[0mMethod(119) already defined (and overriden): markovChoice::(m)\r\n",
        "\u001b[0m\u001b[37m\u001b[0m\u001b[33m[W] \u001b[0m\u001b[47m\u001b[30m4359\u001b[0m \u001b[35mqitype.metaobject: \u001b[0mMethod(121) already defined (and overriden): pythonChanged::(mmm)\r\n",
        "\u001b[0m\u001b[37m\u001b[0m\u001b[33m[W] \u001b[0m\u001b[47m\u001b[30m4359\u001b[0m \u001b[35mqitype.metaobject: \u001b[0mMethod(121) already defined (and overriden): pythonChanged::(mmm)\r\n",
        "\u001b[0m\u001b[37m\u001b[0m\u001b[33m[W] \u001b[0m\u001b[47m\u001b[30m4359\u001b[0m \u001b[35mqitype.metaobject: \u001b[0mMethod(121) already defined (and overriden): pythonChanged::(mmm)\r\n",
        "\u001b[0m\u001b[37m\u001b[0m\u001b[33m[W] \u001b[0m\u001b[47m\u001b[30m4359\u001b[0m \u001b[35mqitype.metaobject: \u001b[0mMethod(123) already defined (and overriden): setModuleDescription::(m)\r\n",
        "\u001b[0m\u001b[37m\u001b[0m\u001b[33m[W] \u001b[0m\u001b[47m\u001b[30m4359\u001b[0m \u001b[35mqitype.metaobject: \u001b[0mMethod(102) already defined (and overriden): version::()\r\n"
       ]
      },
      {
       "output_type": "stream",
       "stream": "stdout",
       "text": [
        "E\u001b[0m\u001b[37m\u001b[0m\u001b[34m[I] \u001b[0m\u001b[47m\u001b[30m4359\u001b[0m \u001b[33mbehavior.inaoqi: \u001b[0mStop broker myBroker\r\n",
        "\r\n",
        "inaoqi-broker: construct at 0.0.0.0:0, parent : mistcalf.local:9559\r\n",
        "\u001b[0m\u001b[37m\u001b[0m\u001b[34m[I] \u001b[0m\u001b[47m\u001b[30m4359\u001b[0m \u001b[37mqimessaging.session: \u001b[0mSession listener created on tcp://0.0.0.0:0\r\n",
        "\u001b[0m\u001b[37m\u001b[0m\u001b[34m[I] \u001b[0m\u001b[47m\u001b[30m4359\u001b[0m \u001b[37mqimessaging.transportserver: \u001b[0mTransportServer will listen on: tcp://10.0.1.152:50042\r\n",
        "\u001b[0m\u001b[37m\u001b[0m\u001b[34m[I] \u001b[0m\u001b[47m\u001b[30m4359\u001b[0m \u001b[37mqimessaging.transportserver: \u001b[0mTransportServer will listen on: tcp://127.0.0.1:50042\r\n",
        "\u001b[0m\u001b[37m\u001b[0m\u001b[34m[I] \u001b[0m\u001b[47m\u001b[30m4359\u001b[0m \u001b[37mqimessaging.transportserver: \u001b[0mTransportServer will listen on: tcp://10.137.0.6:50042\r\n"
       ]
      },
      {
       "output_type": "stream",
       "stream": "stdout",
       "text": [
        "\u001b[0m\u001b[37m\u001b[0m\u001b[33m[W] \u001b[0m\u001b[47m\u001b[30m4359\u001b[0m \u001b[35mqitype.metaobject: \u001b[0mMethod(112) already defined (and overriden): BIND_PYTHON::(m)\r\n",
        "\u001b[0m\u001b[37m\u001b[0m\u001b[33m[W] \u001b[0m\u001b[47m\u001b[30m4359\u001b[0m \u001b[35mqitype.metaobject: \u001b[0mMethod(113) already defined (and overriden): addParam::(m)\r\n",
        "\u001b[0m\u001b[37m\u001b[0m\u001b[33m[W] \u001b[0m\u001b[47m\u001b[30m4359\u001b[0m \u001b[35mqitype.metaobject: \u001b[0mMethod(114) already defined (and overriden): autoBind::(m)\r\n",
        "\u001b[0m\u001b[37m\u001b[0m\u001b[33m[W] \u001b[0m\u001b[47m\u001b[30m4359\u001b[0m \u001b[35mqitype.metaobject: \u001b[0mMethod(100) already defined (and overriden): exit::()\r\n",
        "\u001b[0m\u001b[37m\u001b[0m\u001b[33m[W] \u001b[0m\u001b[47m\u001b[30m4359\u001b[0m \u001b[35mqitype.metaobject: \u001b[0mMethod(115) already defined (and overriden): functionName::(m)\r\n",
        "\u001b[0m\u001b[37m\u001b[0m\u001b[33m[W] \u001b[0m\u001b[47m\u001b[30m4359\u001b[0m \u001b[35mqitype.metaobject: \u001b[0mMethod(110) already defined (and overriden): getBrokerName::()\r\n",
        "\u001b[0m\u001b[37m\u001b[0m\u001b[33m[W] \u001b[0m\u001b[47m\u001b[30m4359\u001b[0m \u001b[35mqitype.metaobject: \u001b[0mMethod(116) already defined (and overriden): getModule::(m)\r\n",
        "\u001b[0m\u001b[37m\u001b[0m\u001b[33m[W] \u001b[0m\u001b[47m\u001b[30m4359\u001b[0m \u001b[35mqitype.metaobject: \u001b[0mMethod(119) already defined (and overriden): markovChoice::(m)\r\n",
        "\u001b[0m\u001b[37m\u001b[0m\u001b[33m[W] \u001b[0m\u001b[47m\u001b[30m4359\u001b[0m \u001b[35mqitype.metaobject: \u001b[0mMethod(119) already defined (and overriden): markovChoice::(m)\r\n",
        "\u001b[0m\u001b[37m\u001b[0m\u001b[33m[W] \u001b[0m\u001b[47m\u001b[30m4359\u001b[0m \u001b[35mqitype.metaobject: \u001b[0mMethod(119) already defined (and overriden): markovChoice::(m)\r\n",
        "\u001b[0m\u001b[37m\u001b[0m\u001b[33m[W] \u001b[0m\u001b[47m\u001b[30m4359\u001b[0m \u001b[35mqitype.metaobject: \u001b[0mMethod(119) already defined (and overriden): markovChoice::(m)\r\n",
        "\u001b[0m\u001b[37m\u001b[0m\u001b[33m[W] \u001b[0m\u001b[47m\u001b[30m4359\u001b[0m \u001b[35mqitype.metaobject: \u001b[0mMethod(119) already defined (and overriden): markovChoice::(m)\r\n",
        "\u001b[0m\u001b[37m\u001b[0m\u001b[33m[W] \u001b[0m\u001b[47m\u001b[30m4359\u001b[0m \u001b[35mqitype.metaobject: \u001b[0mMethod(121) already defined (and overriden): pythonChanged::(mmm)\r\n",
        "\u001b[0m\u001b[37m\u001b[0m\u001b[33m[W] \u001b[0m\u001b[47m\u001b[30m4359\u001b[0m \u001b[35mqitype.metaobject: \u001b[0mMethod(121) already defined (and overriden): pythonChanged::(mmm)\r\n",
        "\u001b[0m\u001b[37m\u001b[0m\u001b[33m[W] \u001b[0m\u001b[47m\u001b[30m4359\u001b[0m \u001b[35mqitype.metaobject: \u001b[0mMethod(121) already defined (and overriden): pythonChanged::(mmm)\r\n",
        "\u001b[0m\u001b[37m\u001b[0m\u001b[33m[W] \u001b[0m\u001b[47m\u001b[30m4359\u001b[0m \u001b[35mqitype.metaobject: \u001b[0mMethod(123) already defined (and overriden): setModuleDescription::(m)\r\n",
        "\u001b[0m\u001b[37m\u001b[0m\u001b[33m[W] \u001b[0m\u001b[47m\u001b[30m4359\u001b[0m \u001b[35mqitype.metaobject: \u001b[0mMethod(102) already defined (and overriden): version::()\r\n"
       ]
      },
      {
       "output_type": "stream",
       "stream": "stdout",
       "text": [
        "\u001b[0m\u001b[37m\u001b[0m\u001b[34m[I] \u001b[0m\u001b[47m\u001b[30m4359\u001b[0m \u001b[33mbehavior.inaoqi: \u001b[0mStop broker myBroker\r\n",
        "\r\n",
        ".inaoqi-broker: construct at 0.0.0.0:0, parent : mistcalf.local:9559\r\n"
       ]
      },
      {
       "output_type": "stream",
       "stream": "stdout",
       "text": [
        "\u001b[0m\u001b[37m\u001b[0m\u001b[34m[I] \u001b[0m\u001b[47m\u001b[30m4359\u001b[0m \u001b[37mqimessaging.session: \u001b[0mSession listener created on tcp://0.0.0.0:0\r\n",
        "\u001b[0m\u001b[37m\u001b[0m\u001b[34m[I] \u001b[0m\u001b[47m\u001b[30m4359\u001b[0m \u001b[37mqimessaging.transportserver: \u001b[0mTransportServer will listen on: tcp://10.0.1.152:50044\r\n",
        "\u001b[0m\u001b[37m\u001b[0m\u001b[34m[I] \u001b[0m\u001b[47m\u001b[30m4359\u001b[0m \u001b[37mqimessaging.transportserver: \u001b[0mTransportServer will listen on: tcp://127.0.0.1:50044\r\n",
        "\u001b[0m\u001b[37m\u001b[0m\u001b[34m[I] \u001b[0m\u001b[47m\u001b[30m4359\u001b[0m \u001b[37mqimessaging.transportserver: \u001b[0mTransportServer will listen on: tcp://10.137.0.6:50044\r\n",
        "\u001b[0m\u001b[37m\u001b[0m\u001b[33m[W] \u001b[0m\u001b[47m\u001b[30m4359\u001b[0m \u001b[35mqitype.metaobject: \u001b[0mMethod(112) already defined (and overriden): BIND_PYTHON::(m)\r\n",
        "\u001b[0m\u001b[37m\u001b[0m\u001b[33m[W] \u001b[0m\u001b[47m\u001b[30m4359\u001b[0m \u001b[35mqitype.metaobject: \u001b[0mMethod(113) already defined (and overriden): addParam::(m)\r\n",
        "\u001b[0m\u001b[37m\u001b[0m\u001b[33m[W] \u001b[0m\u001b[47m\u001b[30m4359\u001b[0m \u001b[35mqitype.metaobject: \u001b[0mMethod(114) already defined (and overriden): autoBind::(m)\r\n",
        "\u001b[0m\u001b[37m\u001b[0m\u001b[33m[W] \u001b[0m\u001b[47m\u001b[30m4359\u001b[0m \u001b[35mqitype.metaobject: \u001b[0mMethod(100) already defined (and overriden): exit::()\r\n",
        "\u001b[0m\u001b[37m\u001b[0m\u001b[33m[W] \u001b[0m\u001b[47m\u001b[30m4359\u001b[0m \u001b[35mqitype.metaobject: \u001b[0mMethod(115) already defined (and overriden): functionName::(m)\r\n",
        "\u001b[0m\u001b[37m\u001b[0m\u001b[33m[W] \u001b[0m\u001b[47m\u001b[30m4359\u001b[0m \u001b[35mqitype.metaobject: \u001b[0mMethod(110) already defined (and overriden): getBrokerName::()\r\n",
        "\u001b[0m\u001b[37m\u001b[0m\u001b[33m[W] \u001b[0m\u001b[47m\u001b[30m4359\u001b[0m \u001b[35mqitype.metaobject: \u001b[0mMethod(116) already defined (and overriden): getModule::(m)\r\n",
        "\u001b[0m\u001b[37m\u001b[0m\u001b[33m[W] \u001b[0m\u001b[47m\u001b[30m4359\u001b[0m \u001b[35mqitype.metaobject: \u001b[0mMethod(119) already defined (and overriden): markovChoice::(m)\r\n",
        "\u001b[0m\u001b[37m\u001b[0m\u001b[33m[W] \u001b[0m\u001b[47m\u001b[30m4359\u001b[0m \u001b[35mqitype.metaobject: \u001b[0mMethod(119) already defined (and overriden): markovChoice::(m)\r\n",
        "\u001b[0m\u001b[37m\u001b[0m\u001b[33m[W] \u001b[0m\u001b[47m\u001b[30m4359\u001b[0m \u001b[35mqitype.metaobject: \u001b[0mMethod(119) already defined (and overriden): markovChoice::(m)\r\n",
        "\u001b[0m\u001b[37m\u001b[0m\u001b[33m[W] \u001b[0m\u001b[47m\u001b[30m4359\u001b[0m \u001b[35mqitype.metaobject: \u001b[0mMethod(119) already defined (and overriden): markovChoice::(m)\r\n",
        "\u001b[0m\u001b[37m\u001b[0m\u001b[33m[W] \u001b[0m\u001b[47m\u001b[30m4359\u001b[0m \u001b[35mqitype.metaobject: \u001b[0mMethod(119) already defined (and overriden): markovChoice::(m)\r\n",
        "\u001b[0m\u001b[37m\u001b[0m\u001b[33m[W] \u001b[0m\u001b[47m\u001b[30m4359\u001b[0m \u001b[35mqitype.metaobject: \u001b[0mMethod(121) already defined (and overriden): pythonChanged::(mmm)\r\n",
        "\u001b[0m\u001b[37m\u001b[0m\u001b[33m[W] \u001b[0m\u001b[47m\u001b[30m4359\u001b[0m \u001b[35mqitype.metaobject: \u001b[0mMethod(121) already defined (and overriden): pythonChanged::(mmm)\r\n",
        "\u001b[0m\u001b[37m\u001b[0m\u001b[33m[W] \u001b[0m\u001b[47m\u001b[30m4359\u001b[0m \u001b[35mqitype.metaobject: \u001b[0mMethod(121) already defined (and overriden): pythonChanged::(mmm)\r\n",
        "\u001b[0m\u001b[37m\u001b[0m\u001b[33m[W] \u001b[0m\u001b[47m\u001b[30m4359\u001b[0m \u001b[35mqitype.metaobject: \u001b[0mMethod(123) already defined (and overriden): setModuleDescription::(m)\r\n",
        "\u001b[0m\u001b[37m\u001b[0m\u001b[33m[W] \u001b[0m\u001b[47m\u001b[30m4359\u001b[0m \u001b[35mqitype.metaobject: \u001b[0mMethod(102) already defined (and overriden): version::()\r\n"
       ]
      },
      {
       "output_type": "stream",
       "stream": "stdout",
       "text": [
        "\u001b[0m\u001b[37m\u001b[0m\u001b[34m[I] \u001b[0m\u001b[47m\u001b[30m4359\u001b[0m \u001b[33mbehavior.inaoqi: \u001b[0mStop broker myBroker\r\n",
        "\r\n",
        ".\r\n",
        "======================================================================\r\n",
        "ERROR: testLargeMatrix (__main__.ToMarkovChoiceBadInput)\r\n",
        "----------------------------------------------------------------------\r\n",
        "Traceback (most recent call last):\r\n",
        "  File \"Markov_tickles_unittest.py\", line 62, in testLargeMatrix\r\n",
        "    a = self.MarkovTickle.markovChoice([0.9, 0.1, 0.1, 0.1, 0.1, 0.1, 0.1, 0.1, 0.1, 0.1])\r\n",
        "  File \"/Users/mikemcfarlane/Dropbox/Code/Repositories/Code_sprints/unittest_development/Markov_tickles.py\", line 42, in markovChoice\r\n",
        "    raise ValueError\r\n",
        "ValueError\r\n",
        "\r\n",
        "======================================================================\r\n",
        "ERROR: testSmallMatrix (__main__.ToMarkovChoiceBadInput)\r\n",
        "----------------------------------------------------------------------\r\n",
        "Traceback (most recent call last):\r\n",
        "  File \"Markov_tickles_unittest.py\", line 57, in testSmallMatrix\r\n",
        "    a = self.MarkovTickle.markovChoice([2])\r\n",
        "  File \"/Users/mikemcfarlane/Dropbox/Code/Repositories/Code_sprints/unittest_development/Markov_tickles.py\", line 42, in markovChoice\r\n",
        "    raise ValueError\r\n",
        "ValueError\r\n",
        "\r\n",
        "----------------------------------------------------------------------\r\n",
        "Ran 4 tests in 0.923s\r\n",
        "\r\n",
        "FAILED (errors=2)\r\n"
       ]
      }
     ],
     "prompt_number": 12
    },
    {
     "cell_type": "code",
     "collapsed": false,
     "input": [],
     "language": "python",
     "metadata": {},
     "outputs": []
    }
   ],
   "metadata": {}
  }
 ]
}