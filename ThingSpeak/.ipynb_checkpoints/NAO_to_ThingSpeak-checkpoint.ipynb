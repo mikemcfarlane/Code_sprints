{
 "metadata": {
  "name": ""
 },
 "nbformat": 3,
 "nbformat_minor": 0,
 "worksheets": [
  {
   "cells": [
    {
     "cell_type": "heading",
     "level": 1,
     "metadata": {},
     "source": [
      "NAO to NAO robot communication with ThingSpeak"
     ]
    },
    {
     "cell_type": "markdown",
     "metadata": {},
     "source": [
      "Objectives:\n",
      "\n",
      "1. Allow a NAO to communicate data/sysnchronisation signals with another NAO.\n",
      "2. Will attempt to use [ThingSpeak](https://thingspeak.com/) ([ThingSpeak POST/GET docs](https://thingspeak.com/docs/channels)) ([ThingSpeak API](http://community.thingspeak.com/documentation/api/)) ([ThingSpeak source and other info on GitHub](https://github.com/iobridge/thingspeak)) using an example from the [BrickPi](http://www.dexterindustries.com/BrickPi/projects/thingspeak-temperature-log/)."
     ]
    },
    {
     "cell_type": "heading",
     "level": 2,
     "metadata": {},
     "source": [
      "How does NAO connect to the internet when away from home?"
     ]
    },
    {
     "cell_type": "markdown",
     "metadata": {},
     "source": [
      "Using iPhone HotSpot. Works. If connecting to NAO with a computer the computer must be on the same hotspot."
     ]
    },
    {
     "cell_type": "heading",
     "level": 2,
     "metadata": {},
     "source": [
      "Can NAO use ThingSpeak?"
     ]
    },
    {
     "cell_type": "code",
     "collapsed": false,
     "input": [
      "%%file NAO_to_ThingSpeak.py\n",
      "\"\"\" A simple example to test if NAO can connect to thingspeak.com.\n",
      "\n",
      "\"\"\"\n",
      "\n",
      "from naoqi import ALProxy\n",
      "import httplib, urllib\n",
      "import time\n",
      "\n",
      "# NAO_IP = \"mistcalf.local\"\n",
      "NAO_IP = \"192.168.0.13\"\n",
      "\n",
      "tts = ALProxy(\"ALTextToSpeech\", NAO_IP, 9559)\n",
      "\n",
      "def main():\n",
      "    tts.say(\"I'm going to connect to the internet now!\")\n",
      "    \n",
      "    for i in range (5):\n",
      "        params = urllib.urlencode({'field1': i, 'key':'9PBYIQ1RWXJ6XZBO'})     # use your API key generated in the thingspeak channels for the value of 'key'\n",
      "        headers = {\"Content-typZZe\": \"application/x-www-form-urlencoded\",\"Accept\": \"text/plain\"}\n",
      "        conn = httplib.HTTPConnection(\"api.thingspeak.com:80\")                \n",
      "        try:\n",
      "            conn.request(\"POST\", \"/update\", params, headers)\n",
      "            response = conn.getresponse()\n",
      "            print i, msg\n",
      "            print response.status, response.reason\n",
      "            data = response.read()\n",
      "            conn.close()\n",
      "        except:\n",
      "                print \"connection failed\"\n",
      "        tts.say(\"I sent some stuff to the internet!\")\n",
      "        # If using ThingSpeak web service there is a 15s limit. Install locally or on own webserver for faster usage.\n",
      "        time.sleep(16)\n",
      "    \n",
      "    tts.say(\"Yay, all sent!\")\n",
      "    \n",
      "    \n",
      "if __name__ == \"__main__\":\n",
      "    main()"
     ],
     "language": "python",
     "metadata": {},
     "outputs": [
      {
       "output_type": "stream",
       "stream": "stdout",
       "text": [
        "Overwriting NAO_to_ThingSpeak.py\n"
       ]
      }
     ],
     "prompt_number": 1
    },
    {
     "cell_type": "code",
     "collapsed": false,
     "input": [
      "!python NAO_to_ThingSpeak.py"
     ],
     "language": "python",
     "metadata": {},
     "outputs": [
      {
       "output_type": "stream",
       "stream": "stdout",
       "text": [
        "0 {\"glossary\": {\"title\": \"example glossary\",\"GlossDiv\": {\"title\": \"S\",\"GlossList\": {}}}}\r\n",
        "200 OK\r\n"
       ]
      },
      {
       "output_type": "stream",
       "stream": "stdout",
       "text": [
        "1 {\"glossary\": {\"title\": \"example glossary\",\"GlossDiv\": {\"title\": \"S\",\"GlossList\": {}}}}\r\n",
        "200 OK\r\n"
       ]
      },
      {
       "output_type": "stream",
       "stream": "stdout",
       "text": [
        "2 {\"glossary\": {\"title\": \"example glossary\",\"GlossDiv\": {\"title\": \"S\",\"GlossList\": {}}}}\r\n",
        "200 OK\r\n"
       ]
      },
      {
       "output_type": "stream",
       "stream": "stdout",
       "text": [
        "3 {\"glossary\": {\"title\": \"example glossary\",\"GlossDiv\": {\"title\": \"S\",\"GlossList\": {}}}}\r\n",
        "200 OK\r\n"
       ]
      },
      {
       "output_type": "stream",
       "stream": "stdout",
       "text": [
        "4 {\"glossary\": {\"title\": \"example glossary\",\"GlossDiv\": {\"title\": \"S\",\"GlossList\": {}}}}\r\n",
        "200 OK\r\n"
       ]
      }
     ],
     "prompt_number": 10
    },
    {
     "cell_type": "heading",
     "level": 2,
     "metadata": {},
     "source": [
      "Reading data back from ThingSpeak"
     ]
    },
    {
     "cell_type": "code",
     "collapsed": false,
     "input": [
      "%%file NAO_from_ThingSpeak.py\n",
      "\"\"\" A simple example to test if NAO can get data from thingspeak.com.\n",
      "\n",
      "\"\"\"\n",
      "\n",
      "from naoqi import ALProxy\n",
      "import httplib, urllib\n",
      "import time\n",
      "\n",
      "\n",
      "# NAO_IP = \"mistcalf.local\"\n",
      "#NAO_IP = \"192.168.0.13\"\n",
      "\n",
      "tts = ALProxy(\"ALTextToSpeech\", NAO_IP, 9559)\n",
      "\n",
      "def main():\n",
      "    tts.say(\"I'm going to get some data from the internet now!\")\n",
      "    \n",
      "    # use your API key generated in the thingspeak channels for the value of 'key'\n",
      "    # nb Different API key to read.\n",
      "    conn = httplib.HTTPConnection(\"api.thingspeak.com:80\")\n",
      "    channel_id = 12012\n",
      "    field_id = \"NAO_1\"\n",
      "    url = \"/channels/\" + str(channel_id) + \"/feeds.json?results=5\"\n",
      "    print \"url: \", url\n",
      "    try:\n",
      "        conn.request(\"GET\", url)\n",
      "        response = conn.getresponse()\n",
      "        print response.status, response.reason\n",
      "        data = response.read()\n",
      "        print data\n",
      "        conn.close()\n",
      "    except:\n",
      "            print \"connection failed\"\n",
      "            \n",
      "    tts.say(\"I got some stuff from the internet!\")   \n",
      "    \n",
      "    \n",
      "if __name__ == \"__main__\":\n",
      "    main()"
     ],
     "language": "python",
     "metadata": {},
     "outputs": [
      {
       "output_type": "stream",
       "stream": "stdout",
       "text": [
        "Overwriting NAO_from_ThingSpeak.py\n"
       ]
      }
     ],
     "prompt_number": 2
    },
    {
     "cell_type": "code",
     "collapsed": false,
     "input": [
      "!python NAO_from_ThingSpeak.py"
     ],
     "language": "python",
     "metadata": {},
     "outputs": [
      {
       "output_type": "stream",
       "stream": "stdout",
       "text": [
        "url:  /channels/12012/feeds.json?results=5\r\n"
       ]
      },
      {
       "output_type": "stream",
       "stream": "stdout",
       "text": [
        "200 OK\r\n",
        "{\"channel\":{\"id\":12012,\"name\":\"NAO_to_ThingSpeak_test\",\"description\":\"Test if NAO robot can speak to ThingSpeak\",\"field1\":\"NAO_1\",\"created_at\":\"2014-05-02T16:27:29Z\",\"updated_at\":\"2014-05-03T14:02:31Z\",\"last_entry_id\":40},\"feeds\":[{\"created_at\":\"2014-05-03T14:01:14Z\",\"entry_id\":36,\"field1\":\"{\\\"glossary\\\": {\\\"title\\\": \\\"example glossary\\\",\\\"GlossDiv\\\": {\\\"title\\\": \\\"S\\\",\\\"GlossList\\\": {}}}}\"},{\"created_at\":\"2014-05-03T14:01:30Z\",\"entry_id\":37,\"field1\":\"{\\\"glossary\\\": {\\\"title\\\": \\\"example glossary\\\",\\\"GlossDiv\\\": {\\\"title\\\": \\\"S\\\",\\\"GlossList\\\": {}}}}\"},{\"created_at\":\"2014-05-03T14:01:47Z\",\"entry_id\":38,\"field1\":\"{\\\"glossary\\\": {\\\"title\\\": \\\"example glossary\\\",\\\"GlossDiv\\\": {\\\"title\\\": \\\"S\\\",\\\"GlossList\\\": {}}}}\"},{\"created_at\":\"2014-05-03T14:02:03Z\",\"entry_id\":39,\"field1\":\"{\\\"glossary\\\": {\\\"title\\\": \\\"example glossary\\\",\\\"GlossDiv\\\": {\\\"title\\\": \\\"S\\\",\\\"GlossList\\\": {}}}}\"},{\"created_at\":\"2014-05-03T14:02:20Z\",\"entry_id\":40,\"field1\":\"{\\\"glossary\\\": {\\\"title\\\": \\\"example glossary\\\",\\\"GlossDiv\\\": {\\\"title\\\": \\\"S\\\",\\\"GlossList\\\": {}}}}\"}]}\r\n"
       ]
      }
     ],
     "prompt_number": 12
    },
    {
     "cell_type": "code",
     "collapsed": false,
     "input": [],
     "language": "python",
     "metadata": {},
     "outputs": []
    }
   ],
   "metadata": {}
  }
 ]
}