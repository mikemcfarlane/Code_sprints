{
 "metadata": {
  "name": ""
 },
 "nbformat": 3,
 "nbformat_minor": 0,
 "worksheets": [
  {
   "cells": [
    {
     "cell_type": "heading",
     "level": 1,
     "metadata": {},
     "source": [
      "Data visualisation with Processing.js 1"
     ]
    },
    {
     "cell_type": "heading",
     "level": 2,
     "metadata": {},
     "source": [
      "Objectives"
     ]
    },
    {
     "cell_type": "markdown",
     "metadata": {},
     "source": [
      "+ To understand some data visualisation methods.\n",
      "+ Using matplotlib and Processing.js.\n",
      "+ Work with heart rate and altitude data from a bike ride.\n",
      "+ Build an animation of a beating heart coupled to an altitude animation."
     ]
    },
    {
     "cell_type": "heading",
     "level": 2,
     "metadata": {},
     "source": [
      "Some reference sources"
     ]
    },
    {
     "cell_type": "markdown",
     "metadata": {},
     "source": [
      "Processing.js:\n",
      "\n",
      "+ http://processingjs.org/\n",
      "    \n",
      "Displaying js in ipnb:\n",
      "\n",
      "+ [IPython Javascript Animation Plugin](http://nbviewer.ipython.org/github/jakevdp/JSAnimation/blob/master/animation_example.ipynb)\n",
      "+ [Embrasing web standards](http://nbviewer.ipython.org/github/ipython/ipython-in-depth/blob/master/notebooks/05%20-%20Notebook%20and%20javascript%20extension.ipynb)\n",
      "+ [ipyD3sample](http://nbviewer.ipython.org/gist/z-m-k/4484816/ipyD3sample.ipynb)\n",
      "+ [pulsar_svg](http://nbviewer.ipython.org/github/thesamprice/pulsar_svg/blob/master/ReadPulsar.ipynb?create=1)\n",
      "+ [Module: core.display](http://ipython.org/ipython-doc/stable/api/generated/IPython.core.display.html)\n",
      "+ [IPython's Rich Display System](http://nbviewer.ipython.org/github/ipython/ipython/blob/master/examples/notebooks/Part%205%20-%20Rich%20Display%20System.ipynb)\n"
     ]
    },
    {
     "cell_type": "code",
     "collapsed": false,
     "input": [],
     "language": "python",
     "metadata": {},
     "outputs": []
    }
   ],
   "metadata": {}
  }
 ]
}