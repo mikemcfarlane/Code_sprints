{
 "metadata": {
  "name": ""
 },
 "nbformat": 3,
 "nbformat_minor": 0,
 "worksheets": [
  {
   "cells": [
    {
     "cell_type": "heading",
     "level": 1,
     "metadata": {},
     "source": [
      "Introduction to Kivy"
     ]
    },
    {
     "cell_type": "markdown",
     "metadata": {},
     "source": [
      "Objective: create a simple [Kivy](http://kivy.org/) using the [Pong Game Tutorial](http://kivy.org/docs/tutorials/pong.html)."
     ]
    },
    {
     "cell_type": "code",
     "collapsed": false,
     "input": [
      "%%file kivy_pong.py\n",
      "from kivy.app import App\n",
      "from kivy.uix.widget import Widget\n",
      "from kivy.properties import NumericProperty, ReferenceListProperty,\\\n",
      "    ObjectProperty\n",
      "from kivy.vector import Vector\n",
      "from kivy.clock import Clock\n",
      "from random import randint\n",
      "\n",
      "class PongPaddle(Widget):\n",
      "    score = NumericProperty(0)\n",
      "    \n",
      "    def bounce_ball(self, ball):\n",
      "        if self.collide_widget(ball):\n",
      "            vx, vy = ball.velocity\n",
      "            offset = (ball.center_y - self.center_y) / (self.height / 2)\n",
      "            bounced = Vector(-1 * vx, vy)\n",
      "            vel = bounced * 1.1\n",
      "            ball.velocity = vel.x, vel.y + offset\n",
      "\n",
      "class PongBall(Widget):\n",
      "    velocity_x = NumericProperty(0)\n",
      "    velocity_y = NumericProperty(0)\n",
      "    velocity = ReferenceListProperty(velocity_x, velocity_y)\n",
      "    \n",
      "    def move(self):\n",
      "        self.pos = Vector(*self.velocity) + self.pos\n",
      "        \n",
      "class PongGame(Widget):\n",
      "    ball = ObjectProperty(None)\n",
      "    player1 = ObjectProperty(None)\n",
      "    player2 = ObjectProperty(None)\n",
      "#     square = ObjectProperty(None)\n",
      "    \n",
      "    def serve_ball(self, vel=(4, 0)):\n",
      "        self.ball.center = self.center\n",
      "        self.ball.velocity = Vector(4, 0).rotate(randint(0, 360))\n",
      " \n",
      "    def update(self, dt):\n",
      "        # Call ball.move and other stuff.\n",
      "        self.ball.move()\n",
      "#         self.square.move()\n",
      "        \n",
      "        # Bounce of paddles.\n",
      "        self.player1.bounce_ball(self.ball)\n",
      "        self.player2.bounce_ball(self.ball)\n",
      "        \n",
      "        # Bounce off top or bottom.\n",
      "        if (self.ball.y < self.y) or (self.ball.top > self.top):\n",
      "            self.ball.velocity_y *= -1\n",
      "\n",
      "            \n",
      "        # Went off to side to score point.\n",
      "        if self.ball.x < self.x:\n",
      "            self.player2.score += 1\n",
      "            self.serve_ball(vel=(4, 0))\n",
      "        if self.ball.x > self.width:\n",
      "            self.player1.score += 1\n",
      "            self.serve_ball(vel=(-4, 0))\n",
      "            \n",
      "    def on_touch_move(self, touch):\n",
      "        if touch.x < self.width / 3:\n",
      "            self.player1.center_y = touch.y\n",
      "        if touch.x > self.width - self.width / 3:\n",
      "            self.player2.center_y = touch.y\n",
      "        \n",
      "            \n",
      "class PongApp(App):\n",
      "    def build(self):\n",
      "        game = PongGame()\n",
      "        game.serve_ball()\n",
      "        Clock.schedule_interval(game.update, 1.0 / 60.0)\n",
      "        return game\n",
      "    \n",
      "if __name__ == \"__main__\":\n",
      "    PongApp().run()"
     ],
     "language": "python",
     "metadata": {},
     "outputs": [
      {
       "output_type": "stream",
       "stream": "stdout",
       "text": [
        "Overwriting kivy_pong.py\n"
       ]
      }
     ],
     "prompt_number": 3
    },
    {
     "cell_type": "code",
     "collapsed": false,
     "input": [
      "%%file pong.kv\n",
      "#:kivy 1.0.9\n",
      "\n",
      "<PongBall>:\n",
      "    size: 50, 50\n",
      "    canvas:\n",
      "        Color:\n",
      "            rgb: 1, 1, 0.2\n",
      "        Ellipse:\n",
      "            pos: self.pos\n",
      "            size: self.size\n",
      "                \n",
      "<PongPaddle>:\n",
      "    size: 25, 200\n",
      "    canvas:\n",
      "        Color:\n",
      "            rgb: 1, 1, 1\n",
      "        Rectangle:\n",
      "            pos: self.pos\n",
      "            size: self.size\n",
      "\n",
      "<PongGame>:\n",
      "    ball: pong_ball\n",
      "    player1: player_left\n",
      "    player2: player_right\n",
      "\n",
      "    canvas.before:\n",
      "        Color:\n",
      "            rgba: 0.1, 1, 0.1, 0.5\n",
      "        Rectangle:\n",
      "            pos: self.pos\n",
      "            size: self.size\n",
      "    \n",
      "    canvas:\n",
      "        Color:\n",
      "            rgb: 1, 1, 1\n",
      "        Rectangle:\n",
      "            pos: self.center_x - 5, 0\n",
      "            size: 10, self.height\n",
      "                \n",
      "    Label:\n",
      "        font_size: 40\n",
      "        center_x: root.width / 4\n",
      "        top: root.top - 10\n",
      "        text: \"Player 1: \" + str(root.player1.score)\n",
      "            \n",
      "    Label:\n",
      "        font_size: 40\n",
      "        center_x: root.width * 3 / 4\n",
      "        top: root.top - 10  \n",
      "        text: \"Player 2: \" + str(root.player2.score)\n",
      "            \n",
      "    PongBall:\n",
      "        id: pong_ball\n",
      "        center: self.parent.center\n",
      "            \n",
      "    PongPaddle:\n",
      "        id: player_left\n",
      "        x: root.x\n",
      "        center_y: root.center_y\n",
      "            \n",
      "    PongPaddle:\n",
      "        id: player_right\n",
      "        x: root.width - self.width\n",
      "        center_y: root.center_y"
     ],
     "language": "python",
     "metadata": {},
     "outputs": [
      {
       "output_type": "stream",
       "stream": "stdout",
       "text": [
        "Overwriting pong.kv\n"
       ]
      }
     ],
     "prompt_number": 6
    },
    {
     "cell_type": "code",
     "collapsed": false,
     "input": [
      "!kivy kivy_pong.py"
     ],
     "language": "python",
     "metadata": {},
     "outputs": [
      {
       "output_type": "stream",
       "stream": "stdout",
       "text": [
        "[INFO              ] Kivy v1.8.0\r\n",
        "[INFO              ] [Logger      ] Record log in /Users/mikemcfarlane/.kivy/logs/kivy_14-05-08_50.txt\r\n",
        "[INFO              ] [Factory     ] 157 symbols loaded\r\n",
        "[DEBUG             ] [Cache       ] register <kv.lang> with limit=None, timeout=Nones\r\n"
       ]
      },
      {
       "output_type": "stream",
       "stream": "stdout",
       "text": [
        "[DEBUG             ] [Cache       ] register <kv.image> with limit=None, timeout=60s\r\n",
        "[DEBUG             ] [Cache       ] register <kv.atlas> with limit=None, timeout=Nones\r\n"
       ]
      },
      {
       "output_type": "stream",
       "stream": "stdout",
       "text": [
        "[INFO              ] [Image       ] Providers: img_imageio, img_tex, img_dds, img_pygame, img_gif (img_pil ignored)\r\n",
        "[DEBUG             ] [Cache       ] register <kv.texture> with limit=1000, timeout=60s\r\n",
        "[DEBUG             ] [Cache       ] register <kv.shader> with limit=1000, timeout=3600s\r\n",
        "[DEBUG             ] [App         ] Loading kv <./pong.kv>\r\n",
        "[DEBUG             ] [Window      ] Ignored <egl_rpi> (import error)\r\n",
        "[INFO              ] [Window      ] Provider: pygame(['window_egl_rpi'] ignored)\r\n"
       ]
      },
      {
       "output_type": "stream",
       "stream": "stdout",
       "text": [
        "[DEBUG             ] [Window      ] Display driver Quartz\r\n",
        "[DEBUG             ] [Window      ] Actual window size: 800x600\r\n",
        "[DEBUG             ] [Window      ] Actual color bits r8 g8 b8 a8\r\n",
        "[DEBUG             ] [Window      ] Actual depth bits: 24\r\n",
        "[DEBUG             ] [Window      ] Actual stencil bits: 8\r\n",
        "[DEBUG             ] [Window      ] Actual multisampling samples: 2\r\n",
        "[INFO              ] [GL          ] OpenGL version <2.1 ATI-1.20.11>\r\n",
        "[INFO              ] [GL          ] OpenGL vendor <ATI Technologies Inc.>\r\n",
        "[INFO              ] [GL          ] OpenGL renderer <AMD Radeon HD 6750M OpenGL Engine>\r\n",
        "[INFO              ] [GL          ] OpenGL parsed version: 2, 1\r\n",
        "[INFO              ] [GL          ] Shading version <1.20>\r\n",
        "[INFO              ] [GL          ] Texture max size <16384>\r\n",
        "[INFO              ] [GL          ] Texture max units <16>\r\n",
        "[DEBUG             ] [Shader      ] Fragment compiled successfully\r\n",
        "[DEBUG             ] [Shader      ] Vertex compiled successfully\r\n",
        "[DEBUG             ] [ImageImageIO] Load </Applications/Kivy.app/Contents/Resources/kivy/kivy/data/glsl/default.png>\r\n",
        "[INFO              ] [GL          ] BGRA texture support is available\r\n",
        "[INFO              ] [Window      ] virtual keyboard not allowed, single mode, not docked\r\n",
        "[INFO              ] [Text        ] Provider: pygame\r\n",
        "[INFO              ] [OSC         ] using <multiprocessing> for socket\r\n",
        "[DEBUG             ] [Base        ] Create provider from mouse\r\n",
        "[INFO              ] [Base        ] Start application main loop\r\n",
        "[INFO              ] [GL          ] NPOT texture support is available\r\n"
       ]
      },
      {
       "output_type": "stream",
       "stream": "stdout",
       "text": [
        "[INFO              ] [Base        ] Leaving application in progress...\r\n"
       ]
      }
     ],
     "prompt_number": 7
    },
    {
     "cell_type": "heading",
     "level": 2,
     "metadata": {},
     "source": [
      "NAO plays pong"
     ]
    },
    {
     "cell_type": "markdown",
     "metadata": {},
     "source": [
      "Let's get NAO and Kivy working together using proxies."
     ]
    },
    {
     "cell_type": "code",
     "collapsed": false,
     "input": [
      "%%file nao_pong.py\n",
      "from kivy.app import App\n",
      "from kivy.uix.widget import Widget\n",
      "from kivy.properties import NumericProperty, ReferenceListProperty,\\\n",
      "    ObjectProperty\n",
      "from kivy.vector import Vector\n",
      "from kivy.clock import Clock\n",
      "from kivy.core.audio import SoundLoader\n",
      "\n",
      "from random import randint\n",
      "from time import sleep\n",
      "\n",
      "from naoqi import ALProxy\n",
      "\n",
      "\n",
      "NAO_IP = \"mistcalf.local\"\n",
      "# Setup animatedSpeech.\n",
      "BODYLANGUAGEMODECONFIG = {\"bodyLanguageMode\" : \"contextual\"}\n",
      "\n",
      "tts = None\n",
      "animatedSpeech = None\n",
      "robotMotion = None\n",
      "\n",
      "class NAOPongPaddle(Widget):\n",
      "    score = NumericProperty(0)\n",
      "\n",
      "    sound1 = SoundLoader.load('Sounds/bipReco1.wav')\n",
      "    sound2 = SoundLoader.load('Sounds/bipReco2.wav')\n",
      "    \n",
      "    def bounce_ball(self, ball):\n",
      "        print \"ball:\", self.player_id\n",
      "        \n",
      "        if self.collide_widget(ball):\n",
      "            vx, vy = ball.velocity\n",
      "            offset = (ball.center_y - self.center_y) / (self.height / 2)\n",
      "            bounced = Vector(-1 * vx, vy)\n",
      "            vel = bounced * 1.1\n",
      "            ball.velocity = vel.x, vel.y + offset\n",
      "            self.sound1.play()\n",
      "\n",
      "class NAOPongBall(Widget):\n",
      "    velocity_x = NumericProperty(0)\n",
      "    velocity_y = NumericProperty(0)\n",
      "    velocity = ReferenceListProperty(velocity_x, velocity_y)\n",
      "    \n",
      "    def move(self):\n",
      "        self.pos = Vector(*self.velocity) + self.pos\n",
      "        \n",
      "\n",
      "class NAOPongGame(Widget):\n",
      "    ball = ObjectProperty(None)\n",
      "    player1 = ObjectProperty(None)\n",
      "    player_nao = ObjectProperty(None)\n",
      "\n",
      "    global tts\n",
      "    \n",
      "    def serve_ball(self, vel=(4, 0)):\n",
      "        self.ball.center = self.center\n",
      "        self.ball.velocity = Vector(4, 0).rotate(randint(0, 360))\n",
      "    \n",
      "    def update(self, dt):\n",
      "        # Call ball.move and other stuff.\n",
      "        self.ball.move()\n",
      "  \n",
      "        # Bounce of paddles.\n",
      "        self.player1.bounce_ball(self.ball)\n",
      "        self.player_nao.bounce_ball(self.ball)\n",
      "        \n",
      "        # Bounce off top or bottom.\n",
      "        if (self.ball.y < self.y) or (self.ball.top > self.top):\n",
      "            self.ball.velocity_y *= -1\n",
      "            \n",
      "        # Went off to side to score point.\n",
      "        if self.ball.x < self.x:\n",
      "            id = animatedSpeech.post.say(\"I win!\", BODYLANGUAGEMODECONFIG)\n",
      "            animatedSpeech.wait(id, 0)\n",
      "            self.player_nao.score += 1\n",
      "            self.serve_ball(vel=(4, 0))\n",
      "        if self.ball.x > self.width:\n",
      "            id = animatedSpeech.post.say(\"Ouch\", BODYLANGUAGEMODECONFIG)\n",
      "            animatedSpeech.wait(id, 0)\n",
      "            self.player1.score += 1\n",
      "            self.serve_ball(vel=(-4, 0))\n",
      "\n",
      "        #print \"ball.x: {}, x: {}, ball.y: {}, y: {}\".format(self.ball.x, self.x, self.ball.y, self.y)\n",
      "            \n",
      "    def on_touch_move(self, touch):\n",
      "        if touch.x < self.width / 3:\n",
      "            self.player1.center_y = touch.y\n",
      "        if touch.x > self.width - self.width / 3:\n",
      "            self.player_nao.center_y = touch.y\n",
      "        \n",
      "            \n",
      "class NAOPongApp(App):\n",
      "    def build(self):\n",
      "        game = NAOPongGame()\n",
      "        game.serve_ball()\n",
      "        Clock.schedule_interval(game.update, 1.0 / 60.0)\n",
      "        return game\n",
      "\n",
      "def NAO_setup():\n",
      "    \"\"\" Setup NAO inc proxies.\n",
      "\n",
      "    \"\"\"\n",
      "    # Define globals for holding proxies.\n",
      "    global tts\n",
      "    global animatedSpeech\n",
      "    global robotMotion\n",
      "\n",
      "    # Setup proxies.\n",
      "    try:\n",
      "        tts = ALProxy(\"ALTextToSpeech\", NAO_IP, 9559)\n",
      "    except Exception, e:\n",
      "        print \"Could not setup tts, error: \", e\n",
      "    try:\n",
      "        animatedSpeech = ALProxy(\"ALAnimatedSpeech\", NAO_IP, 9559)\n",
      "    except Exception, e:\n",
      "        print \"Could not setup animatedSpeech, error: \", e\n",
      "    try:\n",
      "        robotMotion = ALProxy(\"ALMotion\", NAO_IP, 9559)\n",
      "    except Exception, e:\n",
      "        print \"Could not setup robotMotion, error: \", e\n",
      "\n",
      "    # Wake NAO up.\n",
      "    robotMotion.wakeUp()\n",
      "\n",
      "def NAO_instructions():\n",
      "    \"\"\" Provides game instructions.\n",
      "\n",
      "    \"\"\"\n",
      "    global tts\n",
      "\n",
      "    id = animatedSpeech.post.say(\"We are going to play ping pong. I play on the right, you play on the left.\", BODYLANGUAGEMODECONFIG)\n",
      "    animatedSpeech.wait(id, 0)\n",
      "    sleep(1.0)\n",
      "\n",
      "def main():\n",
      "    NAO_setup()\n",
      "    #NAO_instructions()\n",
      "    NAOPongApp().run()\n",
      "    \n",
      "if __name__ == \"__main__\":\n",
      "    main()"
     ],
     "language": "python",
     "metadata": {},
     "outputs": [
      {
       "output_type": "stream",
       "stream": "stdout",
       "text": [
        "Overwriting nao_pong.py\n"
       ]
      }
     ],
     "prompt_number": 12
    },
    {
     "cell_type": "code",
     "collapsed": false,
     "input": [
      "%%file NAOPong.kv\n",
      "#:kivy 1.0.9\n",
      "\n",
      "<NAOPongBall>:\n",
      "    size: 50, 50\n",
      "    canvas:\n",
      "        Color:\n",
      "            rgb: 1, 1, 0.2\n",
      "        Ellipse:\n",
      "            pos: self.pos\n",
      "            size: self.size\n",
      "                \n",
      "<NAOPongPaddle>:\n",
      "    size: 25, 200\n",
      "    canvas:\n",
      "        Color:\n",
      "            rgb: 1, 1, 1\n",
      "        Rectangle:\n",
      "            pos: self.pos\n",
      "            size: self.size\n",
      "\n",
      "<NAOPongGame>:\n",
      "    ball: pong_ball\n",
      "    player1: player_left\n",
      "    player_nao: player_right\n",
      "\n",
      "    canvas.before:\n",
      "        Color:\n",
      "            rgba: 0.1, 1, 0.1, 0.5\n",
      "        Rectangle:\n",
      "            pos: self.pos\n",
      "            size: self.size\n",
      "    \n",
      "    canvas:\n",
      "        Color:\n",
      "            rgb: 1, 1, 1\n",
      "        Rectangle:\n",
      "            pos: self.center_x - 5, 0\n",
      "            size: 10, self.height\n",
      "                \n",
      "    Label:\n",
      "        font_size: 40\n",
      "        center_x: root.width / 4\n",
      "        top: root.top - 10\n",
      "        text: \"You: \" + str(root.player1.score)\n",
      "            \n",
      "    Label:\n",
      "        font_size: 40\n",
      "        center_x: root.width * 3 / 4\n",
      "        top: root.top - 10  \n",
      "        text: \"NAO: \" + str(root.player_nao.score)\n",
      "            \n",
      "    NAOPongBall:\n",
      "        id: pong_ball\n",
      "        center: self.parent.center\n",
      "            \n",
      "    NAOPongPaddle:\n",
      "        id: player_left\n",
      "        x: root.x\n",
      "        center_y: root.center_y\n",
      "        player_id: 5\n",
      "            \n",
      "    NAOPongPaddle:\n",
      "        id: player_right\n",
      "        x: root.width - self.width\n",
      "        center_y: root.center_y\n",
      "        player_id: 6\n",
      "        "
     ],
     "language": "python",
     "metadata": {},
     "outputs": [
      {
       "output_type": "stream",
       "stream": "stdout",
       "text": [
        "Overwriting NAOPong.kv\n"
       ]
      }
     ],
     "prompt_number": 11
    },
    {
     "cell_type": "code",
     "collapsed": false,
     "input": [
      "!kivy nao_pong.py"
     ],
     "language": "python",
     "metadata": {},
     "outputs": [
      {
       "output_type": "stream",
       "stream": "stdout",
       "text": [
        "[INFO              ] Kivy v1.8.0\r\n",
        "[INFO              ] [Logger      ] Record log in /Users/mikemcfarlane/.kivy/logs/kivy_14-05-08_51.txt\r\n",
        "[INFO              ] [Factory     ] 157 symbols loaded\r\n",
        "[DEBUG             ] [Cache       ] register <kv.lang> with limit=None, timeout=Nones\r\n"
       ]
      },
      {
       "output_type": "stream",
       "stream": "stdout",
       "text": [
        "[DEBUG             ] [Cache       ] register <kv.image> with limit=None, timeout=60s\r\n",
        "[DEBUG             ] [Cache       ] register <kv.atlas> with limit=None, timeout=Nones\r\n"
       ]
      },
      {
       "output_type": "stream",
       "stream": "stdout",
       "text": [
        "[INFO              ] [Image       ] Providers: img_imageio, img_tex, img_dds, img_pygame, img_gif (img_pil ignored)\r\n",
        "[DEBUG             ] [Cache       ] register <kv.texture> with limit=1000, timeout=60s\r\n",
        "[DEBUG             ] [Cache       ] register <kv.shader> with limit=1000, timeout=3600s\r\n"
       ]
      },
      {
       "output_type": "stream",
       "stream": "stdout",
       "text": [
        "\u001b[0m\u001b[37m\u001b[0m\u001b[34m[I] \u001b[0m\u001b[47m\u001b[30m3343\u001b[0m \u001b[37mqi.eventloop: \u001b[0mCreating event loop while no qi::Application() is running\r\n",
        "\u001b[0m\u001b[37m\u001b[0m\u001b[34m[I] \u001b[0m\u001b[47m\u001b[30m3343\u001b[0m \u001b[37mqimessaging.session: \u001b[0mSession listener created on tcp://0.0.0.0:0\r\n",
        "\u001b[0m\u001b[37m\u001b[0m\u001b[34m[I] \u001b[0m\u001b[47m\u001b[30m3343\u001b[0m \u001b[37mqi.eventloop: \u001b[0mCreating event loop while no qi::Application() is running\r\n",
        "\u001b[0m\u001b[37m\u001b[0m\u001b[34m[I] \u001b[0m\u001b[47m\u001b[30m3343\u001b[0m \u001b[37mqimessaging.transportserver: \u001b[0mTransportServer will listen on: tcp://169.254.197.226:64522\r\n",
        "\u001b[0m\u001b[37m\u001b[0m\u001b[34m[I] \u001b[0m\u001b[47m\u001b[30m3343\u001b[0m \u001b[37mqimessaging.transportserver: \u001b[0mTransportServer will listen on: tcp://192.168.0.6:64522\r\n",
        "\u001b[0m\u001b[37m\u001b[0m\u001b[34m[I] \u001b[0m\u001b[47m\u001b[30m3343\u001b[0m \u001b[37mqimessaging.transportserver: \u001b[0mTransportServer will listen on: tcp://127.0.0.1:64522\r\n",
        "\u001b[0m\u001b[37m\u001b[0m\u001b[34m[I] \u001b[0m\u001b[47m\u001b[30m3343\u001b[0m \u001b[37mqimessaging.transportserver: \u001b[0mTransportServer will listen on: tcp://10.137.0.22:64522\r\n"
       ]
      },
      {
       "output_type": "stream",
       "stream": "stdout",
       "text": [
        "Could not setup tts, error:  \tALBroker::createBroker\r\n",
        "\tCannot connect to tcp://mistcalf.local:9559\r\n"
       ]
      },
      {
       "output_type": "stream",
       "stream": "stdout",
       "text": [
        "\u001b[0m\u001b[37m\u001b[0m\u001b[34m[I] \u001b[0m\u001b[47m\u001b[30m3343\u001b[0m \u001b[37mqimessaging.session: \u001b[0mSession listener created on tcp://0.0.0.0:0\r\n",
        "\u001b[0m\u001b[37m\u001b[0m\u001b[34m[I] \u001b[0m\u001b[47m\u001b[30m3343\u001b[0m \u001b[37mqimessaging.transportserver: \u001b[0mTransportServer will listen on: tcp://169.254.197.226:64523\r\n",
        "\u001b[0m\u001b[37m\u001b[0m\u001b[34m[I] \u001b[0m\u001b[47m\u001b[30m3343\u001b[0m \u001b[37mqimessaging.transportserver: \u001b[0mTransportServer will listen on: tcp://192.168.0.6:64523\r\n",
        "\u001b[0m\u001b[37m\u001b[0m\u001b[34m[I] \u001b[0m\u001b[47m\u001b[30m3343\u001b[0m \u001b[37mqimessaging.transportserver: \u001b[0mTransportServer will listen on: tcp://127.0.0.1:64523\r\n",
        "\u001b[0m\u001b[37m\u001b[0m\u001b[34m[I] \u001b[0m\u001b[47m\u001b[30m3343\u001b[0m \u001b[37mqimessaging.transportserver: \u001b[0mTransportServer will listen on: tcp://10.137.0.22:64523\r\n"
       ]
      },
      {
       "output_type": "stream",
       "stream": "stdout",
       "text": [
        "Could not setup animatedSpeech, error:  \tALBroker::createBroker\r\n",
        "\tCannot connect to tcp://mistcalf.local:9559\r\n",
        "\u001b[0m\u001b[37m\u001b[0m\u001b[34m[I] \u001b[0m\u001b[47m\u001b[30m3343\u001b[0m \u001b[37mqimessaging.session: \u001b[0mSession listener created on tcp://0.0.0.0:0\r\n",
        "\u001b[0m\u001b[37m\u001b[0m\u001b[34m[I] \u001b[0m\u001b[47m\u001b[30m3343\u001b[0m \u001b[37mqimessaging.transportserver: \u001b[0mTransportServer will listen on: tcp://169.254.197.226:64524\r\n",
        "\u001b[0m\u001b[37m\u001b[0m\u001b[34m[I] \u001b[0m\u001b[47m\u001b[30m3343\u001b[0m \u001b[37mqimessaging.transportserver: \u001b[0mTransportServer will listen on: tcp://192.168.0.6:64524\r\n",
        "\u001b[0m\u001b[37m\u001b[0m\u001b[34m[I] \u001b[0m\u001b[47m\u001b[30m3343\u001b[0m \u001b[37mqimessaging.transportserver: \u001b[0mTransportServer will listen on: tcp://127.0.0.1:64524\r\n",
        "\u001b[0m\u001b[37m\u001b[0m\u001b[34m[I] \u001b[0m\u001b[47m\u001b[30m3343\u001b[0m \u001b[37mqimessaging.transportserver: \u001b[0mTransportServer will listen on: tcp://10.137.0.22:64524\r\n"
       ]
      },
      {
       "output_type": "stream",
       "stream": "stdout",
       "text": [
        "\u001b[0m\u001b[37m\u001b[0m\u001b[33m[W] \u001b[0m\u001b[43m\u001b[30m4355\u001b[0m \u001b[37mqimessaging.transportsocket: \u001b[0mresolved: Host not found (authoritative)\r\n"
       ]
      },
      {
       "output_type": "stream",
       "stream": "stdout",
       "text": [
        "Could not setup robotMotion, error:  \tALBroker::createBroker\r\n",
        "\tCannot connect to tcp://mistcalf.local:9559\r\n",
        " Traceback (most recent call last):\r\n",
        "   File \"nao_pong.py\", line 132, in <module>\r\n",
        "     main()\r\n",
        "   File \"nao_pong.py\", line 127, in main\r\n",
        "     NAO_setup()\r\n",
        "   File \"nao_pong.py\", line 114, in NAO_setup\r\n",
        "     robotMotion.wakeUp()\r\n",
        " AttributeError: 'NoneType' object has no attribute 'wakeUp'\r\n"
       ]
      }
     ],
     "prompt_number": 10
    },
    {
     "cell_type": "heading",
     "level": 2,
     "metadata": {},
     "source": [
      "How can NAO move with the bat?"
     ]
    },
    {
     "cell_type": "markdown",
     "metadata": {},
     "source": [
      "There are three ways to control NAO motion:\n",
      "\n",
      "+ [Joint control](https://community.aldebaran-robotics.com/doc/1-22/naoqi/motion/control-joint.html#control-joint)\n",
      "+ [Cartesian control](https://community.aldebaran-robotics.com/doc/1-22/naoqi/motion/control-cartesian.html#control-cartesian)\n",
      "+ [Whole body control](https://community.aldebaran-robotics.com/doc/1-22/naoqi/motion/control-wholebody.html#control-wholebody)\n",
      "\n",
      "Cartesian control is the obvious starter."
     ]
    },
    {
     "cell_type": "markdown",
     "metadata": {},
     "source": [
      "To do next:\n",
      "\n",
      "1. get sound working.\n",
      "2. get a quit button to quit game and safely shut NAO down"
     ]
    },
    {
     "cell_type": "code",
     "collapsed": false,
     "input": [],
     "language": "python",
     "metadata": {},
     "outputs": []
    }
   ],
   "metadata": {}
  }
 ]
}