{
 "metadata": {
  "name": ""
 },
 "nbformat": 3,
 "nbformat_minor": 0,
 "worksheets": [
  {
   "cells": [
    {
     "cell_type": "heading",
     "level": 1,
     "metadata": {},
     "source": [
      "Introduction to Kivy"
     ]
    },
    {
     "cell_type": "markdown",
     "metadata": {},
     "source": [
      "Objective: create a simple [Kivy](http://kivy.org/) using the [Pong Game Tutorial](http://kivy.org/docs/tutorials/pong.html)."
     ]
    },
    {
     "cell_type": "code",
     "collapsed": false,
     "input": [
      "%%file kivy_pong.py\n",
      "from kivy.app import App\n",
      "from kivy.uix.widget import Widget\n",
      "from kivy.properties import NumericProperty, ReferenceListProperty,\\\n",
      "    ObjectProperty\n",
      "from kivy.vector import Vector\n",
      "from kivy.clock import Clock\n",
      "from random import randint\n",
      "\n",
      "class PongBall(Widget):\n",
      "    # Velocity of the ball on the x and y axis.\n",
      "    velocity_x = NumericProperty(0)\n",
      "    velocity_y = NumericProperty(0)\n",
      "    \n",
      "    # Referencelist property so we can use ball.velocity as\n",
      "    # shorthand, just like e.g. w.pos for w.x and w.y\n",
      "    velocity = ReferenceListProperty(velocity_x, velocity_y)\n",
      "    \n",
      "    # ''move'' function will move the ball one step. This\n",
      "    # will be called in equal intervals to animate the ball.\n",
      "    \n",
      "    def move(self):\n",
      "        self.pos = Vector(*self.velocity) + self.pos\n",
      "\n",
      "class PongGame(Widget):\n",
      "    ball = ObjectProperty(None)\n",
      "    \n",
      "    def serve_ball(self):\n",
      "        self.ball.center = self.center\n",
      "        self.ball.velocity = Vector(4, 0).rotate(randint(0, 360))\n",
      "    \n",
      "    def update(self, dt):\n",
      "        # Call ball.move and other stuff.\n",
      "        self.ball.move()\n",
      "        \n",
      "        # Bounce off top and bottom.\n",
      "        if (self.ball.y < 0) or (self.ball.top > self.height):\n",
      "            self.ball.velocity_y *= -1\n",
      "            \n",
      "        # Bounce off left and right.\n",
      "        if (self.ball.x < 0) or (self.ball.right > self.width):\n",
      "            self.ball.velocity_x *= -1\n",
      "\n",
      "class PongApp(App):\n",
      "    def build(self):\n",
      "        game = PongGame()\n",
      "        game.serve_ball()\n",
      "        Clock.schedule_interval(game.update, 1.0 / 60.0)\n",
      "        return game\n",
      "    \n",
      "if __name__ == \"__main__\":\n",
      "    PongApp().run()"
     ],
     "language": "python",
     "metadata": {},
     "outputs": [
      {
       "output_type": "stream",
       "stream": "stdout",
       "text": [
        "Overwriting kivy_pong.py\n"
       ]
      }
     ],
     "prompt_number": 26
    },
    {
     "cell_type": "code",
     "collapsed": false,
     "input": [
      "%%file pong.kv\n",
      "#:kivy 1.0.9\n",
      "\n",
      "<PongBall>:\n",
      "    size: 50, 50\n",
      "    canvas:\n",
      "        Ellipse:\n",
      "            pos: self.pos\n",
      "            size: self.size\n",
      "\n",
      "<PongGame>:\n",
      "    ball: pong_ball\n",
      "    \n",
      "    canvas:\n",
      "        Rectangle:\n",
      "            pos: self.center_x - 5, 0\n",
      "            size: 10, self.height\n",
      "                \n",
      "    Label:\n",
      "        font_size: 70\n",
      "        center_x: root.width / 4\n",
      "        top: root.top - 50\n",
      "        text: \"0\"\n",
      "            \n",
      "    Label:\n",
      "        font_size: 70\n",
      "        center_x: root.width * 3 / 4\n",
      "        top: root.top - 50\n",
      "        text: \"0\"\n",
      "            \n",
      "    PongBall:\n",
      "        id: pong_ball\n",
      "        center: self.parent.center"
     ],
     "language": "python",
     "metadata": {},
     "outputs": [
      {
       "output_type": "stream",
       "stream": "stdout",
       "text": [
        "Overwriting pong.kv\n"
       ]
      }
     ],
     "prompt_number": 27
    },
    {
     "cell_type": "code",
     "collapsed": false,
     "input": [
      "!kivy kivy_pong.py"
     ],
     "language": "python",
     "metadata": {},
     "outputs": [
      {
       "output_type": "stream",
       "stream": "stdout",
       "text": [
        "[INFO              ] Kivy v1.8.0\r\n"
       ]
      },
      {
       "output_type": "stream",
       "stream": "stdout",
       "text": [
        "[INFO              ] [Logger      ] Record log in /Users/mikemcfarlane/.kivy/logs/kivy_14-05-03_10.txt\r\n",
        "[INFO              ] [Factory     ] 157 symbols loaded\r\n",
        "[DEBUG             ] [Cache       ] register <kv.lang> with limit=None, timeout=Nones\r\n"
       ]
      },
      {
       "output_type": "stream",
       "stream": "stdout",
       "text": [
        "[DEBUG             ] [Cache       ] register <kv.image> with limit=None, timeout=60s\r\n",
        "[DEBUG             ] [Cache       ] register <kv.atlas> with limit=None, timeout=Nones\r\n"
       ]
      },
      {
       "output_type": "stream",
       "stream": "stdout",
       "text": [
        "[INFO              ] [Image       ] Providers: img_imageio, img_tex, img_dds, img_pygame, img_gif (img_pil ignored)\r\n",
        "[DEBUG             ] [Cache       ] register <kv.texture> with limit=1000, timeout=60s\r\n",
        "[DEBUG             ] [Cache       ] register <kv.shader> with limit=1000, timeout=3600s\r\n",
        "[DEBUG             ] [App         ] Loading kv <./pong.kv>\r\n",
        "[DEBUG             ] [Window      ] Ignored <egl_rpi> (import error)\r\n",
        "[INFO              ] [Window      ] Provider: pygame(['window_egl_rpi'] ignored)\r\n"
       ]
      },
      {
       "output_type": "stream",
       "stream": "stdout",
       "text": [
        "[DEBUG             ] [Window      ] Display driver Quartz\r\n",
        "[DEBUG             ] [Window      ] Actual window size: 800x600\r\n",
        "[DEBUG             ] [Window      ] Actual color bits r8 g8 b8 a8\r\n",
        "[DEBUG             ] [Window      ] Actual depth bits: 24\r\n",
        "[DEBUG             ] [Window      ] Actual stencil bits: 8\r\n",
        "[DEBUG             ] [Window      ] Actual multisampling samples: 2\r\n",
        "[INFO              ] [GL          ] OpenGL version <2.1 ATI-1.20.11>\r\n",
        "[INFO              ] [GL          ] OpenGL vendor <ATI Technologies Inc.>\r\n",
        "[INFO              ] [GL          ] OpenGL renderer <AMD Radeon HD 6750M OpenGL Engine>\r\n",
        "[INFO              ] [GL          ] OpenGL parsed version: 2, 1\r\n",
        "[INFO              ] [GL          ] Shading version <1.20>\r\n",
        "[INFO              ] [GL          ] Texture max size <16384>\r\n",
        "[INFO              ] [GL          ] Texture max units <16>\r\n"
       ]
      },
      {
       "output_type": "stream",
       "stream": "stdout",
       "text": [
        "[DEBUG             ] [Shader      ] Fragment compiled successfully\r\n",
        "[DEBUG             ] [Shader      ] Vertex compiled successfully\r\n",
        "[DEBUG             ] [ImageImageIO] Load </Applications/Kivy.app/Contents/Resources/kivy/kivy/data/glsl/default.png>\r\n",
        "[INFO              ] [GL          ] BGRA texture support is available\r\n",
        "[INFO              ] [Window      ] virtual keyboard not allowed, single mode, not docked\r\n",
        "[INFO              ] [Text        ] Provider: pygame\r\n",
        "[INFO              ] [OSC         ] using <multiprocessing> for socket\r\n",
        "[DEBUG             ] [Base        ] Create provider from mouse\r\n",
        "[INFO              ] [Base        ] Start application main loop\r\n",
        "[INFO              ] [GL          ] NPOT texture support is available\r\n"
       ]
      },
      {
       "output_type": "stream",
       "stream": "stdout",
       "text": [
        "[INFO              ] [Base        ] Leaving application in progress...\r\n"
       ]
      }
     ],
     "prompt_number": 28
    },
    {
     "cell_type": "heading",
     "level": 2,
     "metadata": {},
     "source": [
      "NAO plays pong"
     ]
    },
    {
     "cell_type": "code",
     "collapsed": false,
     "input": [
      "%%file kivy_nao_pong.py\n",
      "from kivy.app import App\n",
      "from kivy.uix.widget import Widget\n",
      "from kivy.properties import NumericProperty, ReferenceListProperty,\\\n",
      "    ObjectProperty\n",
      "from kivy.vector import Vector\n",
      "from kivy.clock import Clock\n",
      "from random import randint\n",
      "from naoqi import ALProxy\n",
      "\n",
      "NAO_IP = \"mistcalf.local\"\n",
      "\n",
      "tts = None\n",
      "\n",
      "class PongBall(Widget):\n",
      "    # Velocity of the ball on the x and y axis.\n",
      "    velocity_x = NumericProperty(0)\n",
      "    velocity_y = NumericProperty(0)\n",
      "    \n",
      "    # Referencelist property so we can use ball.velocity as\n",
      "    # shorthand, just like e.g. w.pos for w.x and w.y\n",
      "    velocity = ReferenceListProperty(velocity_x, velocity_y)\n",
      "    \n",
      "    # ''move'' function will move the ball one step. This\n",
      "    # will be called in equal intervals to animate the ball.\n",
      "    \n",
      "    def move(self):\n",
      "        self.pos = Vector(*self.velocity) + self.pos\n",
      "\n",
      "class PongGame(Widget):\n",
      "    ball = ObjectProperty(None)\n",
      "    \n",
      "    global tts\n",
      "    tts = ALProxy(\"ALTextToSpeech\", NAO_IP, 9559)\n",
      "    \n",
      "    def serve_ball(self):\n",
      "        self.ball.center = self.center\n",
      "        self.ball.velocity = Vector(4, 0).rotate(randint(0, 360))\n",
      "    \n",
      "    def update(self, dt):\n",
      "        # Call ball.move and other stuff.\n",
      "        self.ball.move()\n",
      "        \n",
      "        # Bounce off top and bottom.\n",
      "        if (self.ball.y < 0) or (self.ball.top > self.height):\n",
      "            self.ball.velocity_y *= -1\n",
      "            tts.say(\"Ow!\")\n",
      "            \n",
      "        # Bounce off left and right.\n",
      "        if (self.ball.x < 0) or (self.ball.right > self.width):\n",
      "            self.ball.velocity_x *= -1\n",
      "            tts.say(\"Ouch!\")\n",
      "\n",
      "class PongApp(App):\n",
      "    def build(self):\n",
      "        game = PongGame()\n",
      "        game.serve_ball()\n",
      "        Clock.schedule_interval(game.update, 1.0 / 60.0)\n",
      "        return game\n",
      "    \n",
      "def main():\n",
      "    \n",
      "    PongApp().run()    \n",
      "\n",
      "if __name__ == \"__main__\":\n",
      "    main()"
     ],
     "language": "python",
     "metadata": {},
     "outputs": [
      {
       "output_type": "stream",
       "stream": "stdout",
       "text": [
        "Overwriting kivy_nao_pong.py\n"
       ]
      }
     ],
     "prompt_number": 37
    },
    {
     "cell_type": "code",
     "collapsed": false,
     "input": [
      "!kivy kivy_nao_pong.py"
     ],
     "language": "python",
     "metadata": {},
     "outputs": [
      {
       "output_type": "stream",
       "stream": "stdout",
       "text": [
        "[INFO              ] Kivy v1.8.0\r\n"
       ]
      },
      {
       "output_type": "stream",
       "stream": "stdout",
       "text": [
        "[INFO              ] [Logger      ] Record log in /Users/mikemcfarlane/.kivy/logs/kivy_14-05-03_14.txt\r\n",
        "[INFO              ] [Factory     ] 157 symbols loaded\r\n",
        "[DEBUG             ] [Cache       ] register <kv.lang> with limit=None, timeout=Nones\r\n"
       ]
      },
      {
       "output_type": "stream",
       "stream": "stdout",
       "text": [
        "[DEBUG             ] [Cache       ] register <kv.image> with limit=None, timeout=60s\r\n"
       ]
      },
      {
       "output_type": "stream",
       "stream": "stdout",
       "text": [
        "[DEBUG             ] [Cache       ] register <kv.atlas> with limit=None, timeout=Nones\r\n"
       ]
      },
      {
       "output_type": "stream",
       "stream": "stdout",
       "text": [
        "[INFO              ] [Image       ] Providers: img_imageio, img_tex, img_dds, img_pygame, img_gif (img_pil ignored)\r\n",
        "[DEBUG             ] [Cache       ] register <kv.texture> with limit=1000, timeout=60s\r\n",
        "[DEBUG             ] [Cache       ] register <kv.shader> with limit=1000, timeout=3600s\r\n"
       ]
      },
      {
       "output_type": "stream",
       "stream": "stdout",
       "text": [
        "\u001b[0m\u001b[37m\u001b[0m\u001b[34m[I] \u001b[0m\u001b[47m\u001b[30m3343\u001b[0m \u001b[37mqi.eventloop: \u001b[0mCreating event loop while no qi::Application() is running\r\n",
        "\u001b[0m\u001b[37m\u001b[0m\u001b[34m[I] \u001b[0m\u001b[47m\u001b[30m3343\u001b[0m \u001b[37mqimessaging.session: \u001b[0mSession listener created on tcp://0.0.0.0:0\r\n",
        "\u001b[0m\u001b[37m\u001b[0m\u001b[34m[I] \u001b[0m\u001b[47m\u001b[30m3343\u001b[0m \u001b[37mqi.eventloop: \u001b[0mCreating event loop while no qi::Application() is running\r\n",
        "\u001b[0m\u001b[37m\u001b[0m\u001b[34m[I] \u001b[0m\u001b[47m\u001b[30m3343\u001b[0m \u001b[37mqimessaging.transportserver: \u001b[0mTransportServer will listen on: tcp://172.20.10.4:50871\r\n",
        "\u001b[0m\u001b[37m\u001b[0m\u001b[34m[I] \u001b[0m\u001b[47m\u001b[30m3343\u001b[0m \u001b[37mqimessaging.transportserver: \u001b[0mTransportServer will listen on: tcp://127.0.0.1:50871\r\n",
        "\u001b[0m\u001b[37m\u001b[0m\u001b[34m[I] \u001b[0m\u001b[47m\u001b[30m3343\u001b[0m \u001b[37mqimessaging.transportserver: \u001b[0mTransportServer will listen on: tcp://10.137.0.10:50871\r\n"
       ]
      },
      {
       "output_type": "stream",
       "stream": "stdout",
       "text": [
        "[DEBUG             ] [App         ] Loading kv <./pong.kv>\r\n",
        "[DEBUG             ] [Window      ] Ignored <egl_rpi> (import error)\r\n",
        "[INFO              ] [Window      ] Provider: pygame(['window_egl_rpi'] ignored)\r\n"
       ]
      },
      {
       "output_type": "stream",
       "stream": "stdout",
       "text": [
        "[DEBUG             ] [Window      ] Display driver Quartz\r\n",
        "[DEBUG             ] [Window      ] Actual window size: 800x600\r\n",
        "[DEBUG             ] [Window      ] Actual color bits r8 g8 b8 a8\r\n",
        "[DEBUG             ] [Window      ] Actual depth bits: 24\r\n",
        "[DEBUG             ] [Window      ] Actual stencil bits: 8\r\n",
        "[DEBUG             ] [Window      ] Actual multisampling samples: 2\r\n",
        "[INFO              ] [GL          ] OpenGL version <2.1 ATI-1.20.11>\r\n",
        "[INFO              ] [GL          ] OpenGL vendor <ATI Technologies Inc.>\r\n",
        "[INFO              ] [GL          ] OpenGL renderer <AMD Radeon HD 6750M OpenGL Engine>\r\n",
        "[INFO              ] [GL          ] OpenGL parsed version: 2, 1\r\n",
        "[INFO              ] [GL          ] Shading version <1.20>\r\n",
        "[INFO              ] [GL          ] Texture max size <16384>\r\n",
        "[INFO              ] [GL          ] Texture max units <16>\r\n",
        "[DEBUG             ] [Shader      ] Fragment compiled successfully\r\n",
        "[DEBUG             ] [Shader      ] Vertex compiled successfully\r\n",
        "[DEBUG             ] [ImageImageIO] Load </Applications/Kivy.app/Contents/Resources/kivy/kivy/data/glsl/default.png>\r\n",
        "[INFO              ] [GL          ] BGRA texture support is available\r\n",
        "[INFO              ] [Window      ] virtual keyboard not allowed, single mode, not docked\r\n",
        "[INFO              ] [Text        ] Provider: pygame\r\n"
       ]
      },
      {
       "output_type": "stream",
       "stream": "stdout",
       "text": [
        "[INFO              ] [OSC         ] using <multiprocessing> for socket\r\n",
        "[DEBUG             ] [Base        ] Create provider from mouse\r\n",
        "[INFO              ] [Base        ] Start application main loop\r\n",
        "[INFO              ] [GL          ] NPOT texture support is available\r\n"
       ]
      },
      {
       "output_type": "stream",
       "stream": "stdout",
       "text": [
        "[INFO              ] [Base        ] Leaving application in progress...\r\n"
       ]
      }
     ],
     "prompt_number": 38
    },
    {
     "cell_type": "code",
     "collapsed": false,
     "input": [],
     "language": "python",
     "metadata": {},
     "outputs": []
    }
   ],
   "metadata": {}
  }
 ]
}