{
 "metadata": {
  "name": ""
 },
 "nbformat": 3,
 "nbformat_minor": 0,
 "worksheets": [
  {
   "cells": [
    {
     "cell_type": "heading",
     "level": 1,
     "metadata": {},
     "source": [
      "Introduction to Kivy"
     ]
    },
    {
     "cell_type": "markdown",
     "metadata": {},
     "source": [
      "Objective: create a simple [Kivy](http://kivy.org/) using the [Pong Game Tutorial](http://kivy.org/docs/tutorials/pong.html)."
     ]
    },
    {
     "cell_type": "code",
     "collapsed": false,
     "input": [
      "%%file kivy_pong.py\n",
      "from kivy.app import App\n",
      "from kivy.uix.widget import Widget\n",
      "from kivy.properties import NumericProperty, ReferenceListProperty,\\\n",
      "    ObjectProperty\n",
      "from kivy.vector import Vector\n",
      "from kivy.clock import Clock\n",
      "from random import randint\n",
      "\n",
      "class PongPaddle(Widget):\n",
      "    score = NumericProperty(0)\n",
      "    \n",
      "    def bounce_ball(self, ball):\n",
      "        if self.collide_widget(ball):\n",
      "            vx, vy = ball.velocity\n",
      "            offset = (ball.center_y - self.center_y) / (self.height / 2)\n",
      "            bounced = Vector(-1 * vx, vy)\n",
      "            vel = bounced * 1.1\n",
      "            ball.velocity = vel.x, vel.y + offset\n",
      "\n",
      "class PongBall(Widget):\n",
      "    velocity_x = NumericProperty(0)\n",
      "    velocity_y = NumericProperty(0)\n",
      "    velocity = ReferenceListProperty(velocity_x, velocity_y)\n",
      "    \n",
      "    def move(self):\n",
      "        self.pos = Vector(*self.velocity) + self.pos\n",
      "        \n",
      "class PongGame(Widget):\n",
      "    ball = ObjectProperty(None)\n",
      "    player1 = ObjectProperty(None)\n",
      "    player2 = ObjectProperty(None)\n",
      "#     square = ObjectProperty(None)\n",
      "    \n",
      "    def serve_ball(self, vel=(4, 0)):\n",
      "        self.ball.center = self.center\n",
      "        self.ball.velocity = Vector(4, 0).rotate(randint(0, 360))\n",
      " \n",
      "    def update(self, dt):\n",
      "        # Call ball.move and other stuff.\n",
      "        self.ball.move()\n",
      "#         self.square.move()\n",
      "        \n",
      "        # Bounce of paddles.\n",
      "        self.player1.bounce_ball(self.ball)\n",
      "        self.player2.bounce_ball(self.ball)\n",
      "        \n",
      "        # Bounce off top or bottom.\n",
      "        if (self.ball.y < self.y) or (self.ball.top > self.top):\n",
      "            self.ball.velocity_y *= -1\n",
      "\n",
      "            \n",
      "        # Went off to side to score point.\n",
      "        if self.ball.x < self.x:\n",
      "            self.player2.score += 1\n",
      "            self.serve_ball(vel=(4, 0))\n",
      "        if self.ball.x > self.width:\n",
      "            self.player1.score += 1\n",
      "            self.serve_ball(vel=(-4, 0))\n",
      "            \n",
      "    def on_touch_move(self, touch):\n",
      "        if touch.x < self.width / 3:\n",
      "            self.player1.center_y = touch.y\n",
      "        if touch.x > self.width - self.width / 3:\n",
      "            self.player2.center_y = touch.y\n",
      "        \n",
      "            \n",
      "class PongApp(App):\n",
      "    def build(self):\n",
      "        game = PongGame()\n",
      "        game.serve_ball()\n",
      "        Clock.schedule_interval(game.update, 1.0 / 60.0)\n",
      "        return game\n",
      "    \n",
      "if __name__ == \"__main__\":\n",
      "    PongApp().run()"
     ],
     "language": "python",
     "metadata": {},
     "outputs": [
      {
       "output_type": "stream",
       "stream": "stdout",
       "text": [
        "Overwriting kivy_pong.py\n"
       ]
      }
     ],
     "prompt_number": 3
    },
    {
     "cell_type": "code",
     "collapsed": false,
     "input": [
      "%%file pong.kv\n",
      "#:kivy 1.0.9\n",
      "\n",
      "<PongBall>:\n",
      "    size: 50, 50\n",
      "    canvas:\n",
      "        Color:\n",
      "            rgb: 1, 1, 0.2\n",
      "        Ellipse:\n",
      "            pos: self.pos\n",
      "            size: self.size\n",
      "                \n",
      "<PongPaddle>:\n",
      "    size: 25, 200\n",
      "    canvas:\n",
      "        Color:\n",
      "            rgb: 1, 1, 1\n",
      "        Rectangle:\n",
      "            pos: self.pos\n",
      "            size: self.size\n",
      "\n",
      "<PongGame>:\n",
      "    ball: pong_ball\n",
      "    player1: player_left\n",
      "    player2: player_right\n",
      "\n",
      "    canvas.before:\n",
      "        Color:\n",
      "            rgba: 0.1, 1, 0.1, 0.5\n",
      "        Rectangle:\n",
      "            pos: self.pos\n",
      "            size: self.size\n",
      "    \n",
      "    canvas:\n",
      "        Color:\n",
      "            rgb: 1, 1, 1\n",
      "        Rectangle:\n",
      "            pos: self.center_x - 5, 0\n",
      "            size: 10, self.height\n",
      "                \n",
      "    Label:\n",
      "        font_size: 40\n",
      "        center_x: root.width / 4\n",
      "        top: root.top - 10\n",
      "        text: \"Player 1: \" + str(root.player1.score)\n",
      "            \n",
      "    Label:\n",
      "        font_size: 40\n",
      "        center_x: root.width * 3 / 4\n",
      "        top: root.top - 10  \n",
      "        text: \"Player 2: \" + str(root.player2.score)\n",
      "            \n",
      "    PongBall:\n",
      "        id: pong_ball\n",
      "        center: self.parent.center\n",
      "            \n",
      "    PongPaddle:\n",
      "        id: player_left\n",
      "        x: root.x\n",
      "        center_y: root.center_y\n",
      "            \n",
      "    PongPaddle:\n",
      "        id: player_right\n",
      "        x: root.width - self.width\n",
      "        center_y: root.center_y"
     ],
     "language": "python",
     "metadata": {},
     "outputs": [
      {
       "output_type": "stream",
       "stream": "stdout",
       "text": [
        "Overwriting pong.kv\n"
       ]
      }
     ],
     "prompt_number": 6
    },
    {
     "cell_type": "code",
     "collapsed": false,
     "input": [
      "!kivy kivy_pong.py"
     ],
     "language": "python",
     "metadata": {},
     "outputs": [
      {
       "output_type": "stream",
       "stream": "stdout",
       "text": [
        "[INFO              ] Kivy v1.8.0\r\n",
        "[INFO              ] [Logger      ] Record log in /Users/mikemcfarlane/.kivy/logs/kivy_14-05-08_50.txt\r\n",
        "[INFO              ] [Factory     ] 157 symbols loaded\r\n",
        "[DEBUG             ] [Cache       ] register <kv.lang> with limit=None, timeout=Nones\r\n"
       ]
      },
      {
       "output_type": "stream",
       "stream": "stdout",
       "text": [
        "[DEBUG             ] [Cache       ] register <kv.image> with limit=None, timeout=60s\r\n",
        "[DEBUG             ] [Cache       ] register <kv.atlas> with limit=None, timeout=Nones\r\n"
       ]
      },
      {
       "output_type": "stream",
       "stream": "stdout",
       "text": [
        "[INFO              ] [Image       ] Providers: img_imageio, img_tex, img_dds, img_pygame, img_gif (img_pil ignored)\r\n",
        "[DEBUG             ] [Cache       ] register <kv.texture> with limit=1000, timeout=60s\r\n",
        "[DEBUG             ] [Cache       ] register <kv.shader> with limit=1000, timeout=3600s\r\n",
        "[DEBUG             ] [App         ] Loading kv <./pong.kv>\r\n",
        "[DEBUG             ] [Window      ] Ignored <egl_rpi> (import error)\r\n",
        "[INFO              ] [Window      ] Provider: pygame(['window_egl_rpi'] ignored)\r\n"
       ]
      },
      {
       "output_type": "stream",
       "stream": "stdout",
       "text": [
        "[DEBUG             ] [Window      ] Display driver Quartz\r\n",
        "[DEBUG             ] [Window      ] Actual window size: 800x600\r\n",
        "[DEBUG             ] [Window      ] Actual color bits r8 g8 b8 a8\r\n",
        "[DEBUG             ] [Window      ] Actual depth bits: 24\r\n",
        "[DEBUG             ] [Window      ] Actual stencil bits: 8\r\n",
        "[DEBUG             ] [Window      ] Actual multisampling samples: 2\r\n",
        "[INFO              ] [GL          ] OpenGL version <2.1 ATI-1.20.11>\r\n",
        "[INFO              ] [GL          ] OpenGL vendor <ATI Technologies Inc.>\r\n",
        "[INFO              ] [GL          ] OpenGL renderer <AMD Radeon HD 6750M OpenGL Engine>\r\n",
        "[INFO              ] [GL          ] OpenGL parsed version: 2, 1\r\n",
        "[INFO              ] [GL          ] Shading version <1.20>\r\n",
        "[INFO              ] [GL          ] Texture max size <16384>\r\n",
        "[INFO              ] [GL          ] Texture max units <16>\r\n",
        "[DEBUG             ] [Shader      ] Fragment compiled successfully\r\n",
        "[DEBUG             ] [Shader      ] Vertex compiled successfully\r\n",
        "[DEBUG             ] [ImageImageIO] Load </Applications/Kivy.app/Contents/Resources/kivy/kivy/data/glsl/default.png>\r\n",
        "[INFO              ] [GL          ] BGRA texture support is available\r\n",
        "[INFO              ] [Window      ] virtual keyboard not allowed, single mode, not docked\r\n",
        "[INFO              ] [Text        ] Provider: pygame\r\n",
        "[INFO              ] [OSC         ] using <multiprocessing> for socket\r\n",
        "[DEBUG             ] [Base        ] Create provider from mouse\r\n",
        "[INFO              ] [Base        ] Start application main loop\r\n",
        "[INFO              ] [GL          ] NPOT texture support is available\r\n"
       ]
      },
      {
       "output_type": "stream",
       "stream": "stdout",
       "text": [
        "[INFO              ] [Base        ] Leaving application in progress...\r\n"
       ]
      }
     ],
     "prompt_number": 7
    },
    {
     "cell_type": "heading",
     "level": 2,
     "metadata": {},
     "source": [
      "A paint app!"
     ]
    },
    {
     "cell_type": "markdown",
     "metadata": {},
     "source": [
      "A simple paint app from the [paint app tutorial](http://kivy.org/docs/tutorials/firstwidget.html)."
     ]
    },
    {
     "cell_type": "code",
     "collapsed": false,
     "input": [
      "%%file paint.py\n",
      "from random import random\n",
      "from kivy.app import App\n",
      "from kivy.uix.widget import Widget\n",
      "from kivy.uix.button import Button\n",
      "from kivy.graphics import Color, Ellipse, Line\n",
      "\n",
      "class MyPaintWidget(Widget):\n",
      "\n",
      "\tdef on_touch_down(self, touch):\n",
      "\t\tprint \"touch: \", touch\n",
      "\t\tcolor = (random(), 1, 1)\n",
      "\t\t\n",
      "\t\twith self.canvas:\n",
      "\t\t\tColor(*color, mode = 'hsv')\n",
      "\t\t\td = 30.\n",
      "\t\t\tEllipse(pos=(touch.x - d / 2, touch.y - d / 2), size = (d, d))\n",
      "\t\t\ttouch.ud['line'] = Line(points = (touch.x, touch.y))\n",
      "\t\t\t\n",
      "\tdef on_touch_move(self, touch):\n",
      "\t\ttouch.ud['line'].points += [touch.x, touch.y]\n",
      "\n",
      "\tdef on_touch_up(self, touch):\n",
      "\t\tcolor = (random(), 1, 1)\n",
      "\n",
      "\t\twith self.canvas:\n",
      "\t\t\tColor(*color, mode = 'hsv')\n",
      "\t\t\td = 30.\n",
      "\t\t\tEllipse(pos=(touch.x - d / 2, touch.y - d / 2), size = (d, d))\n",
      "\t\t\n",
      "class MyPaintApp(App):\n",
      "\n",
      "\tdef build(self):\n",
      "\t\tparent = Widget()\n",
      "\t\tpainter = MyPaintWidget()\n",
      "\t\tclearbtn = Button(text='Clear')\n",
      "\t\tparent.add_widget(painter)\n",
      "\t\tparent.add_widget(clearbtn)\n",
      "\n",
      "\t\tdef clear_canvas(obj):\n",
      "\t\t\tpainter.canvas.clear()\n",
      "\t\t\n",
      "\t\tclearbtn.bind(on_release=clear_canvas)\n",
      "\n",
      "\t\treturn parent\n",
      "\n",
      "if __name__ == \"__main__\":\n",
      "\tMyPaintApp().run()"
     ],
     "language": "python",
     "metadata": {},
     "outputs": [
      {
       "output_type": "stream",
       "stream": "stdout",
       "text": [
        "Overwriting paint.py\n"
       ]
      }
     ],
     "prompt_number": 1
    },
    {
     "cell_type": "code",
     "collapsed": false,
     "input": [
      "!kivy paint.py"
     ],
     "language": "python",
     "metadata": {},
     "outputs": [
      {
       "output_type": "stream",
       "stream": "stdout",
       "text": [
        "[INFO              ] Kivy v1.8.0\r\n",
        "[INFO              ] [Logger      ] Record log in /Users/mikemcfarlane/.kivy/logs/kivy_14-05-15_12.txt\r\n",
        "[INFO              ] [Factory     ] 157 symbols loaded\r\n",
        "[DEBUG             ] [Cache       ] register <kv.lang> with limit=None, timeout=Nones\r\n"
       ]
      },
      {
       "output_type": "stream",
       "stream": "stdout",
       "text": [
        "[DEBUG             ] [Cache       ] register <kv.image> with limit=None, timeout=60s\r\n",
        "[DEBUG             ] [Cache       ] register <kv.atlas> with limit=None, timeout=Nones\r\n"
       ]
      },
      {
       "output_type": "stream",
       "stream": "stdout",
       "text": [
        "[INFO              ] [Image       ] Providers: img_imageio, img_tex, img_dds, img_pygame, img_gif (img_pil ignored)\r\n",
        "[DEBUG             ] [Cache       ] register <kv.texture> with limit=1000, timeout=60s\r\n",
        "[DEBUG             ] [Cache       ] register <kv.shader> with limit=1000, timeout=3600s\r\n",
        "[INFO              ] [Text        ] Provider: pygame\r\n",
        "[DEBUG             ] [App         ] Loading kv <./mypaint.kv>\r\n",
        "[DEBUG             ] [App         ] kv <./mypaint.kv> not found\r\n",
        "[DEBUG             ] [Window      ] Ignored <egl_rpi> (import error)\r\n",
        "[INFO              ] [Window      ] Provider: pygame(['window_egl_rpi'] ignored)\r\n"
       ]
      },
      {
       "output_type": "stream",
       "stream": "stdout",
       "text": [
        "[DEBUG             ] [Window      ] Display driver Quartz\r\n",
        "[DEBUG             ] [Window      ] Actual window size: 800x600\r\n",
        "[DEBUG             ] [Window      ] Actual color bits r8 g8 b8 a8\r\n",
        "[DEBUG             ] [Window      ] Actual depth bits: 24\r\n",
        "[DEBUG             ] [Window      ] Actual stencil bits: 8\r\n",
        "[DEBUG             ] [Window      ] Actual multisampling samples: 2\r\n",
        "[INFO              ] [GL          ] OpenGL version <2.1 ATI-1.20.11>\r\n",
        "[INFO              ] [GL          ] OpenGL vendor <ATI Technologies Inc.>\r\n",
        "[INFO              ] [GL          ] OpenGL renderer <AMD Radeon HD 6750M OpenGL Engine>\r\n",
        "[INFO              ] [GL          ] OpenGL parsed version: 2, 1\r\n",
        "[INFO              ] [GL          ] Shading version <1.20>\r\n",
        "[INFO              ] [GL          ] Texture max size <16384>\r\n",
        "[INFO              ] [GL          ] Texture max units <16>\r\n",
        "[DEBUG             ] [Shader      ] Fragment compiled successfully\r\n",
        "[DEBUG             ] [Shader      ] Vertex compiled successfully\r\n",
        "[DEBUG             ] [ImageImageIO] Load </Applications/Kivy.app/Contents/Resources/kivy/kivy/data/glsl/default.png>\r\n",
        "[INFO              ] [GL          ] BGRA texture support is available\r\n",
        "[INFO              ] [Window      ] virtual keyboard not allowed, single mode, not docked\r\n",
        "[INFO              ] [OSC         ] using <multiprocessing> for socket\r\n",
        "[DEBUG             ] [Base        ] Create provider from mouse\r\n",
        "[INFO              ] [Base        ] Start application main loop\r\n",
        "[INFO              ] [GL          ] NPOT texture support is available\r\n",
        "[DEBUG             ] [Atlas       ] Load </Applications/Kivy.app/Contents/Resources/kivy/kivy/data/../data/images/defaulttheme.atlas>\r\n",
        "[DEBUG             ] [Atlas       ] Need to load 1 images\r\n",
        "[DEBUG             ] [Atlas       ] Load </Applications/Kivy.app/Contents/Resources/kivy/kivy/data/../data/images/defaulttheme-0.png>\r\n",
        "[DEBUG             ] [ImageImageIO] Load </Applications/Kivy.app/Contents/Resources/kivy/kivy/data/../data/images/defaulttheme-0.png>\r\n"
       ]
      },
      {
       "output_type": "stream",
       "stream": "stdout",
       "text": [
        "touch:  <MouseMotionEvent spos=(0.29, 0.5233333333333333) pos=(231.99999999999997, 314.0)>\r\n"
       ]
      },
      {
       "output_type": "stream",
       "stream": "stdout",
       "text": [
        "touch:  <MouseMotionEvent spos=(0.3225, 0.2616666666666667) pos=(258.0, 157.00000000000003)>\r\n"
       ]
      },
      {
       "output_type": "stream",
       "stream": "stdout",
       "text": [
        "touch:  <MouseMotionEvent spos=(0.16, 0.3733333333333333) pos=(128.0, 223.99999999999997)>\r\n"
       ]
      },
      {
       "output_type": "stream",
       "stream": "stdout",
       "text": [
        "touch:  <MouseMotionEvent spos=(0.26, 0.5716666666666667) pos=(208.0, 343.0)>\r\n"
       ]
      },
      {
       "output_type": "stream",
       "stream": "stdout",
       "text": [
        "touch:  <MouseMotionEvent spos=(0.3625, 0.77) pos=(290.0, 462.0)>\r\n"
       ]
      },
      {
       "output_type": "stream",
       "stream": "stdout",
       "text": [
        "touch:  <MouseMotionEvent spos=(0.70625, 0.5033333333333334) pos=(565.0, 302.00000000000006)>\r\n"
       ]
      },
      {
       "output_type": "stream",
       "stream": "stdout",
       "text": [
        "touch:  <MouseMotionEvent spos=(0.1625, 0.4733333333333334) pos=(130.0, 284.00000000000006)>\r\n"
       ]
      },
      {
       "output_type": "stream",
       "stream": "stdout",
       "text": [
        "[INFO              ] [Base        ] Leaving application in progress...\r\n"
       ]
      }
     ],
     "prompt_number": 1
    },
    {
     "cell_type": "heading",
     "level": 2,
     "metadata": {},
     "source": [
      "NAO plays pong"
     ]
    },
    {
     "cell_type": "markdown",
     "metadata": {},
     "source": [
      "Let's get NAO and Kivy working together using proxies."
     ]
    },
    {
     "cell_type": "code",
     "collapsed": false,
     "input": [
      "%%file nao_pong.py\n",
      "from kivy.app import App\n",
      "from kivy.uix.widget import Widget\n",
      "from kivy.properties import NumericProperty, ReferenceListProperty,\\\n",
      "    ObjectProperty\n",
      "from kivy.vector import Vector\n",
      "from kivy.clock import Clock\n",
      "from kivy.core.audio import SoundLoader\n",
      "\n",
      "from random import randint\n",
      "from time import sleep\n",
      "\n",
      "from naoqi import ALProxy\n",
      "\n",
      "\n",
      "NAO_IP = \"mistcalf.local\"\n",
      "# Setup animatedSpeech.\n",
      "BODYLANGUAGEMODECONFIG = {\"bodyLanguageMode\" : \"contextual\"}\n",
      "\n",
      "tts = None\n",
      "animatedSpeech = None\n",
      "robotMotion = None\n",
      "\n",
      "class NAOPongPaddle(Widget):\n",
      "    score = NumericProperty(0)\n",
      "\n",
      "    sound1 = SoundLoader.load('Sounds/bipReco1.wav')\n",
      "    sound2 = SoundLoader.load('Sounds/bipReco2.wav')\n",
      "    \n",
      "    def bounce_ball(self, ball):\n",
      "        print \"ball:\", self.player_id\n",
      "        \n",
      "        if self.collide_widget(ball):\n",
      "            vx, vy = ball.velocity\n",
      "            offset = (ball.center_y - self.center_y) / (self.height / 2)\n",
      "            bounced = Vector(-1 * vx, vy)\n",
      "            vel = bounced * 1.1\n",
      "            ball.velocity = vel.x, vel.y + offset\n",
      "            self.sound1.play()\n",
      "\n",
      "class NAOPongBall(Widget):\n",
      "    velocity_x = NumericProperty(0)\n",
      "    velocity_y = NumericProperty(0)\n",
      "    velocity = ReferenceListProperty(velocity_x, velocity_y)\n",
      "    \n",
      "    def move(self):\n",
      "        self.pos = Vector(*self.velocity) + self.pos\n",
      "        \n",
      "\n",
      "class NAOPongGame(Widget):\n",
      "    ball = ObjectProperty(None)\n",
      "    player1 = ObjectProperty(None)\n",
      "    player_nao = ObjectProperty(None)\n",
      "\n",
      "    global tts\n",
      "    \n",
      "    def serve_ball(self, vel=(4, 0)):\n",
      "        self.ball.center = self.center\n",
      "        self.ball.velocity = Vector(4, 0).rotate(randint(0, 360))\n",
      "    \n",
      "    def update(self, dt):\n",
      "        # Call ball.move and other stuff.\n",
      "        self.ball.move()\n",
      "  \n",
      "        # Bounce of paddles.\n",
      "        self.player1.bounce_ball(self.ball)\n",
      "        self.player_nao.bounce_ball(self.ball)\n",
      "        \n",
      "        # Bounce off top or bottom.\n",
      "        if (self.ball.y < self.y) or (self.ball.top > self.top):\n",
      "            self.ball.velocity_y *= -1\n",
      "            \n",
      "        # Went off to side to score point.\n",
      "        if self.ball.x < self.x:\n",
      "            id = animatedSpeech.post.say(\"I win!\", BODYLANGUAGEMODECONFIG)\n",
      "            animatedSpeech.wait(id, 0)\n",
      "            self.player_nao.score += 1\n",
      "            self.serve_ball(vel=(4, 0))\n",
      "        if self.ball.x > self.width:\n",
      "            id = animatedSpeech.post.say(\"Ouch\", BODYLANGUAGEMODECONFIG)\n",
      "            animatedSpeech.wait(id, 0)\n",
      "            self.player1.score += 1\n",
      "            self.serve_ball(vel=(-4, 0))\n",
      "\n",
      "        #print \"ball.x: {}, x: {}, ball.y: {}, y: {}\".format(self.ball.x, self.x, self.ball.y, self.y)\n",
      "            \n",
      "    def on_touch_move(self, touch):\n",
      "        if touch.x < self.width / 3:\n",
      "            self.player1.center_y = touch.y\n",
      "        if touch.x > self.width - self.width / 3:\n",
      "            self.player_nao.center_y = touch.y\n",
      "        \n",
      "            \n",
      "class NAOPongApp(App):\n",
      "    def build(self):\n",
      "        game = NAOPongGame()\n",
      "        game.serve_ball()\n",
      "        Clock.schedule_interval(game.update, 1.0 / 60.0)\n",
      "        return game\n",
      "\n",
      "def NAO_setup():\n",
      "    \"\"\" Setup NAO inc proxies.\n",
      "\n",
      "    \"\"\"\n",
      "    # Define globals for holding proxies.\n",
      "    global tts\n",
      "    global animatedSpeech\n",
      "    global robotMotion\n",
      "\n",
      "    # Setup proxies.\n",
      "    try:\n",
      "        tts = ALProxy(\"ALTextToSpeech\", NAO_IP, 9559)\n",
      "    except Exception, e:\n",
      "        print \"Could not setup tts, error: \", e\n",
      "    try:\n",
      "        animatedSpeech = ALProxy(\"ALAnimatedSpeech\", NAO_IP, 9559)\n",
      "    except Exception, e:\n",
      "        print \"Could not setup animatedSpeech, error: \", e\n",
      "    try:\n",
      "        robotMotion = ALProxy(\"ALMotion\", NAO_IP, 9559)\n",
      "    except Exception, e:\n",
      "        print \"Could not setup robotMotion, error: \", e\n",
      "\n",
      "    # Wake NAO up.\n",
      "    robotMotion.wakeUp()\n",
      "\n",
      "def NAO_instructions():\n",
      "    \"\"\" Provides game instructions.\n",
      "\n",
      "    \"\"\"\n",
      "    global tts\n",
      "\n",
      "    id = animatedSpeech.post.say(\"We are going to play ping pong. I play on the right, you play on the left.\", BODYLANGUAGEMODECONFIG)\n",
      "    animatedSpeech.wait(id, 0)\n",
      "    sleep(1.0)\n",
      "\n",
      "def main():\n",
      "    NAO_setup()\n",
      "    #NAO_instructions()\n",
      "    NAOPongApp().run()\n",
      "    \n",
      "if __name__ == \"__main__\":\n",
      "    main()"
     ],
     "language": "python",
     "metadata": {},
     "outputs": [
      {
       "output_type": "stream",
       "stream": "stdout",
       "text": [
        "Overwriting nao_pong.py\n"
       ]
      }
     ],
     "prompt_number": 12
    },
    {
     "cell_type": "code",
     "collapsed": false,
     "input": [
      "%%file NAOPong.kv\n",
      "#:kivy 1.0.9\n",
      "\n",
      "<NAOPongBall>:\n",
      "    size: 50, 50\n",
      "    canvas:\n",
      "        Color:\n",
      "            rgb: 1, 1, 0.2\n",
      "        Ellipse:\n",
      "            pos: self.pos\n",
      "            size: self.size\n",
      "                \n",
      "<NAOPongPaddle>:\n",
      "    size: 25, 200\n",
      "    canvas:\n",
      "        Color:\n",
      "            rgb: 1, 1, 1\n",
      "        Rectangle:\n",
      "            pos: self.pos\n",
      "            size: self.size\n",
      "\n",
      "<NAOPongGame>:\n",
      "    ball: pong_ball\n",
      "    player1: player_left\n",
      "    player_nao: player_right\n",
      "\n",
      "    canvas.before:\n",
      "        Color:\n",
      "            rgba: 0.1, 1, 0.1, 0.5\n",
      "        Rectangle:\n",
      "            pos: self.pos\n",
      "            size: self.size\n",
      "    \n",
      "    canvas:\n",
      "        Color:\n",
      "            rgb: 1, 1, 1\n",
      "        Rectangle:\n",
      "            pos: self.center_x - 5, 0\n",
      "            size: 10, self.height\n",
      "                \n",
      "    Label:\n",
      "        font_size: 40\n",
      "        center_x: root.width / 4\n",
      "        top: root.top - 10\n",
      "        text: \"You: \" + str(root.player1.score)\n",
      "            \n",
      "    Label:\n",
      "        font_size: 40\n",
      "        center_x: root.width * 3 / 4\n",
      "        top: root.top - 10  \n",
      "        text: \"NAO: \" + str(root.player_nao.score)\n",
      "            \n",
      "    NAOPongBall:\n",
      "        id: pong_ball\n",
      "        center: self.parent.center\n",
      "            \n",
      "    NAOPongPaddle:\n",
      "        id: player_left\n",
      "        x: root.x\n",
      "        center_y: root.center_y\n",
      "        player_id: 5\n",
      "            \n",
      "    NAOPongPaddle:\n",
      "        id: player_right\n",
      "        x: root.width - self.width\n",
      "        center_y: root.center_y\n",
      "        player_id: 6\n",
      "        "
     ],
     "language": "python",
     "metadata": {},
     "outputs": [
      {
       "output_type": "stream",
       "stream": "stdout",
       "text": [
        "Overwriting NAOPong.kv\n"
       ]
      }
     ],
     "prompt_number": 11
    },
    {
     "cell_type": "code",
     "collapsed": false,
     "input": [
      "!kivy nao_pong.py"
     ],
     "language": "python",
     "metadata": {},
     "outputs": [
      {
       "output_type": "stream",
       "stream": "stdout",
       "text": [
        "[INFO              ] Kivy v1.8.0\r\n",
        "[INFO              ] [Logger      ] Record log in /Users/mikemcfarlane/.kivy/logs/kivy_14-05-08_51.txt\r\n",
        "[INFO              ] [Factory     ] 157 symbols loaded\r\n",
        "[DEBUG             ] [Cache       ] register <kv.lang> with limit=None, timeout=Nones\r\n"
       ]
      },
      {
       "output_type": "stream",
       "stream": "stdout",
       "text": [
        "[DEBUG             ] [Cache       ] register <kv.image> with limit=None, timeout=60s\r\n",
        "[DEBUG             ] [Cache       ] register <kv.atlas> with limit=None, timeout=Nones\r\n"
       ]
      },
      {
       "output_type": "stream",
       "stream": "stdout",
       "text": [
        "[INFO              ] [Image       ] Providers: img_imageio, img_tex, img_dds, img_pygame, img_gif (img_pil ignored)\r\n",
        "[DEBUG             ] [Cache       ] register <kv.texture> with limit=1000, timeout=60s\r\n",
        "[DEBUG             ] [Cache       ] register <kv.shader> with limit=1000, timeout=3600s\r\n"
       ]
      },
      {
       "output_type": "stream",
       "stream": "stdout",
       "text": [
        "\u001b[0m\u001b[37m\u001b[0m\u001b[34m[I] \u001b[0m\u001b[47m\u001b[30m3343\u001b[0m \u001b[37mqi.eventloop: \u001b[0mCreating event loop while no qi::Application() is running\r\n",
        "\u001b[0m\u001b[37m\u001b[0m\u001b[34m[I] \u001b[0m\u001b[47m\u001b[30m3343\u001b[0m \u001b[37mqimessaging.session: \u001b[0mSession listener created on tcp://0.0.0.0:0\r\n",
        "\u001b[0m\u001b[37m\u001b[0m\u001b[34m[I] \u001b[0m\u001b[47m\u001b[30m3343\u001b[0m \u001b[37mqi.eventloop: \u001b[0mCreating event loop while no qi::Application() is running\r\n",
        "\u001b[0m\u001b[37m\u001b[0m\u001b[34m[I] \u001b[0m\u001b[47m\u001b[30m3343\u001b[0m \u001b[37mqimessaging.transportserver: \u001b[0mTransportServer will listen on: tcp://169.254.197.226:64522\r\n",
        "\u001b[0m\u001b[37m\u001b[0m\u001b[34m[I] \u001b[0m\u001b[47m\u001b[30m3343\u001b[0m \u001b[37mqimessaging.transportserver: \u001b[0mTransportServer will listen on: tcp://192.168.0.6:64522\r\n",
        "\u001b[0m\u001b[37m\u001b[0m\u001b[34m[I] \u001b[0m\u001b[47m\u001b[30m3343\u001b[0m \u001b[37mqimessaging.transportserver: \u001b[0mTransportServer will listen on: tcp://127.0.0.1:64522\r\n",
        "\u001b[0m\u001b[37m\u001b[0m\u001b[34m[I] \u001b[0m\u001b[47m\u001b[30m3343\u001b[0m \u001b[37mqimessaging.transportserver: \u001b[0mTransportServer will listen on: tcp://10.137.0.22:64522\r\n"
       ]
      },
      {
       "output_type": "stream",
       "stream": "stdout",
       "text": [
        "Could not setup tts, error:  \tALBroker::createBroker\r\n",
        "\tCannot connect to tcp://mistcalf.local:9559\r\n"
       ]
      },
      {
       "output_type": "stream",
       "stream": "stdout",
       "text": [
        "\u001b[0m\u001b[37m\u001b[0m\u001b[34m[I] \u001b[0m\u001b[47m\u001b[30m3343\u001b[0m \u001b[37mqimessaging.session: \u001b[0mSession listener created on tcp://0.0.0.0:0\r\n",
        "\u001b[0m\u001b[37m\u001b[0m\u001b[34m[I] \u001b[0m\u001b[47m\u001b[30m3343\u001b[0m \u001b[37mqimessaging.transportserver: \u001b[0mTransportServer will listen on: tcp://169.254.197.226:64523\r\n",
        "\u001b[0m\u001b[37m\u001b[0m\u001b[34m[I] \u001b[0m\u001b[47m\u001b[30m3343\u001b[0m \u001b[37mqimessaging.transportserver: \u001b[0mTransportServer will listen on: tcp://192.168.0.6:64523\r\n",
        "\u001b[0m\u001b[37m\u001b[0m\u001b[34m[I] \u001b[0m\u001b[47m\u001b[30m3343\u001b[0m \u001b[37mqimessaging.transportserver: \u001b[0mTransportServer will listen on: tcp://127.0.0.1:64523\r\n",
        "\u001b[0m\u001b[37m\u001b[0m\u001b[34m[I] \u001b[0m\u001b[47m\u001b[30m3343\u001b[0m \u001b[37mqimessaging.transportserver: \u001b[0mTransportServer will listen on: tcp://10.137.0.22:64523\r\n"
       ]
      },
      {
       "output_type": "stream",
       "stream": "stdout",
       "text": [
        "Could not setup animatedSpeech, error:  \tALBroker::createBroker\r\n",
        "\tCannot connect to tcp://mistcalf.local:9559\r\n",
        "\u001b[0m\u001b[37m\u001b[0m\u001b[34m[I] \u001b[0m\u001b[47m\u001b[30m3343\u001b[0m \u001b[37mqimessaging.session: \u001b[0mSession listener created on tcp://0.0.0.0:0\r\n",
        "\u001b[0m\u001b[37m\u001b[0m\u001b[34m[I] \u001b[0m\u001b[47m\u001b[30m3343\u001b[0m \u001b[37mqimessaging.transportserver: \u001b[0mTransportServer will listen on: tcp://169.254.197.226:64524\r\n",
        "\u001b[0m\u001b[37m\u001b[0m\u001b[34m[I] \u001b[0m\u001b[47m\u001b[30m3343\u001b[0m \u001b[37mqimessaging.transportserver: \u001b[0mTransportServer will listen on: tcp://192.168.0.6:64524\r\n",
        "\u001b[0m\u001b[37m\u001b[0m\u001b[34m[I] \u001b[0m\u001b[47m\u001b[30m3343\u001b[0m \u001b[37mqimessaging.transportserver: \u001b[0mTransportServer will listen on: tcp://127.0.0.1:64524\r\n",
        "\u001b[0m\u001b[37m\u001b[0m\u001b[34m[I] \u001b[0m\u001b[47m\u001b[30m3343\u001b[0m \u001b[37mqimessaging.transportserver: \u001b[0mTransportServer will listen on: tcp://10.137.0.22:64524\r\n"
       ]
      },
      {
       "output_type": "stream",
       "stream": "stdout",
       "text": [
        "\u001b[0m\u001b[37m\u001b[0m\u001b[33m[W] \u001b[0m\u001b[43m\u001b[30m4355\u001b[0m \u001b[37mqimessaging.transportsocket: \u001b[0mresolved: Host not found (authoritative)\r\n"
       ]
      },
      {
       "output_type": "stream",
       "stream": "stdout",
       "text": [
        "Could not setup robotMotion, error:  \tALBroker::createBroker\r\n",
        "\tCannot connect to tcp://mistcalf.local:9559\r\n",
        " Traceback (most recent call last):\r\n",
        "   File \"nao_pong.py\", line 132, in <module>\r\n",
        "     main()\r\n",
        "   File \"nao_pong.py\", line 127, in main\r\n",
        "     NAO_setup()\r\n",
        "   File \"nao_pong.py\", line 114, in NAO_setup\r\n",
        "     robotMotion.wakeUp()\r\n",
        " AttributeError: 'NoneType' object has no attribute 'wakeUp'\r\n"
       ]
      }
     ],
     "prompt_number": 10
    },
    {
     "cell_type": "heading",
     "level": 2,
     "metadata": {},
     "source": [
      "How can NAO move with the bat?"
     ]
    },
    {
     "cell_type": "markdown",
     "metadata": {},
     "source": [
      "There are three ways to control NAO motion:\n",
      "\n",
      "+ [Joint control](https://community.aldebaran-robotics.com/doc/1-22/naoqi/motion/control-joint.html#control-joint)\n",
      "+ [Cartesian control](https://community.aldebaran-robotics.com/doc/1-22/naoqi/motion/control-cartesian.html#control-cartesian)\n",
      "+ [Whole body control](https://community.aldebaran-robotics.com/doc/1-22/naoqi/motion/control-wholebody.html#control-wholebody)\n",
      "\n",
      "Cartesian control is the obvious starter.\n",
      "\n",
      "It is worth knowing the axes [from cartesian control pages](https://community.aldebaran-robotics.com/doc/1-22/naoqi/motion/control-cartesian.html#control-cartesian) and dimensions from [NAO H-25 dimensions](https://community.aldebaran-robotics.com/doc/1-22/family/nao_h25/dimensions_h25.html#h25-dimensions)."
     ]
    },
    {
     "cell_type": "code",
     "collapsed": false,
     "input": [
      "from IPython.core.display import Image\n",
      "Image(filename='Images/frame_definition.png')"
     ],
     "language": "python",
     "metadata": {},
     "outputs": [
      {
       "metadata": {},
       "output_type": "pyout",
       "png": "[encoded data removed]",
       "prompt_number": 21,
       "text": [
        "<IPython.core.display.Image at 0x107ecefd0>"
       ]
      }
     ],
     "prompt_number": 21
    },
    {
     "cell_type": "code",
     "collapsed": false,
     "input": [
      "Image(filename='Images/hardware_overview3_3.png')"
     ],
     "language": "python",
     "metadata": {},
     "outputs": [
      {
       "metadata": {},
       "output_type": "pyout",
       "png": "[encoded data removed]",
       "prompt_number": 22,
       "text": [
        "<IPython.core.display.Image at 0x107ecee90>"
       ]
      }
     ],
     "prompt_number": 22
    },
    {
     "cell_type": "markdown",
     "metadata": {},
     "source": [
      "To do next:\n",
      "\n",
      "1. get sound working. - DONE\n",
      "2. add restart button - DONE\n",
      "3. add motion\n",
      "4. get a quit button to quit game and safely shut NAO down"
     ]
    },
    {
     "cell_type": "markdown",
     "metadata": {},
     "source": [
      "Example of cartesian control using [almotion_cartesianTorsoArm1.py example](https://community.aldebaran-robotics.com/doc/1-22/naoqi/motion/control-cartesian.html#control-cartesian)"
     ]
    },
    {
     "cell_type": "code",
     "collapsed": false,
     "input": [
      "%%file almotion_cartesianTorsoArm1.py\n",
      "'''Cartesian control: Multiple Effector Trajectories ***'''\n",
      "\n",
      "import argparse\n",
      "import motion\n",
      "import almath\n",
      "from naoqi import ALProxy\n",
      "\n",
      "def main(robotIP, PORT=9559):\n",
      "    ''' Simultaneously control three effectors:\n",
      "    the Torso, the Left Arm and the Right Arm\n",
      "    Warning: Needs a PoseInit before executing\n",
      "    '''\n",
      "\n",
      "    motionProxy  = ALProxy(\"ALMotion\", robotIP, PORT)\n",
      "    postureProxy = ALProxy(\"ALRobotPosture\", robotIP, PORT)\n",
      "\n",
      "    # Wake up robot\n",
      "    motionProxy.wakeUp()\n",
      "\n",
      "    # Send robot to Stand Init\n",
      "    postureProxy.goToPosture(\"StandInit\", 0.5)\n",
      "\n",
      "    frame      = motion.FRAME_WORLD\n",
      "    coef       = 0.5                   # motion speed\n",
      "    times      = [coef, 2.0*coef, 3.0*coef, 4.0*coef]\n",
      "    useSensorValues = False\n",
      "\n",
      "    # Relative movement between current and desired positions\n",
      "    dy         = +0.03                 # translation axis Y (meters)\n",
      "    dz         = -0.03                 # translation axis Z (meters)\n",
      "    dwx        = +8.0*almath.TO_RAD   # rotation axis X (radians)\n",
      "\n",
      "    # Motion of Torso with post process\n",
      "    effector   = \"Torso\"\n",
      "\n",
      "    path = []\n",
      "    initTf = almath.Transform(motionProxy.getTransform(effector, frame, useSensorValues))\n",
      "    # point 1\n",
      "    deltaTf  = almath.Transform(0.0, -dy, dz)*almath.Transform().fromRotX(-dwx)\n",
      "    targetTf = initTf*deltaTf\n",
      "    path.append(list(targetTf.toVector()))\n",
      "\n",
      "    # point 2\n",
      "    path.append(list(initTf.toVector()))\n",
      "\n",
      "    # point 3\n",
      "    deltaTf  = almath.Transform(0.0, dy, dz)*almath.Transform().fromRotX(dwx)\n",
      "    targetTf = initTf*deltaTf\n",
      "    path.append(list(targetTf.toVector()))\n",
      "\n",
      "    # point 4\n",
      "    path.append(list(initTf.toVector()))\n",
      "\n",
      "    axisMask   = almath.AXIS_MASK_ALL  # control all the effector axes\n",
      "    motionProxy.post.transformInterpolations(effector, frame, path,\n",
      "                                           axisMask, times)\n",
      "\n",
      "    # Motion of Arms with block process\n",
      "    frame     = motion.FRAME_TORSO\n",
      "    axisMask  = almath.AXIS_MASK_VEL  # control just the position\n",
      "    times     = [1.0*coef, 2.0*coef]  # seconds\n",
      "\n",
      "    # Motion of Right Arm during the first half of the Torso motion\n",
      "    effector  = \"RArm\"\n",
      "\n",
      "    path = []\n",
      "    currentTf = motionProxy.getTransform(effector, frame, useSensorValues)\n",
      "    targetTf  = almath.Transform(currentTf)\n",
      "    targetTf.r1_c4 += 0.01 # x ?\n",
      "    targetTf.r2_c4 -= 0.08 # y\n",
      "    path.append(list(targetTf.toVector()))\n",
      "    path.append(currentTf)\n",
      "\n",
      "    motionProxy.transformInterpolations(effector, frame, path, axisMask, times)\n",
      "\n",
      "    # Motion of Left Arm during the last half of the Torso motion\n",
      "    effector   = \"RArm\"\n",
      "\n",
      "    path = []\n",
      "    currentTf = motionProxy.getTransform(effector, frame, useSensorValues)\n",
      "    targetTf  = almath.Transform(currentTf)\n",
      "    targetTf.r2_c4 += 0.08 # y\n",
      "    path.append(list(targetTf.toVector()))\n",
      "    path.append(currentTf)\n",
      "\n",
      "    motionProxy.transformInterpolations(effector, frame, path, axisMask, times)\n",
      "\n",
      "    # Go to rest position\n",
      "    motionProxy.rest()\n",
      "\n",
      "if __name__ == \"__main__\":\n",
      "    parser = argparse.ArgumentParser()\n",
      "    parser.add_argument(\"--ip\", type=str, default=\"mistcalf.local\",\n",
      "                        help=\"Robot ip address\")\n",
      "    parser.add_argument(\"--port\", type=int, default=9559,\n",
      "                        help=\"Robot port number\")\n",
      "\n",
      "    args = parser.parse_args()\n",
      "    main(args.ip, args.port)"
     ],
     "language": "python",
     "metadata": {},
     "outputs": [
      {
       "output_type": "stream",
       "stream": "stdout",
       "text": [
        "Overwriting almotion_cartesianTorsoArm1.py\n"
       ]
      }
     ],
     "prompt_number": 37
    },
    {
     "cell_type": "code",
     "collapsed": false,
     "input": [
      "!python almotion_cartesianTorsoArm1.py"
     ],
     "language": "python",
     "metadata": {},
     "outputs": [
      {
       "output_type": "stream",
       "stream": "stdout",
       "text": [
        "\u001b[0m\u001b[37m\u001b[0m\u001b[34m[I] \u001b[0m\u001b[47m\u001b[30m4359\u001b[0m \u001b[37mqi.eventloop: \u001b[0mCreating event loop while no qi::Application() is running\r\n",
        "\u001b[0m\u001b[37m\u001b[0m\u001b[34m[I] \u001b[0m\u001b[47m\u001b[30m4359\u001b[0m \u001b[37mqimessaging.session: \u001b[0mSession listener created on tcp://0.0.0.0:0\r\n",
        "\u001b[0m\u001b[37m\u001b[0m\u001b[34m[I] \u001b[0m\u001b[47m\u001b[30m4359\u001b[0m \u001b[37mqi.eventloop: \u001b[0mCreating event loop while no qi::Application() is running\r\n",
        "\u001b[0m\u001b[37m\u001b[0m\u001b[34m[I] \u001b[0m\u001b[47m\u001b[30m4359\u001b[0m \u001b[37mqimessaging.transportserver: \u001b[0mTransportServer will listen on: tcp://169.254.210.28:52942\r\n",
        "\u001b[0m\u001b[37m\u001b[0m\u001b[34m[I] \u001b[0m\u001b[47m\u001b[30m4359\u001b[0m \u001b[37mqimessaging.transportserver: \u001b[0mTransportServer will listen on: tcp://192.168.0.9:52942\r\n",
        "\u001b[0m\u001b[37m\u001b[0m\u001b[34m[I] \u001b[0m\u001b[47m\u001b[30m4359\u001b[0m \u001b[37mqimessaging.transportserver: \u001b[0mTransportServer will listen on: tcp://127.0.0.1:52942\r\n",
        "\u001b[0m\u001b[37m\u001b[0m\u001b[34m[I] \u001b[0m\u001b[47m\u001b[30m4359\u001b[0m \u001b[37mqimessaging.transportserver: \u001b[0mTransportServer will listen on: tcp://10.137.0.14:52942\r\n"
       ]
      }
     ],
     "prompt_number": 38
    },
    {
     "cell_type": "markdown",
     "metadata": {},
     "source": [
      "A nice smooth cartesian example of [hula hoop motion](https://community.aldebaran-robotics.com/doc/1-22/naoqi/motion/control-cartesian-tuto.html?highlight=hula)"
     ]
    },
    {
     "cell_type": "code",
     "collapsed": false,
     "input": [
      "%%file almotion_hulaHoop.py\n",
      "# -*- encoding: UTF-8 -*-\n",
      "\n",
      "'''Motion: Hula Hoop ***'''\n",
      "\n",
      "import argparse\n",
      "import motion\n",
      "import almath\n",
      "from naoqi import ALProxy\n",
      "\n",
      "def main(robotIP, PORT=9559):\n",
      "    '''\n",
      "         Example showing a Hula Hoop Motion\n",
      "         with the NAO cartesian control of torso\n",
      "    '''\n",
      "\n",
      "    motionProxy  = ALProxy(\"ALMotion\", robotIP, PORT)\n",
      "    postureProxy = ALProxy(\"ALRobotPosture\", robotIP, PORT)\n",
      "\n",
      "    # end initialize proxy, begin go to Stand Init\n",
      "\n",
      "    # Wake up robot\n",
      "    motionProxy.wakeUp()\n",
      "\n",
      "    # Send robot to Stand Init\n",
      "    postureProxy.goToPosture(\"StandInit\", 0.5)\n",
      "\n",
      "    # end go to Stand Init, begin define control point\n",
      "    effector        = \"RArm\"\n",
      "    frame           =  motion.FRAME_ROBOT\n",
      "    axisMask        = almath.AXIS_MASK_ALL\n",
      "    isAbsolute      = True\n",
      "    useSensorValues = False\n",
      "\n",
      "    currentTf = almath.Transform(motionProxy.getTransform(effector, frame, useSensorValues))\n",
      "\n",
      "    # end define control point, begin define target\n",
      "\n",
      "    # Define the changes relative to the current position\n",
      "    dx         = 0.03                    # translation axis X (meter)\n",
      "    dy         = 0.03                    # translation axis Y (meter)\n",
      "    dwx        = 8.0*almath.TO_RAD       # rotation axis X (rad)\n",
      "    dwy        = 8.0*almath.TO_RAD       # rotation axis Y (rad)\n",
      "\n",
      "    # point 01 : forward  / bend backward\n",
      "    target1Tf = almath.Transform(currentTf.r1_c4, currentTf.r2_c4, currentTf.r3_c4)\n",
      "    target1Tf *= almath.Transform(dx, 0.0, 0.0)\n",
      "    target1Tf *= almath.Transform().fromRotY(-dwy)\n",
      "\n",
      "    # point 02 : right    / bend left\n",
      "    target2Tf = almath.Transform(currentTf.r1_c4, currentTf.r2_c4, currentTf.r3_c4)\n",
      "    target2Tf *= almath.Transform(0.0, -dy, 0.0)\n",
      "    target2Tf *= almath.Transform().fromRotX(-dwx)\n",
      "\n",
      "    # point 03 : backward / bend forward\n",
      "    target3Tf = almath.Transform(currentTf.r1_c4, currentTf.r2_c4, currentTf.r3_c4)\n",
      "    target3Tf *= almath.Transform(-dx, 0.0, 0.0)\n",
      "    target3Tf *= almath.Transform().fromRotY(dwy)\n",
      "\n",
      "    # point 04 : left     / bend right\n",
      "    target4Tf = almath.Transform(currentTf.r1_c4, currentTf.r2_c4, currentTf.r3_c4)\n",
      "    target4Tf *= almath.Transform(0.0, dy, 0.0)\n",
      "    target4Tf *= almath.Transform().fromRotX(dwx)\n",
      "\n",
      "    path = []\n",
      "    path.append(list(target1Tf.toVector()))\n",
      "    path.append(list(target2Tf.toVector()))\n",
      "    path.append(list(target3Tf.toVector()))\n",
      "    path.append(list(target4Tf.toVector()))\n",
      "\n",
      "    path.append(list(target1Tf.toVector()))\n",
      "    path.append(list(target2Tf.toVector()))\n",
      "    path.append(list(target3Tf.toVector()))\n",
      "    path.append(list(target4Tf.toVector()))\n",
      "\n",
      "    path.append(list(target1Tf.toVector()))\n",
      "    path.append(list(currentTf.toVector()))\n",
      "\n",
      "    timeOneMove  = 0.5 #seconds\n",
      "    times = []\n",
      "    for i in range(len(path)):\n",
      "        times.append((i+1)*timeOneMove)\n",
      "\n",
      "    # end define target, begin call motion api\n",
      "\n",
      "    # call the cartesian control API\n",
      "\n",
      "    motionProxy.transformInterpolations(effector, frame, path, axisMask, times)\n",
      "\n",
      "    # Go to rest position\n",
      "    motionProxy.rest()\n",
      "\n",
      "    # end script\n",
      "\n",
      "if __name__ == \"__main__\":\n",
      "    parser = argparse.ArgumentParser()\n",
      "    parser.add_argument(\"--ip\", type=str, default=\"mistcalf.local\",\n",
      "                        help=\"Robot ip address\")\n",
      "    parser.add_argument(\"--port\", type=int, default=9559,\n",
      "                        help=\"Robot port number\")\n",
      "\n",
      "    args = parser.parse_args()\n",
      "    main(args.ip, args.port)"
     ],
     "language": "python",
     "metadata": {},
     "outputs": [
      {
       "output_type": "stream",
       "stream": "stdout",
       "text": [
        "Overwriting almotion_hulaHoop.py\n"
       ]
      }
     ],
     "prompt_number": 40
    },
    {
     "cell_type": "code",
     "collapsed": false,
     "input": [
      "!python almotion_hulaHoop.py"
     ],
     "language": "python",
     "metadata": {},
     "outputs": [
      {
       "output_type": "stream",
       "stream": "stdout",
       "text": [
        "\u001b[0m\u001b[37m\u001b[0m\u001b[34m[I] \u001b[0m\u001b[47m\u001b[30m4359\u001b[0m \u001b[37mqi.eventloop: \u001b[0mCreating event loop while no qi::Application() is running\r\n",
        "\u001b[0m\u001b[37m\u001b[0m\u001b[34m[I] \u001b[0m\u001b[47m\u001b[30m4359\u001b[0m \u001b[37mqimessaging.session: \u001b[0mSession listener created on tcp://0.0.0.0:0\r\n",
        "\u001b[0m\u001b[37m\u001b[0m\u001b[34m[I] \u001b[0m\u001b[47m\u001b[30m4359\u001b[0m \u001b[37mqi.eventloop: \u001b[0mCreating event loop while no qi::Application() is running\r\n",
        "\u001b[0m\u001b[37m\u001b[0m\u001b[34m[I] \u001b[0m\u001b[47m\u001b[30m4359\u001b[0m \u001b[37mqimessaging.transportserver: \u001b[0mTransportServer will listen on: tcp://169.254.210.28:52991\r\n",
        "\u001b[0m\u001b[37m\u001b[0m\u001b[34m[I] \u001b[0m\u001b[47m\u001b[30m4359\u001b[0m \u001b[37mqimessaging.transportserver: \u001b[0mTransportServer will listen on: tcp://192.168.0.9:52991\r\n",
        "\u001b[0m\u001b[37m\u001b[0m\u001b[34m[I] \u001b[0m\u001b[47m\u001b[30m4359\u001b[0m \u001b[37mqimessaging.transportserver: \u001b[0mTransportServer will listen on: tcp://127.0.0.1:52991\r\n",
        "\u001b[0m\u001b[37m\u001b[0m\u001b[34m[I] \u001b[0m\u001b[47m\u001b[30m4359\u001b[0m \u001b[37mqimessaging.transportserver: \u001b[0mTransportServer will listen on: tcp://10.137.0.14:52991\r\n"
       ]
      }
     ],
     "prompt_number": 41
    },
    {
     "cell_type": "markdown",
     "metadata": {},
     "source": [
      "Prefered control with whole body balancer with [multiple efeectors example almotion_wbMultipleEffectors.py](https://community.aldebaran-robotics.com/doc/1-22/naoqi/motion/control-wholebody-tuto.html#control-wholebody-tuto)"
     ]
    },
    {
     "cell_type": "code",
     "collapsed": false,
     "input": [
      "%%file almotion_wbMultipleEffectors.py\n",
      "# -*- encoding: UTF-8 -*-\n",
      "\n",
      "''' Whole Body Motion: Multiple Effectors control ***'''\n",
      "\n",
      "import argparse\n",
      "import motion\n",
      "import almath\n",
      "import time\n",
      "from naoqi import ALProxy\n",
      "\n",
      "def main(robotIP, PORT=9559):\n",
      "    '''\n",
      "        Example of a whole body multiple effectors control \"LArm\", \"RArm\" and \"Torso\"\n",
      "        Warning: Needs a PoseInit before executing\n",
      "                 Whole body balancer must be inactivated at the end of the script\n",
      "    '''\n",
      "\n",
      "    motionProxy  = ALProxy(\"ALMotion\", robotIP, PORT)\n",
      "    postureProxy = ALProxy(\"ALRobotPosture\", robotIP, PORT)\n",
      "\n",
      "    # end initialize proxy, begin go to Stand Init\n",
      "\n",
      "    # Wake up robot\n",
      "    motionProxy.wakeUp()\n",
      "\n",
      "    # Send robot to Stand Init\n",
      "    postureProxy.goToPosture(\"StandInit\", 0.5)\n",
      "\n",
      "    # end go to Stand Init, begin initialize whole body\n",
      "\n",
      "    # Enable Whole Body Balancer\n",
      "    isEnabled  = True\n",
      "    motionProxy.wbEnable(isEnabled)\n",
      "\n",
      "    # Legs are constrained fixed\n",
      "    stateName  = \"Fixed\"\n",
      "    supportLeg = \"Legs\"\n",
      "    motionProxy.wbFootState(stateName, supportLeg)\n",
      "\n",
      "    # Constraint Balance Motion\n",
      "    isEnable   = True\n",
      "    supportLeg = \"Legs\"\n",
      "    motionProxy.wbEnableBalanceConstraint(isEnable, supportLeg)\n",
      "\n",
      "    # end initialize whole body, define arms motions\n",
      "\n",
      "    isAbsolute   = True\n",
      "    useSensorValues = False\n",
      "\n",
      "    # Arms motion\n",
      "    effectorList = [\"LArm\", \"RArm\"]\n",
      "\n",
      "    frame        = motion.FRAME_ROBOT\n",
      "\n",
      "    # pathLArm\n",
      "    pathLArm = []\n",
      "    currentTf = motionProxy.getTransform(\"LArm\", frame, useSensorValues)\n",
      "    # 1\n",
      "    target1Tf  = almath.Transform(currentTf)\n",
      "    target1Tf.r1_c4 += 0.00 # x?\n",
      "    target1Tf.r2_c4 += 0.00 # y\n",
      "    target1Tf.r3_c4 += 0.00 # z\n",
      "\n",
      "    # 2\n",
      "    target2Tf  = almath.Transform(currentTf)\n",
      "    target2Tf.r1_c4 += 0.20 # x?\n",
      "    target2Tf.r2_c4 -= 0.00 # y\n",
      "    target2Tf.r3_c4 += 0.20 # z\n",
      "\n",
      "    pathLArm.append(list(target1Tf.toVector()))\n",
      "    pathLArm.append(list(target2Tf.toVector()))\n",
      "    pathLArm.append(list(target1Tf.toVector()))\n",
      "    pathLArm.append(list(target2Tf.toVector()))\n",
      "    pathLArm.append(list(target1Tf.toVector()))\n",
      "\n",
      "    # pathRArm\n",
      "    pathRArm = []\n",
      "    currentTf = motionProxy.getTransform(\"RArm\", frame, useSensorValues)\n",
      "    # 1\n",
      "    target1Tf  = almath.Transform(currentTf)\n",
      "    target1Tf.r1_c4 += 0.00 # x?\n",
      "    target1Tf.r2_c4 += 0.00 # y\n",
      "    target1Tf.r3_c4 += 0.00 # z\n",
      "\n",
      "    # 2\n",
      "    target2Tf  = almath.Transform(currentTf)\n",
      "    target2Tf.r1_c4 += 0.00 # x?\n",
      "    target2Tf.r2_c4 -= 0.20 # y\n",
      "    target2Tf.r3_c4 += 0.20 # z\n",
      "\n",
      "    pathRArm.append(list(target1Tf.toVector()))\n",
      "    pathRArm.append(list(target2Tf.toVector()))\n",
      "    pathRArm.append(list(target1Tf.toVector()))\n",
      "    pathRArm.append(list(target2Tf.toVector()))\n",
      "    pathRArm.append(list(target1Tf.toVector()))\n",
      "    pathRArm.append(list(target2Tf.toVector()))\n",
      "\n",
      "    pathList = [pathLArm, pathRArm]\n",
      "\n",
      "    axisMaskList = [almath.AXIS_MASK_VEL, # for \"LArm\"\n",
      "                    almath.AXIS_MASK_VEL] # for \"RArm\"\n",
      "\n",
      "    coef       = 1.5\n",
      "    timesList  = [ [coef*(i+1) for i in range(5)],  # for \"LArm\" in seconds\n",
      "                   [coef*(i+1) for i in range(6)] ] # for \"RArm\" in seconds\n",
      "\n",
      "    # called cartesian interpolation\n",
      "    motionProxy.transformInterpolations(effectorList, frame, pathList, axisMaskList, timesList)\n",
      "\n",
      "    # end define arms motions, define torso motion\n",
      "\n",
      "    # # Torso Motion\n",
      "    # effectorList = [\"Torso\", \"LArm\", \"RArm\"]\n",
      "\n",
      "    # dy = 0.06\n",
      "    # dz = 0.06\n",
      "\n",
      "    # # pathTorso\n",
      "    # currentTf = motionProxy.getTransform(\"Torso\", frame, useSensorValues)\n",
      "    # # 1\n",
      "    # target1Tf  = almath.Transform(currentTf)\n",
      "    # target1Tf.r2_c4 += dy\n",
      "    # target1Tf.r3_c4 -= dz\n",
      "\n",
      "    # # 2\n",
      "    # target2Tf  = almath.Transform(currentTf)\n",
      "    # target2Tf.r2_c4 -= dy\n",
      "    # target2Tf.r3_c4 -= dz\n",
      "\n",
      "    # pathTorso = []\n",
      "    # for i in range(3):\n",
      "    #     pathTorso.append(list(target1Tf.toVector()))\n",
      "    #     pathTorso.append(currentTf)\n",
      "    #     pathTorso.append(list(target2Tf.toVector()))\n",
      "    #     pathTorso.append(currentTf)\n",
      "\n",
      "    # pathLArm = [motionProxy.getTransform(\"LArm\", frame, useSensorValues)]\n",
      "    # pathRArm = [motionProxy.getTransform(\"RArm\", frame, useSensorValues)]\n",
      "\n",
      "    # pathList = [pathTorso, pathLArm, pathRArm]\n",
      "\n",
      "    # axisMaskList = [almath.AXIS_MASK_ALL, # for \"Torso\"\n",
      "    #                 almath.AXIS_MASK_VEL, # for \"LArm\"\n",
      "    #                 almath.AXIS_MASK_VEL] # for \"RArm\"\n",
      "\n",
      "    # coef       = 0.5\n",
      "    # timesList  = [\n",
      "    #               [coef*(i+1) for i in range(12)], # for \"Torso\" in seconds\n",
      "    #               [coef*12],                       # for \"LArm\" in seconds\n",
      "    #               [coef*12]                        # for \"RArm\" in seconds\n",
      "    #              ]\n",
      "\n",
      "    # motionProxy.transformInterpolations(effectorList, frame, pathList, axisMaskList, timesList)\n",
      "\n",
      "    # # end define torso motion, disable whole body\n",
      "\n",
      "    # Deactivate whole body\n",
      "    isEnabled    = False\n",
      "    motionProxy.wbEnable(isEnabled)\n",
      "\n",
      "    # Send robot to Pose Init\n",
      "    postureProxy.goToPosture(\"StandInit\", 0.3)\n",
      "\n",
      "    # Go to rest position\n",
      "    motionProxy.rest()\n",
      "\n",
      "    # end script\n",
      "\n",
      "if __name__ == \"__main__\":\n",
      "    parser = argparse.ArgumentParser()\n",
      "    parser.add_argument(\"--ip\", type=str, default=\"mistcalf.local\",\n",
      "                        help=\"Robot ip address\")\n",
      "    parser.add_argument(\"--port\", type=int, default=9559,\n",
      "                        help=\"Robot port number\")\n",
      "\n",
      "    args = parser.parse_args()\n",
      "    main(args.ip, args.port)"
     ],
     "language": "python",
     "metadata": {},
     "outputs": [
      {
       "output_type": "stream",
       "stream": "stdout",
       "text": [
        "Overwriting almotion_wbMultipleEffectors.py\n"
       ]
      }
     ],
     "prompt_number": 42
    },
    {
     "cell_type": "markdown",
     "metadata": {},
     "source": [
      "Notes:\n",
      "\n",
      "+ r1_c4 = x-axis\n",
      "+ r2_c4 = y-axis\n",
      "+ r3_c4 = z-axis\n",
      "\n",
      "With:\n",
      "\n",
      "    frame        = motion.FRAME_ROBOT\n",
      "    target1Tf.r1_c4 += 0.00 # x\n",
      "    target1Tf.r2_c4 += 0.00 # y\n",
      "    target1Tf.r3_c4 += 0.00 # z\n",
      "    \n",
      "Is essentially the standinit pose with arm slightly bent and out front.\n"
     ]
    },
    {
     "cell_type": "code",
     "collapsed": false,
     "input": [
      "!python almotion_wbMultipleEffectors.py"
     ],
     "language": "python",
     "metadata": {},
     "outputs": [
      {
       "output_type": "stream",
       "stream": "stdout",
       "text": [
        "\u001b[0m\u001b[37m\u001b[0m\u001b[34m[I] \u001b[0m\u001b[47m\u001b[30m4359\u001b[0m \u001b[37mqi.eventloop: \u001b[0mCreating event loop while no qi::Application() is running\r\n",
        "\u001b[0m\u001b[37m\u001b[0m\u001b[34m[I] \u001b[0m\u001b[47m\u001b[30m4359\u001b[0m \u001b[37mqimessaging.session: \u001b[0mSession listener created on tcp://0.0.0.0:0\r\n",
        "\u001b[0m\u001b[37m\u001b[0m\u001b[34m[I] \u001b[0m\u001b[47m\u001b[30m4359\u001b[0m \u001b[37mqi.eventloop: \u001b[0mCreating event loop while no qi::Application() is running\r\n",
        "\u001b[0m\u001b[37m\u001b[0m\u001b[34m[I] \u001b[0m\u001b[47m\u001b[30m4359\u001b[0m \u001b[37mqimessaging.transportserver: \u001b[0mTransportServer will listen on: tcp://169.254.210.28:53023\r\n",
        "\u001b[0m\u001b[37m\u001b[0m\u001b[34m[I] \u001b[0m\u001b[47m\u001b[30m4359\u001b[0m \u001b[37mqimessaging.transportserver: \u001b[0mTransportServer will listen on: tcp://192.168.0.9:53023\r\n",
        "\u001b[0m\u001b[37m\u001b[0m\u001b[34m[I] \u001b[0m\u001b[47m\u001b[30m4359\u001b[0m \u001b[37mqimessaging.transportserver: \u001b[0mTransportServer will listen on: tcp://127.0.0.1:53023\r\n",
        "\u001b[0m\u001b[37m\u001b[0m\u001b[34m[I] \u001b[0m\u001b[47m\u001b[30m4359\u001b[0m \u001b[37mqimessaging.transportserver: \u001b[0mTransportServer will listen on: tcp://10.137.0.14:53023\r\n"
       ]
      }
     ],
     "prompt_number": 43
    },
    {
     "cell_type": "code",
     "collapsed": false,
     "input": [],
     "language": "python",
     "metadata": {},
     "outputs": []
    }
   ],
   "metadata": {}
  }
 ]
}