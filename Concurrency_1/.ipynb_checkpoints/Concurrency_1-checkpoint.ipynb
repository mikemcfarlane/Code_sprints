{
 "metadata": {
  "name": ""
 },
 "nbformat": 3,
 "nbformat_minor": 0,
 "worksheets": [
  {
   "cells": [
    {
     "cell_type": "heading",
     "level": 1,
     "metadata": {},
     "source": [
      "Concurrency 1 - running concurrent code on a NAO robot"
     ]
    },
    {
     "cell_type": "heading",
     "level": 2,
     "metadata": {},
     "source": [
      "Objective"
     ]
    },
    {
     "cell_type": "markdown",
     "metadata": {},
     "source": [
      "Concurrent programming is an important part of robotics programming. Multiple inputs, outputs and system resources are often required to be accessed by multiple parts of the code or other parts of the system simultaneously and this can create conflicts. In my current project, TickleMeNAO, poor code design that has not included concurrency has lead to issues with event driven callbacks and resources such as speech recognition.\n",
      "The objective of today is to understand some concepts of conccurent programming."
     ]
    },
    {
     "cell_type": "code",
     "collapsed": false,
     "input": [
      "# Imports\n",
      "import this\n",
      "from timeit import timeit"
     ],
     "language": "python",
     "metadata": {},
     "outputs": [
      {
       "output_type": "stream",
       "stream": "stdout",
       "text": [
        "The Zen of Python, by Tim Peters\n",
        "\n",
        "Beautiful is better than ugly.\n",
        "Explicit is better than implicit.\n",
        "Simple is better than complex.\n",
        "Complex is better than complicated.\n",
        "Flat is better than nested.\n",
        "Sparse is better than dense.\n",
        "Readability counts.\n",
        "Special cases aren't special enough to break the rules.\n",
        "Although practicality beats purity.\n",
        "Errors should never pass silently.\n",
        "Unless explicitly silenced.\n",
        "In the face of ambiguity, refuse the temptation to guess.\n",
        "There should be one-- and preferably only one --obvious way to do it.\n",
        "Although that way may not be obvious at first unless you're Dutch.\n",
        "Now is better than never.\n",
        "Although never is often better than *right* now.\n",
        "If the implementation is hard to explain, it's a bad idea.\n",
        "If the implementation is easy to explain, it may be a good idea.\n",
        "Namespaces are one honking great idea -- let's do more of those!\n"
       ]
      }
     ],
     "prompt_number": 45
    },
    {
     "cell_type": "heading",
     "level": 2,
     "metadata": {},
     "source": [
      "Concurrency problems"
     ]
    },
    {
     "cell_type": "markdown",
     "metadata": {},
     "source": [
      "Problem statement: \n",
      "\n",
      "1. Multiple event driven callbacks, calling the same callback method, can run at the same time.\n",
      "2. Multiple methods (not callback) are enable/disabling resources e.g. speech recognition, causing exceptions and failure to enable/disable the resource correctly."
     ]
    },
    {
     "cell_type": "heading",
     "level": 2,
     "metadata": {},
     "source": [
      "Potential solutions, general"
     ]
    },
    {
     "cell_type": "markdown",
     "metadata": {},
     "source": [
      "+ Some background reading:\n",
      "    + Concurrency is not parallelism http://concur.rspace.googlecode.com/hg/talk/concur.html#title-slide __This has some great illustrations of concurreny concepts.__\n",
      "    + Java.next: Contrasting concurrency http://www.ibm.com/developerworks/java/library/j-jn13/index.html\n",
      "    + Concurrency vs Parallelism - What is the difference? https://stackoverflow.com/questions/1050222/concurrency-vs-parallelism-what-is-the-difference\n",
      "    + Concurrency Programming Guide on Apple. __Lots of info on concurrency - queues, threads, locks, etc. __ https://developer.apple.com/library/ios/documentation/general/conceptual/concurrencyprogrammingguide/Introduction/Introduction.html\n",
      "    + Fundamentals of concurrent programming http://www.nada.kth.se/~snilsson/concurrency/\n",
      "    \n",
      "\n",
      "1. Rewrite code in more procedural form, maybe as a state machine.\n",
      "    + http://www.ibm.com/developerworks/linux/library/l-python-state/index.html\n",
      "2. Threads and lock(), where each thread comes from a class or instance. \n",
      "    + Documentation: https://docs.python.org/2/library/threading.html\n",
      "    + Lock() documentation: https://docs.python.org/2/library/threading.html#lock-objects\n",
      "    + Good examples: http://www.laurentluce.com/posts/python-threads-synchronization-locks-rlocks-semaphores-conditions-events-and-queues/comment-page-1/\n",
      "3. Multiprocessing, similar to threading, but uses processes rather than threads.\n",
      "    + https://docs.python.org/2/library/multiprocessing.html\n",
      "4. A simple approach with some standard Python libs:\n",
      "    + Using Lists as Queues: https://docs.python.org/2/tutorial/datastructures.html#using-lists-as-queues\n",
      "    + Or Queue lib: https://docs.python.org/2/library/queue.html\n",
      "    + An event scheduler: https://docs.python.org/2/library/sched.html\n",
      "    + Mutex (deprecated): https://docs.python.org/2/library/mutex.html\n",
      "3. Greenlets (a form of coroutine).\n",
      "    + Documentation: http://greenlet.readthedocs.org/en/latest/\n",
      "    + Simple example: https://stackoverflow.com/questions/15556718/greenlet-vs-threads\n",
      "4. Coroutines. \n",
      "    + Background reading on Functional programming: https://docs.python.org/2.7/howto/functional.html?highlight=coroutine\n",
      "    + Coroutines with Python 2.X: http://www.dabeaz.com/coroutines/\n",
      "    + Simple example: http://antroy.blogspot.co.uk/2007/04/python-coroutines.html\n",
      "    \n",
      "6. Asynchronous Design Techniques - using queues.\n",
      "    + https://developer.apple.com/library/ios/documentation/general/conceptual/concurrencyprogrammingguide/ConcurrencyandApplicationDesign/ConcurrencyandApplicationDesign.html#//apple_ref/doc/uid/TP40008091-CH100-SW1\n",
      "    \n",
      "7. Run the code in Choregraph with concurrent tasks each in their own box/timeline."
     ]
    },
    {
     "cell_type": "heading",
     "level": 2,
     "metadata": {},
     "source": [
      "Potential solutions on a NAO robot"
     ]
    },
    {
     "cell_type": "markdown",
     "metadata": {},
     "source": [
      "+ Use __post__, an object of the proxy, which creates a task in a parallel thread. https://community.aldebaran-robotics.com/doc/1-22/dev/naoqi/index.html#naoqi-blocking-non-blocking\n",
      "+ Use __BIND_METHOD__ on a function allows you to call _wait_, _stop_ and _isRunning_ on functions.\n",
      "+ Construct the code in Choregraph boxes which automatically makes each box parallel.\n",
      "+ NAO v4 uses a ATOM Z530 1.6GHz CPU, single core with HyperThreading (2 threads).\n",
      "    + https://community.aldebaran-robotics.com/doc/1-22/family/robots/motherboard_robot.html\n",
      "    + http://ark.intel.com/products/35463/Intel-Atom-Processor-Z530-512K-Cache-1_60-GHz-533-MHz-FSB"
     ]
    },
    {
     "cell_type": "heading",
     "level": 2,
     "metadata": {},
     "source": [
      "Concurrency vs parallelism, some definitions"
     ]
    },
    {
     "cell_type": "markdown",
     "metadata": {},
     "source": [
      "+ __Thread__ A sequence of instructions executed within the context of a process.\n",
      "\n",
      "+ __Process__ The stuff going on!\n",
      "\n",
      "+ __Single-threaded__ Restricting access to a single thread.\n",
      "\n",
      "+ __Multi-threaded__ Allowing access to two or more threads.\n",
      "\n",
      "+ __Concurrency__ is when two or more tasks can start, run, and complete in overlapping time periods. Could also be two threads that are _making progress_. An example is multi-tasking (time slicing).\n",
      "\n",
      "+ __Parallelism__ A condition that arises when at least two threads are executing _simultaneously_. An example would be threads on a multicore processor.\n",
      "\n",
      "From: http://docs.oracle.com/cd/E19455-01/806-5257/6je9h032b/index.html\n",
      "\n",
      "+ __Concurrency__ programming as the _composition_ of independently executing processes.\n",
      "\n",
      "+ __Parallelism__ programming as the _simultaneous_ execution of, possibly related, computations.\n",
      "\n",
      "+ __Channels__ allow communication between processes.\n",
      "\n",
      "So, __concurrency__ is about dealing with lots of things at once. __Parallelism__ is about doing lots of things at once. __Concurrency__ is a way to structure a program by breaking it into pieces that can be executed independently.\n",
      "\n",
      "From: http://concur.rspace.googlecode.com/hg/talk/concur.html#slide-4 \n",
      "\n",
      "+ __Thread__ is used to refer to a seperate path of execution for code.\n",
      "\n",
      "+ __Process__ refers to a running executable, can encompass multiple threads.\n",
      "\n",
      "+ __Task__ refers to the abstract concept of work that needs to be performed.\n",
      "\n",
      "+ __Dispatch queue__ executes tasks, either serially or concurrently, always as a FIFO (first in first out).\n",
      "\n",
      "From: https://developer.apple.com/library/ios/documentation/general/conceptual/concurrencyprogrammingguide/Introduction/Introduction.html"
     ]
    },
    {
     "cell_type": "heading",
     "level": 2,
     "metadata": {},
     "source": [
      "Some thoughts on designing for concurrent programming"
     ]
    },
    {
     "cell_type": "markdown",
     "metadata": {},
     "source": [
      "Design for concurent programming needs to be done upfront particularly with regard to tasks and data structures. Design steps:\n",
      "\n",
      "+ Define your applications expected behaviour.\n",
      "    + Enumerate the tasks, user and functional.\n",
      "        + Break down further into component steps.\n",
      "    + Enumerate the data structures.\n",
      "+ Factor out executable units of work. These are your potential serial (must be executed in a specific order) and  concurrent tasks (can be executed in parallel or concurrently).\n",
      "+ Identify the queues you need, serial and concurrent.\n",
      "\n",
      "Tips:\n",
      "\n",
      "+ Consider computing values directly within your task if memory usage is a factor.\n",
      "+ Identify serial tasks early and do what you can to make them more concurrent or remove the shared resource.\n",
      "+ Avoid using locks, especially if using a queue.\n",
      "+ Rely on the system frameworks wherever possible.\n",
      "\n",
      "From: https://developer.apple.com/library/ios/documentation/general/conceptual/concurrencyprogrammingguide/ConcurrencyandApplicationDesign/ConcurrencyandApplicationDesign.html#//apple_ref/doc/uid/TP40008091-CH100-SW1"
     ]
    },
    {
     "cell_type": "heading",
     "level": 2,
     "metadata": {},
     "source": [
      "Some thoughts on functional programming"
     ]
    },
    {
     "cell_type": "markdown",
     "metadata": {},
     "source": [
      "+ Functions only take inputs and produce outputs, and don\u2019t have any internal state that affects the output produced for a given input. Put another way, input flows through a set of functions. ie it is not an object which has internal states.\n",
      "+ With a list comprehension you get back a list. \n",
      "+ A generator expression return an iterator that computes the values as necessary ie you can work with infinite, ongoing or large streams of data."
     ]
    },
    {
     "cell_type": "heading",
     "level": 2,
     "metadata": {},
     "source": [
      "Advantages and disadvantages for each potential concurrent solution"
     ]
    },
    {
     "cell_type": "markdown",
     "metadata": {},
     "source": [
      "1. Procedural form e.g. a serial state machine:\n",
      "    + Easy to code and debug.\n",
      "    + Potentially slow.\n",
      "    \n",
      "2. Threading:\n",
      "    + Good for real time tasks that need predictable behaviour.\n",
      "    + More complicated to program and debug with thread race and starvation issues.\n",
      "    \n",
      "3. Functional programming e.g. coroutines:\n",
      "    + Code is very modular, so easy to debug and test.\n",
      "    + Could still have issues with shared resources.\n",
      "    \n",
      "4. Asynchronous methods e.g. queues:\n",
      "    + Can be very efficient in spreading the load across the processor.\n",
      "    + Shared resources can be safely protected.\n",
      "    + Not necessarily fast for a specific task.\n",
      "    + Not necessarily real time.\n",
      "    \n",
      "5. Greenlets:\n",
      "    + No standard libraries on NAO, and getting libraries on NAO not always straightforward.\n",
      "    \n",
      "6. Multiprocessing:\n",
      "    + Might be overkill on the single core Atom processor.\n",
      "    + Process, rather than thread based, so could be easier to code and more reliable than threads. Avoids the Global Interpreter Lock so more effective on multi-core processors. https://docs.python.org/2/glossary.html#term-global-interpreter-lock"
     ]
    },
    {
     "cell_type": "heading",
     "level": 2,
     "metadata": {},
     "source": [
      "A simple state machine example"
     ]
    },
    {
     "cell_type": "code",
     "collapsed": false,
     "input": [
      "%%file statemachine.py\n",
      "\"\"\" A simple state machine.\n",
      "    From: http://www.ibm.com/developerworks/linux/library/l-python-state/index.html\n",
      "\n",
      "\"\"\"\n",
      "from string import upper\n",
      "\n",
      "class StateMachine:\n",
      "    def __init__(self):\n",
      "        self.handlers = {}\n",
      "        self.startState = None\n",
      "        self.endStates = []\n",
      "\n",
      "    def add_state(self, name, handler, end_state=0):\n",
      "        name = upper(name)\n",
      "        self.handlers[name] = handler\n",
      "        if end_state:\n",
      "            self.endStates.append(name)\n",
      "\n",
      "    def set_start(self, name):\n",
      "        self.startState = upper(name)\n",
      "\n",
      "    def run(self, cargo):\n",
      "        try:\n",
      "            handler = self.handlers[self.startState]\n",
      "        except:\n",
      "            raise \"InitializationError\", \"must call .set_start() before .run()\"\n",
      "        if not self.endStates:\n",
      "            raise \"InitializationError\", \"at least one state must be an end_state\"\n",
      "\n",
      "        while 1:\n",
      "            (newState, cargo) = handler(cargo)\n",
      "            if upper(newState) in self.endStates:\n",
      "                break\n",
      "            else:\n",
      "                handler = self.handlers[upper(newState)]\n"
     ],
     "language": "python",
     "metadata": {},
     "outputs": [
      {
       "output_type": "stream",
       "stream": "stdout",
       "text": [
        "Overwriting statemachine.py\n"
       ]
      }
     ],
     "prompt_number": 8
    },
    {
     "cell_type": "code",
     "collapsed": false,
     "input": [
      "from statemachine import StateMachine\n",
      "\n",
      "def ones_counter(val):\n",
      "    print \"ONES State:    \",\n",
      "    while 1:\n",
      "        if val <= 0 or val >= 30:\n",
      "           newState = \"Out_of_Range\"\n",
      "           break\n",
      "        elif 20 <= val < 30:\n",
      "            newState = \"TWENTIES\"\n",
      "            break\n",
      "        elif 10 <= val < 20:\n",
      "            newState = \"TENS\"\n",
      "            break\n",
      "        else:\n",
      "            print \"  @ %2.1f+\" % val,\n",
      "        val = math_func(val)\n",
      "    print \"  >>\"\n",
      "    return (newState, val)\n",
      "\n",
      "def tens_counter(val):\n",
      "    print \"TENS State:    \",\n",
      "    while 1:\n",
      "        if val <= 0 or val >= 30:\n",
      "           newState = \"Out_of_Range\"\n",
      "           break\n",
      "        elif 1 <= val < 10:\n",
      "            newState = \"ONES\"\n",
      "            break\n",
      "        elif 20 <= val < 30:\n",
      "            newState = \"TWENTIES\"\n",
      "            break\n",
      "        else:\n",
      "            print \"  #%2.1f+\" % val,\n",
      "        val = math_func(val)\n",
      "    print \"  >>\"\n",
      "    return (newState, val)\n",
      "\n",
      "def twenties_counter(val):\n",
      "    print \"TWENTIES State:\",\n",
      "    while 1:\n",
      "        if val <= 0 or val >= 30:\n",
      "           newState = \"Out_of_Range\"\n",
      "           break\n",
      "        elif 1 <= val < 10:\n",
      "            newState = \"ONES\"\n",
      "            break\n",
      "        elif 10 <= val < 20:\n",
      "            newState = \"TENS\"\n",
      "            break\n",
      "        else:\n",
      "            print \"  *%2.1f+\" % val,\n",
      "        val = math_func(val)\n",
      "    print \"  >>\"\n",
      "    return (newState, val)\n",
      "\n",
      "def math_func(n):\n",
      "    from math import sin\n",
      "    return abs(sin(n))*31\n",
      "\n",
      "if __name__== \"__main__\":\n",
      "    m = StateMachine()\n",
      "    m.add_state(\"ONES\", ones_counter)\n",
      "    m.add_state(\"TENS\", tens_counter)\n",
      "    m.add_state(\"TWENTIES\", twenties_counter)\n",
      "    m.add_state(\"OUT_OF_RANGE\", None, end_state=1)\n",
      "    m.set_start(\"ONES\")\n",
      "    m.run(1)\n"
     ],
     "language": "python",
     "metadata": {},
     "outputs": [
      {
       "output_type": "stream",
       "stream": "stdout",
       "text": [
        "ONES State:       @ 1.0+   >>\n",
        "TWENTIES State:   *26.1+   *25.3+   >>\n",
        "ONES State:       @ 4.2+   >>\n",
        "TWENTIES State:   *26.4+   *29.5+   *28.8+   >>\n",
        "TENS State:       #15.2+   #16.3+   #16.0+   >>\n",
        "ONES State:       @ 9.5+   @ 3.8+   >>\n",
        "TENS State:       #18.2+   #17.9+   >>\n",
        "TWENTIES State:   *24.5+   >>\n",
        "TENS State:       #17.7+   >>\n",
        "TWENTIES State:   *28.0+   >>\n",
        "ONES State:       @ 7.6+   >>\n",
        "TWENTIES State:   *29.9+   >>\n"
       ]
      }
     ],
     "prompt_number": 9
    },
    {
     "cell_type": "heading",
     "level": 2,
     "metadata": {},
     "source": [
      "A thread example"
     ]
    },
    {
     "cell_type": "markdown",
     "metadata": {},
     "source": [
      "From: http://www.tutorialspoint.com/python/python_multithreading.htm"
     ]
    },
    {
     "cell_type": "code",
     "collapsed": false,
     "input": [
      "%%file threading_example.py\n",
      "import threading\n",
      "import time\n",
      "\n",
      "exitFlag = 0\n",
      "\n",
      "class myThread (threading.Thread):\n",
      "    def __init__(self, threadID, name, counter, delay):\n",
      "        threading.Thread.__init__(self)\n",
      "        self.threadID = threadID\n",
      "        self.name = name\n",
      "        self.counter = counter\n",
      "        self.delay = delay\n",
      "    def run(self):\n",
      "        print \"Starting \" + self.name\n",
      "        print_time(self.name, self.counter, self.delay)\n",
      "        print \"Exiting \" + self.name\n",
      "\n",
      "def print_time(threadName, counter, delay):\n",
      "    while counter:\n",
      "        if exitFlag:\n",
      "            print \"%s exited.\" % threadName\n",
      "            thread.exit()\n",
      "        time.sleep(delay)\n",
      "        print \"%s: %s\" % (threadName, time.ctime(time.time()))\n",
      "        counter -= 1\n",
      "\n",
      "# Create new threads\n",
      "counter = 10\n",
      "delay = 0.5\n",
      "thread1 = myThread(1, \"Thread-1\", counter, delay)\n",
      "thread2 = myThread(2, \"Thread-2\", counter, delay)\n",
      "\n",
      "# Start new Threads\n",
      "thread1.start()\n",
      "thread2.start()\n",
      "\n",
      "print \"Exiting Main Thread\""
     ],
     "language": "python",
     "metadata": {},
     "outputs": [
      {
       "output_type": "stream",
       "stream": "stdout",
       "text": [
        "Overwriting threading_example.py\n"
       ]
      }
     ],
     "prompt_number": 281
    },
    {
     "cell_type": "code",
     "collapsed": false,
     "input": [
      "!python threading_example.py"
     ],
     "language": "python",
     "metadata": {},
     "outputs": [
      {
       "output_type": "stream",
       "stream": "stdout",
       "text": [
        "Starting Thread-1\r\n",
        " Starting Thread-2\r\n",
        "Exiting Main Thread\r\n"
       ]
      },
      {
       "output_type": "stream",
       "stream": "stdout",
       "text": [
        "Thread-2: Wed Apr  9 22:18:23 2014\r\n",
        "Thread-1: Wed Apr  9 22:18:23 2014\r\n"
       ]
      },
      {
       "output_type": "stream",
       "stream": "stdout",
       "text": [
        "Thread-2: Wed Apr  9 22:18:24 2014\r\n",
        " Thread-1: Wed Apr  9 22:18:24 2014\r\n"
       ]
      },
      {
       "output_type": "stream",
       "stream": "stdout",
       "text": [
        "Thread-1: Wed Apr  9 22:18:24 2014\r\n",
        "Thread-2: Wed Apr  9 22:18:24 2014\r\n"
       ]
      },
      {
       "output_type": "stream",
       "stream": "stdout",
       "text": [
        "Thread-2: Wed Apr  9 22:18:25 2014\r\n",
        "Thread-1: Wed Apr  9 22:18:25 2014\r\n"
       ]
      },
      {
       "output_type": "stream",
       "stream": "stdout",
       "text": [
        "Thread-2: Wed Apr  9 22:18:25 2014\r\n",
        " Thread-1: Wed Apr  9 22:18:25 2014\r\n"
       ]
      },
      {
       "output_type": "stream",
       "stream": "stdout",
       "text": [
        "Thread-2: Wed Apr  9 22:18:26 2014\r\n",
        " Thread-1: Wed Apr  9 22:18:26 2014\r\n"
       ]
      },
      {
       "output_type": "stream",
       "stream": "stdout",
       "text": [
        "Thread-1: Wed Apr  9 22:18:26 2014\r\n",
        "Thread-2: Wed Apr  9 22:18:26 2014\r\n"
       ]
      },
      {
       "output_type": "stream",
       "stream": "stdout",
       "text": [
        "Thread-1: Wed Apr  9 22:18:27 2014\r\n",
        "Thread-2: Wed Apr  9 22:18:27 2014\r\n"
       ]
      },
      {
       "output_type": "stream",
       "stream": "stdout",
       "text": [
        "Thread-1: Wed Apr  9 22:18:27 2014\r\n",
        "Thread-2: Wed Apr  9 22:18:27 2014\r\n"
       ]
      },
      {
       "output_type": "stream",
       "stream": "stdout",
       "text": [
        "Thread-1: Wed Apr  9 22:18:28 2014\r\n",
        " Thread-2: Wed Apr  9 22:18:28 2014\r\n",
        "Exiting Thread-1\r\n",
        "Exiting Thread-2\r\n"
       ]
      }
     ],
     "prompt_number": 282
    },
    {
     "cell_type": "code",
     "collapsed": false,
     "input": [
      "%%file threading_example_with_lock.py\n",
      "import threading\n",
      "import time\n",
      "\n",
      "class myThread (threading.Thread):\n",
      "    def __init__(self, threadID, name, counter, delay):\n",
      "        threading.Thread.__init__(self)\n",
      "        self.threadID = threadID\n",
      "        self.name = name\n",
      "        self.counter = counter\n",
      "        self.delay = delay\n",
      "        \n",
      "    def run(self):\n",
      "        print \"Starting \" + self.name\n",
      "        # Get lock to synchronize threads\n",
      "        # nb use of blocking = False arg to allow threads to run in parallel.\n",
      "        threadLock.acquire(BLOCKING)\n",
      "        print_time(self.name, self.counter, self.delay, self.threadID)\n",
      "        # Free lock to release next thread\n",
      "        try:\n",
      "            threadLock.release()\n",
      "        except Exception, e:\n",
      "            print \"Error releasing threadlock: \", e\n",
      "        \n",
      "def print_time(threadName, counter, delay, increment):\n",
      "    global TESTNUM, THREADERROR\n",
      "    \n",
      "    while counter:\n",
      "        time.sleep(delay)\n",
      "        TESTNUM += increment\n",
      "        #print \"TESTNUM BEFORE: \", TESTNUM\n",
      "        print \"%s: %s\" % (threadName, time.ctime(time.time()))\n",
      "        counter -= 1\n",
      "        TESTNUM -= increment\n",
      "        if TESTNUM != 0:\n",
      "            print \"Shared resource was accessed by both threads!\"\n",
      "            THREADERROR = 1\n",
      "            \n",
      "def runLockTest(counter, delay):   \n",
      "\n",
      "    # Create new threads\n",
      "    thread1 = myThread(1, \"Thread-1\", counter, delay)\n",
      "    thread2 = myThread(2, \"Thread-2\", counter, delay)\n",
      "\n",
      "    # Start new Threads\n",
      "    thread1.start()\n",
      "    thread2.start()\n",
      "\n",
      "    # Add threads to thread list\n",
      "    threads.append(thread1)\n",
      "    threads.append(thread2)\n",
      "\n",
      "    # Wait for all threads to complete\n",
      "    for t in threads:\n",
      "        t.join()\n",
      "    print \"Exiting Main Thread\"\n",
      "    if THREADERROR == 0:\n",
      "        print \"Shared resource properly accessed!\"\n",
      "        \n",
      "# Test with Lock() blocking enabled.\n",
      "print \"Running with Lock() blocking = True\"\n",
      "threadLock = threading.Lock()\n",
      "threads = []\n",
      "BLOCKING = True\n",
      "TESTNUM = 0\n",
      "THREADERROR = 0\n",
      "counter = 10\n",
      "delay = 0.5\n",
      "runLockTest(counter, delay)\n",
      "\n",
      "# Test with Lock() blocking disabled.\n",
      "print \"Running with Lock() blocking = False\"\n",
      "threadLock = threading.Lock()\n",
      "threads = []\n",
      "BLOCKING = False\n",
      "TESTNUM = 0\n",
      "THREADERROR = 0\n",
      "counter = 10\n",
      "delay = 0.5\n",
      "runLockTest(counter, delay)       \n"
     ],
     "language": "python",
     "metadata": {},
     "outputs": [
      {
       "output_type": "stream",
       "stream": "stdout",
       "text": [
        "Overwriting threading_example_with_lock.py\n"
       ]
      }
     ],
     "prompt_number": 53
    },
    {
     "cell_type": "code",
     "collapsed": false,
     "input": [
      "!python threading_example_with_lock.py"
     ],
     "language": "python",
     "metadata": {},
     "outputs": [
      {
       "output_type": "stream",
       "stream": "stdout",
       "text": [
        "Running with Lock() blocking = True\r\n",
        "Starting Thread-1\r\n",
        "Starting Thread-2\r\n"
       ]
      },
      {
       "output_type": "stream",
       "stream": "stdout",
       "text": [
        "Thread-1: Thu Apr 10 15:09:01 2014\r\n"
       ]
      },
      {
       "output_type": "stream",
       "stream": "stdout",
       "text": [
        "Thread-1: Thu Apr 10 15:09:01 2014\r\n"
       ]
      },
      {
       "output_type": "stream",
       "stream": "stdout",
       "text": [
        "Thread-1: Thu Apr 10 15:09:02 2014\r\n"
       ]
      },
      {
       "output_type": "stream",
       "stream": "stdout",
       "text": [
        "Thread-1: Thu Apr 10 15:09:02 2014\r\n"
       ]
      },
      {
       "output_type": "stream",
       "stream": "stdout",
       "text": [
        "Thread-1: Thu Apr 10 15:09:03 2014\r\n"
       ]
      },
      {
       "output_type": "stream",
       "stream": "stdout",
       "text": [
        "Thread-1: Thu Apr 10 15:09:03 2014\r\n"
       ]
      },
      {
       "output_type": "stream",
       "stream": "stdout",
       "text": [
        "Thread-1: Thu Apr 10 15:09:04 2014\r\n"
       ]
      },
      {
       "output_type": "stream",
       "stream": "stdout",
       "text": [
        "Thread-1: Thu Apr 10 15:09:04 2014\r\n"
       ]
      },
      {
       "output_type": "stream",
       "stream": "stdout",
       "text": [
        "Thread-1: Thu Apr 10 15:09:05 2014\r\n"
       ]
      },
      {
       "output_type": "stream",
       "stream": "stdout",
       "text": [
        "Thread-1: Thu Apr 10 15:09:05 2014\r\n"
       ]
      },
      {
       "output_type": "stream",
       "stream": "stdout",
       "text": [
        "Thread-2: Thu Apr 10 15:09:06 2014\r\n"
       ]
      },
      {
       "output_type": "stream",
       "stream": "stdout",
       "text": [
        "Thread-2: Thu Apr 10 15:09:06 2014\r\n"
       ]
      },
      {
       "output_type": "stream",
       "stream": "stdout",
       "text": [
        "Thread-2: Thu Apr 10 15:09:07 2014\r\n"
       ]
      },
      {
       "output_type": "stream",
       "stream": "stdout",
       "text": [
        "Thread-2: Thu Apr 10 15:09:07 2014\r\n"
       ]
      },
      {
       "output_type": "stream",
       "stream": "stdout",
       "text": [
        "Thread-2: Thu Apr 10 15:09:08 2014\r\n"
       ]
      },
      {
       "output_type": "stream",
       "stream": "stdout",
       "text": [
        "Thread-2: Thu Apr 10 15:09:08 2014\r\n"
       ]
      },
      {
       "output_type": "stream",
       "stream": "stdout",
       "text": [
        "Thread-2: Thu Apr 10 15:09:09 2014\r\n"
       ]
      },
      {
       "output_type": "stream",
       "stream": "stdout",
       "text": [
        "Thread-2: Thu Apr 10 15:09:09 2014\r\n"
       ]
      },
      {
       "output_type": "stream",
       "stream": "stdout",
       "text": [
        "Thread-2: Thu Apr 10 15:09:10 2014\r\n"
       ]
      },
      {
       "output_type": "stream",
       "stream": "stdout",
       "text": [
        "Thread-2: Thu Apr 10 15:09:10 2014\r\n",
        "Exiting Main Thread\r\n",
        "Shared resource properly accessed!\r\n",
        "Running with Lock() blocking = False\r\n",
        "Starting Thread-1\r\n",
        "Starting Thread-2\r\n"
       ]
      },
      {
       "output_type": "stream",
       "stream": "stdout",
       "text": [
        "Thread-1: Thu Apr 10 15:09:11 2014\r\n",
        " Thread-2: Thu Apr 10 15:09:11 2014\r\n",
        "Shared resource was accessed by both threads!\r\n"
       ]
      },
      {
       "output_type": "stream",
       "stream": "stdout",
       "text": [
        "Thread-2: Thu Apr 10 15:09:11 2014\r\n",
        " Thread-1: Thu Apr 10 15:09:11 2014\r\n",
        "Shared resource was accessed by both threads!\r\n"
       ]
      },
      {
       "output_type": "stream",
       "stream": "stdout",
       "text": [
        "Thread-2: Thu Apr 10 15:09:12 2014\r\n",
        " Thread-1: Thu Apr 10 15:09:12 2014\r\n",
        "Shared resource was accessed by both threads!\r\n"
       ]
      },
      {
       "output_type": "stream",
       "stream": "stdout",
       "text": [
        "Thread-1: Thu Apr 10 15:09:12 2014\r\n",
        " Thread-2: Thu Apr 10 15:09:12 2014\r\n",
        "Shared resource was accessed by both threads!\r\n"
       ]
      },
      {
       "output_type": "stream",
       "stream": "stdout",
       "text": [
        "Thread-1: Thu Apr 10 15:09:13 2014\r\n",
        "Thread-2: Thu Apr 10 15:09:13 2014\r\n"
       ]
      },
      {
       "output_type": "stream",
       "stream": "stdout",
       "text": [
        "Thread-1: Thu Apr 10 15:09:13 2014\r\n",
        " Shared resource was accessed by both threads!\r\n",
        "Thread-2: Thu Apr 10 15:09:13 2014\r\n"
       ]
      },
      {
       "output_type": "stream",
       "stream": "stdout",
       "text": [
        "Thread-1: Thu Apr 10 15:09:14 2014\r\n",
        " Thread-2: Thu Apr 10 15:09:14 2014\r\n",
        "Shared resource was accessed by both threads!\r\n"
       ]
      },
      {
       "output_type": "stream",
       "stream": "stdout",
       "text": [
        "Thread-2: Thu Apr 10 15:09:14 2014\r\n",
        " Thread-1: Thu Apr 10 15:09:14 2014\r\n",
        "Shared resource was accessed by both threads!\r\n"
       ]
      },
      {
       "output_type": "stream",
       "stream": "stdout",
       "text": [
        "Thread-2: Thu Apr 10 15:09:15 2014\r\n",
        " Thread-1: Thu Apr 10 15:09:15 2014\r\n",
        "Shared resource was accessed by both threads!\r\n"
       ]
      },
      {
       "output_type": "stream",
       "stream": "stdout",
       "text": [
        "Thread-2: Thu Apr 10 15:09:15 2014\r\n",
        " Thread-1: Thu Apr 10 15:09:15 2014\r\n",
        "Shared resource was accessed by both threads!\r\n",
        "Error releasing threadlock:  release unlocked lock\r\n",
        "Exiting Main Thread\r\n"
       ]
      }
     ],
     "prompt_number": 54
    },
    {
     "cell_type": "markdown",
     "metadata": {},
     "source": [
      "__Conclusion: If Lock() blocking is True then the threads aren't always well scheduled. If Lock() blocking is false then the shared resource can be accessed both by resourses when it shouldn't be. Let's try a queue.__"
     ]
    },
    {
     "cell_type": "code",
     "collapsed": false,
     "input": [
      "%%file threading_example_with_queue.py\n",
      "import Queue\n",
      "import threading\n",
      "import time\n",
      "\n",
      "exitFlag = 0\n",
      "\n",
      "class myThread (threading.Thread):\n",
      "    def __init__(self, threadID, name, q):\n",
      "        threading.Thread.__init__(self)\n",
      "        self.threadID = threadID\n",
      "        self.name = name\n",
      "        self.q = q\n",
      "    def run(self):\n",
      "        print \"Starting \" + self.name\n",
      "        process_data(self.name, self.q)\n",
      "        print \"Exiting \" + self.name\n",
      "\n",
      "def process_data(threadName, q):\n",
      "    while not exitFlag:\n",
      "        queueLock.acquire()\n",
      "        if not workQueue.empty():\n",
      "            data = q.get()\n",
      "            queueLock.release()\n",
      "            print \"%s processing %s\" % (threadName, data)\n",
      "        else:\n",
      "            queueLock.release()\n",
      "        time.sleep(1)\n",
      "\n",
      "threadList = [\"Thread-1\", \"Thread-2\", \"Thread-3\"]\n",
      "nameList = [\"One\", \"Two\", \"Three\", \"Four\", \"Five\", \n",
      "            \"Six\", \"Seven\", \"Eight\", \"Nine\", \"Ten\"]\n",
      "queueLock = threading.Lock()\n",
      "workQueue = Queue.Queue(10)\n",
      "threads = []\n",
      "threadID = 1\n",
      "\n",
      "# Create new threads\n",
      "for tName in threadList:\n",
      "    thread = myThread(threadID, tName, workQueue)\n",
      "    thread.start()\n",
      "    threads.append(thread)\n",
      "    threadID += 1\n",
      "\n",
      "# Fill the queue\n",
      "queueLock.acquire()\n",
      "for word in nameList:\n",
      "    workQueue.put(word)\n",
      "queueLock.release()\n",
      "\n",
      "# Wait for queue to empty\n",
      "while not workQueue.empty():\n",
      "    pass\n",
      "\n",
      "# Notify threads it's time to exit\n",
      "exitFlag = 1\n",
      "\n",
      "# Wait for all threads to complete\n",
      "for t in threads:\n",
      "    t.join()\n",
      "print \"Exiting Main Thread\""
     ],
     "language": "python",
     "metadata": {},
     "outputs": [
      {
       "output_type": "stream",
       "stream": "stdout",
       "text": [
        "Overwriting threading_example_with_queue.py\n"
       ]
      }
     ],
     "prompt_number": 277
    },
    {
     "cell_type": "code",
     "collapsed": false,
     "input": [
      "!python threading_example_with_queue.py"
     ],
     "language": "python",
     "metadata": {},
     "outputs": [
      {
       "output_type": "stream",
       "stream": "stdout",
       "text": [
        "Starting Thread-1Starting Thread-2\r\n",
        "\r\n",
        "Starting Thread-3\r\n",
        "Thread-3 processing One\r\n"
       ]
      },
      {
       "output_type": "stream",
       "stream": "stdout",
       "text": [
        "Thread-1 processing Two\r\n",
        "Thread-2 processing Three\r\n",
        "Thread-3 processing Four\r\n"
       ]
      },
      {
       "output_type": "stream",
       "stream": "stdout",
       "text": [
        "Thread-1 processing Five\r\n",
        "Thread-2 processing Six\r\n",
        "Thread-3 processing Seven\r\n"
       ]
      },
      {
       "output_type": "stream",
       "stream": "stdout",
       "text": [
        "Thread-1 processing Eight\r\n",
        "Thread-2 processing Nine\r\n",
        "Thread-3 processing Ten\r\n"
       ]
      },
      {
       "output_type": "stream",
       "stream": "stdout",
       "text": [
        "Exiting Thread-1\r\n",
        "Exiting Thread-2\r\n",
        "Exiting Thread-3\r\n",
        "Exiting Main Thread\r\n"
       ]
      }
     ],
     "prompt_number": 278
    },
    {
     "cell_type": "markdown",
     "metadata": {},
     "source": [
      "__Queues provide a way to exchange data between threads.__ "
     ]
    },
    {
     "cell_type": "markdown",
     "metadata": {},
     "source": [
      "__Conclusion: Threads do not seem a reliable way to handle concurrent tasks as don't run in any particular order. This could be fixed with threading.Condition() perhaps, but conditions also seem problematic.__"
     ]
    },
    {
     "cell_type": "heading",
     "level": 2,
     "metadata": {},
     "source": [
      "A multiprocessing example"
     ]
    },
    {
     "cell_type": "code",
     "collapsed": false,
     "input": [
      "%%file multiprocessing_example.py\n",
      "from multiprocessing import Process, Lock\n",
      "import time\n",
      "    \n",
      "def print_time(processName, counter, delay, lock, increment):\n",
      "    global TESTNUM\n",
      "    \n",
      "    while counter:\n",
      "        lock.acquire()\n",
      "        TESTNUM += increment\n",
      "        time.sleep(delay)\n",
      "        print \"%s: %s with TESTNUM: %s\" % (processName, time.ctime(time.time()), TESTNUM)\n",
      "        counter -= 1\n",
      "        TESTNUM -= increment\n",
      "        if TESTNUM != 0:\n",
      "            print \"Shared resource was accessed by both processes!\"\n",
      "        lock.release()\n",
      "    \n",
      "if __name__ == '__main__':\n",
      "    counter = 10\n",
      "    delay = 0.5\n",
      "    TESTNUM = 0\n",
      "    \n",
      "    lock = Lock()\n",
      "    \n",
      "    # Spawn process objects.\n",
      "    p1 = Process(target = print_time, args = ('process1', counter, delay, lock, 1))\n",
      "    p2 = Process(target = print_time, args = ('process2', counter, delay, lock, 2))\n",
      "    \n",
      "    # Start processes.\n",
      "    p1.start()\n",
      "    p2.start()\n",
      "    \n",
      "    # Wait for processes to finish.\n",
      "    p1.join()\n",
      "    p2.join()"
     ],
     "language": "python",
     "metadata": {},
     "outputs": [
      {
       "output_type": "stream",
       "stream": "stdout",
       "text": [
        "Overwriting multiprocessing_example.py\n"
       ]
      }
     ],
     "prompt_number": 308
    },
    {
     "cell_type": "code",
     "collapsed": false,
     "input": [
      "!python multiprocessing_example.py"
     ],
     "language": "python",
     "metadata": {},
     "outputs": [
      {
       "output_type": "stream",
       "stream": "stdout",
       "text": [
        "process1: Wed Apr  9 23:10:09 2014 with TESTNUM: 1\r\n"
       ]
      },
      {
       "output_type": "stream",
       "stream": "stdout",
       "text": [
        "process2: Wed Apr  9 23:10:09 2014 with TESTNUM: 2\r\n"
       ]
      },
      {
       "output_type": "stream",
       "stream": "stdout",
       "text": [
        "process1: Wed Apr  9 23:10:10 2014 with TESTNUM: 1\r\n"
       ]
      },
      {
       "output_type": "stream",
       "stream": "stdout",
       "text": [
        "process2: Wed Apr  9 23:10:10 2014 with TESTNUM: 2\r\n"
       ]
      },
      {
       "output_type": "stream",
       "stream": "stdout",
       "text": [
        "process1: Wed Apr  9 23:10:11 2014 with TESTNUM: 1\r\n"
       ]
      },
      {
       "output_type": "stream",
       "stream": "stdout",
       "text": [
        "process2: Wed Apr  9 23:10:11 2014 with TESTNUM: 2\r\n"
       ]
      },
      {
       "output_type": "stream",
       "stream": "stdout",
       "text": [
        "process1: Wed Apr  9 23:10:12 2014 with TESTNUM: 1\r\n"
       ]
      },
      {
       "output_type": "stream",
       "stream": "stdout",
       "text": [
        "process2: Wed Apr  9 23:10:12 2014 with TESTNUM: 2\r\n"
       ]
      },
      {
       "output_type": "stream",
       "stream": "stdout",
       "text": [
        "process1: Wed Apr  9 23:10:13 2014 with TESTNUM: 1\r\n"
       ]
      },
      {
       "output_type": "stream",
       "stream": "stdout",
       "text": [
        "process2: Wed Apr  9 23:10:13 2014 with TESTNUM: 2\r\n"
       ]
      },
      {
       "output_type": "stream",
       "stream": "stdout",
       "text": [
        "process1: Wed Apr  9 23:10:14 2014 with TESTNUM: 1\r\n"
       ]
      },
      {
       "output_type": "stream",
       "stream": "stdout",
       "text": [
        "process2: Wed Apr  9 23:10:14 2014 with TESTNUM: 2\r\n"
       ]
      },
      {
       "output_type": "stream",
       "stream": "stdout",
       "text": [
        "process1: Wed Apr  9 23:10:15 2014 with TESTNUM: 1\r\n"
       ]
      },
      {
       "output_type": "stream",
       "stream": "stdout",
       "text": [
        "process2: Wed Apr  9 23:10:15 2014 with TESTNUM: 2\r\n"
       ]
      },
      {
       "output_type": "stream",
       "stream": "stdout",
       "text": [
        "process1: Wed Apr  9 23:10:16 2014 with TESTNUM: 1\r\n"
       ]
      },
      {
       "output_type": "stream",
       "stream": "stdout",
       "text": [
        "process2: Wed Apr  9 23:10:16 2014 with TESTNUM: 2\r\n"
       ]
      },
      {
       "output_type": "stream",
       "stream": "stdout",
       "text": [
        "process1: Wed Apr  9 23:10:17 2014 with TESTNUM: 1\r\n"
       ]
      },
      {
       "output_type": "stream",
       "stream": "stdout",
       "text": [
        "process2: Wed Apr  9 23:10:17 2014 with TESTNUM: 2\r\n"
       ]
      },
      {
       "output_type": "stream",
       "stream": "stdout",
       "text": [
        "process1: Wed Apr  9 23:10:18 2014 with TESTNUM: 1\r\n"
       ]
      },
      {
       "output_type": "stream",
       "stream": "stdout",
       "text": [
        "process2: Wed Apr  9 23:10:18 2014 with TESTNUM: 2\r\n"
       ]
      }
     ],
     "prompt_number": 309
    },
    {
     "cell_type": "markdown",
     "metadata": {},
     "source": [
      "__Conclusion: Runs great on the computer. Does not work on the NAO if a proxy is called in the process.__"
     ]
    },
    {
     "cell_type": "heading",
     "level": 2,
     "metadata": {},
     "source": [
      "Some generator examples, with a couroutine example"
     ]
    },
    {
     "cell_type": "code",
     "collapsed": false,
     "input": [
      "# Example 1, using yield.\n",
      "def countdown(n):\n",
      "    print \"Counting down from\", n\n",
      "    while n > 0:\n",
      "        yield n\n",
      "        n -= 1\n",
      "\n",
      "x = countdown(10)\n",
      "\n",
      "while 1:\n",
      "    print x.next()"
     ],
     "language": "python",
     "metadata": {},
     "outputs": [
      {
       "ename": "StopIteration",
       "evalue": "",
       "output_type": "pyerr",
       "traceback": [
        "\u001b[0;31m---------------------------------------------------------------------------\u001b[0m\n\u001b[0;31mStopIteration\u001b[0m                             Traceback (most recent call last)",
        "\u001b[0;32m<ipython-input-3-b3015cb8acab>\u001b[0m in \u001b[0;36m<module>\u001b[0;34m()\u001b[0m\n\u001b[1;32m      9\u001b[0m \u001b[0;34m\u001b[0m\u001b[0m\n\u001b[1;32m     10\u001b[0m \u001b[0;32mwhile\u001b[0m \u001b[0;36m1\u001b[0m\u001b[0;34m:\u001b[0m\u001b[0;34m\u001b[0m\u001b[0m\n\u001b[0;32m---> 11\u001b[0;31m     \u001b[0;32mprint\u001b[0m \u001b[0mx\u001b[0m\u001b[0;34m.\u001b[0m\u001b[0mnext\u001b[0m\u001b[0;34m(\u001b[0m\u001b[0;34m)\u001b[0m\u001b[0;34m\u001b[0m\u001b[0m\n\u001b[0m",
        "\u001b[0;31mStopIteration\u001b[0m: "
       ]
      },
      {
       "output_type": "stream",
       "stream": "stdout",
       "text": [
        "Counting down from 10\n",
        "10\n",
        "9\n",
        "8\n",
        "7\n",
        "6\n",
        "5\n",
        "4\n",
        "3\n",
        "2\n",
        "1\n"
       ]
      }
     ],
     "prompt_number": 3
    },
    {
     "cell_type": "markdown",
     "metadata": {},
     "source": [
      "Example 2, using yield, with data passed back to the generator.\n",
      "It's a couroutine!\n",
      "From: http://antroy.blogspot.co.uk/2007/04/python-coroutines.html"
     ]
    },
    {
     "cell_type": "code",
     "collapsed": false,
     "input": [
      "# First as a generator only with yield.\n",
      "def rota(people):\n",
      "    _people = list(people)\n",
      "    current = 0\n",
      "    while len(_people):\n",
      "        yield _people[current]\n",
      "        current = (current + 1) % len(_people)\n",
      "        \n",
      "people = [\"Ant\", \"Bernard\", \"Carly\", \"Deb\", \"Englebert\"]\n",
      "r = rota (people)\n",
      "for i in range(10):\n",
      "    print \"It's %s's turn.\" % r.next()"
     ],
     "language": "python",
     "metadata": {},
     "outputs": [
      {
       "output_type": "stream",
       "stream": "stdout",
       "text": [
        "It's Ant's turn.\n",
        "It's Bernard's turn.\n",
        "It's Carly's turn.\n",
        "It's Deb's turn.\n",
        "It's Englebert's turn.\n",
        "It's Ant's turn.\n",
        "It's Bernard's turn.\n",
        "It's Carly's turn.\n",
        "It's Deb's turn.\n",
        "It's Englebert's turn.\n"
       ]
      }
     ],
     "prompt_number": 36
    },
    {
     "cell_type": "code",
     "collapsed": false,
     "input": [
      "# Then as a coroutine with send().\n",
      "def rota(people):\n",
      "    _people = list(people)\n",
      "    current = 0\n",
      "    while len(_people):\n",
      "        command = yield _people[current]\n",
      "        current = (current + 1) % len(_people)\n",
      "        if command:\n",
      "            comm, name = command\n",
      "            if comm == \"add\":\n",
      "                _people.append(name)\n",
      "            elif comm == \"remove\":\n",
      "                _people.remove(name)\n",
      "                \n",
      "def printname(name):\n",
      "    print \"It's %s's turn.\" % name\n",
      "    \n",
      "people = [\"Ant\", \"Bernard\", \"Carly\", \"Deb\", \"Englebert\"]\n",
      "r = rota (people)\n",
      "\n",
      "print \"\\nOriginal list\\n\"\n",
      "for i in range(6):\n",
      "    printname(r.next())\n",
      "    \n",
      "printname(r.send((\"add\", \"Fred\")))\n",
      "print \"\\nAdded Fred\\n\"\n",
      "\n",
      "for i in range(7):\n",
      "    printname(r.next())\n",
      "\n",
      "printname(r.send((\"remove\", \"Deb\")))\n",
      "print \"\\nRemoved Deb\\n\"\n",
      "\n",
      "for i in range(6):\n",
      "    printname(r.next())"
     ],
     "language": "python",
     "metadata": {},
     "outputs": [
      {
       "output_type": "stream",
       "stream": "stdout",
       "text": [
        "\n",
        "Original list\n",
        "\n",
        "It's Ant's turn.\n",
        "It's Bernard's turn.\n",
        "It's Carly's turn.\n",
        "It's Deb's turn.\n",
        "It's Englebert's turn.\n",
        "It's Ant's turn.\n",
        "It's Bernard's turn.\n",
        "\n",
        "Added Fred\n",
        "\n",
        "It's Carly's turn.\n",
        "It's Deb's turn.\n",
        "It's Englebert's turn.\n",
        "It's Fred's turn.\n",
        "It's Ant's turn.\n",
        "It's Bernard's turn.\n",
        "It's Carly's turn.\n",
        "It's Englebert's turn.\n",
        "\n",
        "Removed Deb\n",
        "\n",
        "It's Fred's turn.\n",
        "It's Ant's turn.\n",
        "It's Bernard's turn.\n",
        "It's Carly's turn.\n",
        "It's Englebert's turn.\n",
        "It's Fred's turn.\n"
       ]
      }
     ],
     "prompt_number": 40
    },
    {
     "cell_type": "code",
     "collapsed": false,
     "input": [
      "# Example 3, with a generator expression.\n",
      "line_list = [' line 1\\n', 'line 2\\n', 'line 3\\n']\n",
      "\n",
      "# Generator expression, returns iterator. Note use of () to define as generator.\n",
      "stripped_iter = (line.strip() for line in line_list)\n",
      "\n",
      "# List comprehension, returns a list. Note use of [] to define as list comp.\n",
      "stripped_list = [line.strip() for line in line_list]"
     ],
     "language": "python",
     "metadata": {},
     "outputs": [],
     "prompt_number": 41
    },
    {
     "cell_type": "code",
     "collapsed": false,
     "input": [
      "stripped_iter"
     ],
     "language": "python",
     "metadata": {},
     "outputs": [
      {
       "metadata": {},
       "output_type": "pyout",
       "prompt_number": 32,
       "text": [
        "<generator object <genexpr> at 0x1078d5730>"
       ]
      }
     ],
     "prompt_number": 32
    },
    {
     "cell_type": "code",
     "collapsed": false,
     "input": [
      "stripped_list"
     ],
     "language": "python",
     "metadata": {},
     "outputs": [
      {
       "metadata": {},
       "output_type": "pyout",
       "prompt_number": 33,
       "text": [
        "['line 1', 'line 2', 'line 3']"
       ]
      }
     ],
     "prompt_number": 33
    },
    {
     "cell_type": "code",
     "collapsed": false,
     "input": [
      "while 1:\n",
      "    print stripped_iter.next()"
     ],
     "language": "python",
     "metadata": {},
     "outputs": [
      {
       "ename": "StopIteration",
       "evalue": "",
       "output_type": "pyerr",
       "traceback": [
        "\u001b[0;31m---------------------------------------------------------------------------\u001b[0m\n\u001b[0;31mStopIteration\u001b[0m                             Traceback (most recent call last)",
        "\u001b[0;32m<ipython-input-34-8f0529855f33>\u001b[0m in \u001b[0;36m<module>\u001b[0;34m()\u001b[0m\n\u001b[1;32m      1\u001b[0m \u001b[0;32mwhile\u001b[0m \u001b[0;36m1\u001b[0m\u001b[0;34m:\u001b[0m\u001b[0;34m\u001b[0m\u001b[0m\n\u001b[0;32m----> 2\u001b[0;31m     \u001b[0;32mprint\u001b[0m \u001b[0mstripped_iter\u001b[0m\u001b[0;34m.\u001b[0m\u001b[0mnext\u001b[0m\u001b[0;34m(\u001b[0m\u001b[0;34m)\u001b[0m\u001b[0;34m\u001b[0m\u001b[0m\n\u001b[0m",
        "\u001b[0;31mStopIteration\u001b[0m: "
       ]
      },
      {
       "output_type": "stream",
       "stream": "stdout",
       "text": [
        "line 1\n",
        "line 2\n",
        "line 3\n"
       ]
      }
     ],
     "prompt_number": 34
    },
    {
     "cell_type": "heading",
     "level": 2,
     "metadata": {},
     "source": [
      "Some concurrent concepts running on NAO"
     ]
    },
    {
     "cell_type": "markdown",
     "metadata": {},
     "source": [
      "A few examples from the above concepts, using timeit to time how long the processes take.\n",
      "\n",
      "+ Using a NAO example from: https://community.aldebaran-robotics.com/doc/1-22/dev/python/processing_data.html\n",
      "+ Actuator/sensor names from: https://community.aldebaran-robotics.com/doc/1-22/family/nao_dcm/actuator_sensor_names.html#actuator-sensor-list\n",
      "+ Note on timeit, will be for approx comparison only due to multiple factors effecting the timing including ethernet latency, motor latency and error etc.\n",
      "+ Also memory.getData() is slow and should not be called more than every 50ms."
     ]
    },
    {
     "cell_type": "heading",
     "level": 3,
     "metadata": {},
     "source": [
      "The general problem - two head motor moves and data logging"
     ]
    },
    {
     "cell_type": "code",
     "collapsed": false,
     "input": [
      "%%file concurrency_1_general_problem.py\n",
      "\"\"\" Looking at concurrency. Moving two head motors (pitch and yaw),\n",
      "    and logging data simultaneously.\n",
      "\n",
      "\"\"\"\n",
      "\n",
      "# MEMORY_VALUE_NAMES is the list of ALMemory values names you want to save.\n",
      "ALMEMORY_KEY_NAMES = [\n",
      "\"Device/SubDeviceList/HeadYaw/Position/Sensor/Value\",\n",
      "\"Device/SubDeviceList/HeadYaw/Position/Actuator/Value\",\n",
      "\"Device/SubDeviceList/HeadYaw/ElectricCurrent/Sensor/Value\",\n",
      "\"Device/SubDeviceList/HeadYaw/Temperature/Sensor/Value\",\n",
      "\"Device/SubDeviceList/HeadYaw/Hardness/Actuator/Value\",\n",
      "\"Device/SubDeviceList/HeadYaw/Temperature/Sensor/Status\",\n",
      "\"Device/SubDeviceList/HeadPitch/Position/Actuator/Value\",\n",
      "\"Device/SubDeviceList/HeadPitch/Position/Sensor/Value\",\n",
      "\"Device/SubDeviceList/HeadPitch/ElectricCurrent/Sensor/Value\",\n",
      "\"Device/SubDeviceList/HeadPitch/Temperature/Sensor/Value\",\n",
      "\"Device/SubDeviceList/HeadPitch/Hardness/Actuator/Value\",\n",
      "\"Device/SubDeviceList/HeadPitch/Temperature/Sensor/Status\"\n",
      "]\n",
      "\n",
      "NAO_IP = \"mistcalf.local\"\n",
      "STEPS = 5\n",
      "\n",
      "from naoqi import ALProxy\n",
      "\n",
      "def main():\n",
      "    \"\"\" Some simple robot processes.\n",
      "\n",
      "    \"\"\"\n",
      "    \n",
      "    motion = ALProxy(\"ALMotion\", NAO_IP, 9559)\n",
      "    posture = ALProxy(\"ALRobotPosture\", NAO_IP, 9559)\n",
      "    memory = ALProxy(\"ALMemory\", NAO_IP, 9559)\n",
      "    \n",
      "    data = list()\n",
      "    \n",
      "    # Set stiffness on for Head motors and go to start pose.\n",
      "    print \"Starting move....\"\n",
      "    motion.setStiffnesses(\"Head\", 1.0)\n",
      "    posture.goToPosture(\"Crouch\", 2.0)\n",
      "        \n",
      "    # Core processes. Do some moves and record data.\n",
      "    for i in range(STEPS):\n",
      "        positiveAngleStep = 1.0 / STEPS\n",
      "        negativeAngleStep = -1 * positiveAngleStep\n",
      "        timeStep = 20 / STEPS\n",
      "        motion.angleInterpolation(\n",
      "            [\"HeadYaw\"],\n",
      "            [positiveAngleStep],\n",
      "            [timeStep],\n",
      "            False\n",
      "        )\n",
      "        \n",
      "        motion.angleInterpolation(\n",
      "            [\"HeadPitch\"],\n",
      "            [negativeAngleStep],\n",
      "            [timeStep],\n",
      "            False\n",
      "        )\n",
      "        \n",
      "        line = list()\n",
      "        for key in ALMEMORY_KEY_NAMES:\n",
      "            value = memory.getData(key)\n",
      "            line.append(value)\n",
      "        data.append(line)\n",
      "            \n",
      "    # Gently set stiff off for Head motors and relax.\n",
      "    print \"...Going to stop now!\"\n",
      "    motion.setStiffnesses(\"Head\", 0.0)\n",
      "    motion.rest()\n",
      "    print data\n",
      "    \n",
      "if __name__ == \"__main__\":\n",
      "    main()\n"
     ],
     "language": "python",
     "metadata": {},
     "outputs": [
      {
       "output_type": "stream",
       "stream": "stdout",
       "text": [
        "Overwriting concurrency_1_general_problem.py\n"
       ]
      }
     ],
     "prompt_number": 249
    },
    {
     "cell_type": "code",
     "collapsed": false,
     "input": [
      "!python concurrency_1_general_problem.py"
     ],
     "language": "python",
     "metadata": {},
     "outputs": [
      {
       "output_type": "stream",
       "stream": "stdout",
       "text": [
        "\u001b[0m\u001b[37m\u001b[0m\u001b[34m[I] \u001b[0m\u001b[47m\u001b[30m4359\u001b[0m \u001b[37mqi.eventloop: \u001b[0mCreating event loop while no qi::Application() is running\r\n",
        "\u001b[0m\u001b[37m\u001b[0m\u001b[34m[I] \u001b[0m\u001b[47m\u001b[30m4359\u001b[0m \u001b[37mqimessaging.session: \u001b[0mSession listener created on tcp://0.0.0.0:0\r\n",
        "\u001b[0m\u001b[37m\u001b[0m\u001b[34m[I] \u001b[0m\u001b[47m\u001b[30m4359\u001b[0m \u001b[37mqi.eventloop: \u001b[0mCreating event loop while no qi::Application() is running\r\n",
        "\u001b[0m\u001b[37m\u001b[0m\u001b[34m[I] \u001b[0m\u001b[47m\u001b[30m4359\u001b[0m \u001b[37mqimessaging.transportserver: \u001b[0mTransportServer will listen on: tcp://10.0.1.152:50647\r\n",
        "\u001b[0m\u001b[37m\u001b[0m\u001b[34m[I] \u001b[0m\u001b[47m\u001b[30m4359\u001b[0m \u001b[37mqimessaging.transportserver: \u001b[0mTransportServer will listen on: tcp://127.0.0.1:50647\r\n",
        "\u001b[0m\u001b[37m\u001b[0m\u001b[34m[I] \u001b[0m\u001b[47m\u001b[30m4359\u001b[0m \u001b[37mqimessaging.transportserver: \u001b[0mTransportServer will listen on: tcp://10.137.0.22:50647\r\n"
       ]
      },
      {
       "output_type": "stream",
       "stream": "stdout",
       "text": [
        "Starting move....\r\n"
       ]
      },
      {
       "output_type": "stream",
       "stream": "stdout",
       "text": [
        "...Going to stop now!\r\n"
       ]
      },
      {
       "output_type": "stream",
       "stream": "stdout",
       "text": [
        "[[0.18557214736938477, 0.19986635446548462, 0.14400000870227814, 39.0, 0.47084471583366394, 0, -0.0998663529753685, -0.0813438892364502, 0.2240000069141388, 39.0, 0.24613042175769806, 0], [0.3819241523742676, 0.39986634254455566, 0.0, 39.0, 1.0, 0, -0.29986631870269775, -0.28996801376342773, 0.0, 39.0, 0.4631490707397461, 0], [0.5874800682067871, 0.5998663306236267, 0.0, 39.0, 1.0, 0, -0.4998663365840912, -0.4740478992462158, 0.01600000075995922, 39.0, 0.45838305354118347, 0], [0.7592880725860596, 0.7998663187026978, 0.08000000566244125, 39.0, 0.11819390952587128, 0, -0.5276462435722351, -0.5031938552856445, 0.01600000075995922, 39.0, 0.24665920436382294, 0], [0.9771161079406738, 0.9998663663864136, 0.06400000303983688, 39.0, 0.10307526588439941, 0, -0.4540998935699463, -0.48325204849243164, 0.03200000151991844, 39.0, 0.22960776090621948, 0]]\r\n"
       ]
      }
     ],
     "prompt_number": 10
    },
    {
     "cell_type": "heading",
     "level": 3,
     "metadata": {},
     "source": [
      "Some concurrent solutions to the general problem - two head motor moves and data logging with timeit tests for each solution"
     ]
    },
    {
     "cell_type": "code",
     "collapsed": false,
     "input": [
      "%%file concurrency_1_general_problem_with_timeit.py\n",
      "\"\"\" Looking at concurrency. Moving two head motors (pitch and yaw),\n",
      "    and logging data simultaneously.\n",
      "\n",
      "\"\"\"\n",
      "\n",
      "# MEMORY_VALUE_NAMES is the list of ALMemory values names you want to save.\n",
      "ALMEMORY_KEY_NAMES = [\n",
      "\"Device/SubDeviceList/HeadYaw/Position/Sensor/Value\",\n",
      "\"Device/SubDeviceList/HeadYaw/Position/Actuator/Value\",\n",
      "\"Device/SubDeviceList/HeadYaw/ElectricCurrent/Sensor/Value\",\n",
      "\"Device/SubDeviceList/HeadYaw/Temperature/Sensor/Value\",\n",
      "\"Device/SubDeviceList/HeadYaw/Hardness/Actuator/Value\",\n",
      "\"Device/SubDeviceList/HeadYaw/Temperature/Sensor/Status\",\n",
      "\"Device/SubDeviceList/HeadPitch/Position/Actuator/Value\",\n",
      "\"Device/SubDeviceList/HeadPitch/Position/Sensor/Value\",\n",
      "\"Device/SubDeviceList/HeadPitch/ElectricCurrent/Sensor/Value\",\n",
      "\"Device/SubDeviceList/HeadPitch/Temperature/Sensor/Value\",\n",
      "\"Device/SubDeviceList/HeadPitch/Hardness/Actuator/Value\",\n",
      "\"Device/SubDeviceList/HeadPitch/Temperature/Sensor/Status\"\n",
      "]\n",
      "\n",
      "# GLOBALS - as easier than passing arguments to timeit\n",
      "NAO_IP = \"mistcalf.local\"\n",
      "STEPS = 5\n",
      "POSITIVEANGLE = 1.0\n",
      "NEGATIVEANGLE = -1.0\n",
      "TESTREPS = 1\n",
      "TIME = 20.0\n",
      "\n",
      "POSITIVEANGLESTEP = POSITIVEANGLE / STEPS\n",
      "NEGATIVEANGLESTEP = NEGATIVEANGLE / STEPS\n",
      "TIMESTEP = TIME / STEPS\n",
      "if TIMESTEP <= 0.05:\n",
      "    # memory.getData() should not be called more than every 50ms as slow.\n",
      "    print \"Warning, TIMESTEP too fast for memory.getData(), set to 50ms.\"\n",
      "    TIMESTEP = 0.05\n",
      "\n",
      "# GLOBALS - proxies and locks\n",
      "motion = None\n",
      "posture = None\n",
      "memory = None\n",
      "threadLock = None\n",
      "processLock = None\n",
      "\n",
      "import time\n",
      "import threading\n",
      "import multiprocessing\n",
      "from timeit import timeit\n",
      "from naoqi import ALProxy\n",
      "\n",
      "##########################################################\n",
      "#                   START test1Procedural CODE\n",
      "##########################################################\n",
      "\n",
      "def test1Procedural():\n",
      "    \"\"\" Do some moves and record data in a procedural ie\n",
      "        linear, method.\n",
      "        \n",
      "    \"\"\"\n",
      "    global motion, posture, memory\n",
      "    data = list()    \n",
      "    \n",
      "    for i in range(STEPS):\n",
      "        motion.angleInterpolation(\n",
      "            [\"HeadYaw\"],\n",
      "            [POSITIVEANGLESTEP],\n",
      "            [TIMESTEP],\n",
      "            False\n",
      "        )\n",
      "        \n",
      "        motion.angleInterpolation(\n",
      "            [\"HeadPitch\"],\n",
      "            [NEGATIVEANGLESTEP],\n",
      "            [TIMESTEP],\n",
      "            False\n",
      "        )\n",
      "        \n",
      "        line = list()\n",
      "        for key in ALMEMORY_KEY_NAMES:\n",
      "            value = memory.getData(key)\n",
      "            line.append(value)\n",
      "        data.append(line)\n",
      "        \n",
      "    #print data\n",
      "    \n",
      "##########################################################\n",
      "#                   END test1Procedural CODE\n",
      "##########################################################\n",
      "    \n",
      "##########################################################\n",
      "#                   START test2Post CODE\n",
      "##########################################################\n",
      "    \n",
      "def test2Post():\n",
      "    \"\"\" Do some moves and record data using built in post.\n",
      "        \n",
      "    \"\"\"\n",
      "    global motion, posture, memory  \n",
      "    \n",
      "    id1 = motion.post.angleInterpolation(\n",
      "                                    [\"HeadYaw\"],\n",
      "                                    [POSITIVEANGLE],\n",
      "                                    [TIME],\n",
      "                                    False\n",
      "    )\n",
      "        \n",
      "    id2 = motion.post.angleInterpolation(\n",
      "                                    [\"HeadPitch\"],\n",
      "                                    [NEGATIVEANGLE],\n",
      "                                    [TIME],\n",
      "                                    False\n",
      "    )\n",
      "        \n",
      "    data = recordData()\n",
      "\n",
      "    while (motion.isRunning(id1) and motion.isRunning(id2)):\n",
      "        pass\n",
      "    \n",
      "    #print data\n",
      "    \n",
      "def recordData():\n",
      "    \"\"\" Record the data from ALMemory.\n",
      "    Returns a matrix of values\n",
      "\n",
      "    \"\"\"\n",
      "    global memory\n",
      "    \n",
      "    print \"Recording data ...\"\n",
      "    \n",
      "    data = list()\n",
      "    for i in range (STEPS):\n",
      "        line = list()\n",
      "        for key in ALMEMORY_KEY_NAMES:\n",
      "            value = memory.getData(key)\n",
      "            line.append(value)\n",
      "        data.append(line)\n",
      "        time.sleep(TIMESTEP)\n",
      "        \n",
      "    print \"Done recording data\"\n",
      "    \n",
      "    return data\n",
      "    \n",
      "##########################################################\n",
      "#                   END test2Post CODE\n",
      "##########################################################\n",
      "\n",
      "##########################################################\n",
      "#                   START test3Threading CODE\n",
      "##########################################################\n",
      "\n",
      "class myThread(threading.Thread):\n",
      "    def __init__(self, threadID):\n",
      "        threading.Thread.__init__(self)\n",
      "        self.threadID = threadID  \n",
      "        \n",
      "    def run(self):\n",
      "        if self.threadID == 1:\n",
      "            headYawMotion()\n",
      "        elif self.threadID == 2:\n",
      "            headPitchMotion()\n",
      "        elif self.threadID == 3:\n",
      "            data = recordDataForThread()\n",
      "            # print data\n",
      "        else:\n",
      "            print \"oops, no thread\"\n",
      "\n",
      "def headYawMotion():\n",
      "    global motion, posture, memory, threadLock\n",
      "    \n",
      "    for i in range(STEPS):\n",
      "        threadLock.acquire(True)\n",
      "        motion.angleInterpolation(\n",
      "            [\"HeadYaw\"],\n",
      "            [POSITIVEANGLESTEP],\n",
      "            [TIMESTEP],\n",
      "            False\n",
      "        )\n",
      "        threadLock.release()\n",
      "    \n",
      "def headPitchMotion():\n",
      "    global motion, posture, memory, threadLock\n",
      "    \n",
      "    for i in range(STEPS):\n",
      "        threadLock.acquire(True)\n",
      "        motion.angleInterpolation(\n",
      "                                [\"HeadPitch\"],\n",
      "                                [NEGATIVEANGLESTEP],\n",
      "                                [TIMESTEP],\n",
      "                                False\n",
      "        )\n",
      "        threadLock.release()\n",
      "    \n",
      "def recordDataForThread():\n",
      "    \"\"\" Record the data from ALMemory.\n",
      "    Returns a matrix of values\n",
      "\n",
      "    \"\"\"\n",
      "    global motion, posture, memory, threadLock\n",
      "    \n",
      "    print \"Recording data ...\"\n",
      "    \n",
      "    data = list()\n",
      "    for i in range (STEPS):\n",
      "        threadLock.acquire(True)\n",
      "        line = list()\n",
      "        for key in ALMEMORY_KEY_NAMES:\n",
      "            value = memory.getData(key)\n",
      "            line.append(value)\n",
      "        data.append(line)\n",
      "        time.sleep(TIMESTEP)\n",
      "        threadLock.release()\n",
      "        \n",
      "    print \"Done recording data\"\n",
      "    \n",
      "    return data\n",
      "\n",
      "def test3Threading():\n",
      "    \"\"\" Do some moves and record data using the threading module.\n",
      "        Runs without Lock(), will use Lock() as best practise,\n",
      "        and needed in current app.\n",
      "        Lock.Acquire(False) with Blocking = False arg seems to run smoother, but\n",
      "        should be set to True to ensure synchronous running. Requires checking.        \n",
      "        Lock can also be acquired and released using 'with lock:'.\n",
      "        But without blocking the shared resource does not seem safe.\n",
      "    \n",
      "    \"\"\"\n",
      "    global motion, posture, memory, threadLock\n",
      "    \n",
      "    threads = []\n",
      "    threadLock = threading.Lock()\n",
      "    \n",
      "    # Create new threads.\n",
      "    thread1 = myThread(1)\n",
      "    thread2 = myThread(2)\n",
      "    thread3 = myThread(3)\n",
      "    \n",
      "    # Start new threads.\n",
      "    thread1.start()\n",
      "    thread2.start()\n",
      "    thread3.start()\n",
      "    \n",
      "    # Wait for threads to end.\n",
      "    # Essential, or thread calls methods in run, then returns.\n",
      "    threads.append(thread1)\n",
      "    threads.append(thread2)\n",
      "    threads.append(thread3)\n",
      "    \n",
      "    for t in threads:\n",
      "        t.join()\n",
      "    \n",
      "##########################################################\n",
      "#                   END test3Threading CODE\n",
      "##########################################################\n",
      "\n",
      "##########################################################\n",
      "#                   START test4Multiprocessing CODE\n",
      "# Doesn't run, issues with proxies causing error:\n",
      "# 5891 qimessaging.remoteobject: no promise found for req id:39  obj: 21  func: 126 type: 2\n",
      "##########################################################\n",
      "\n",
      "def headYawMotionProcess(processLock):\n",
      "    global motion, posture, memory\n",
      "    \n",
      "    for i in range(STEPS):\n",
      "        processLock.acquire()\n",
      "        motion.angleInterpolation(\n",
      "                [\"HeadYaw\"],\n",
      "                [POSITIVEANGLESTEP],\n",
      "                [TIMESTEP],\n",
      "                False\n",
      "        )\n",
      "        processLock.release()\n",
      "    \n",
      "def headPitchMotionProcess(processLock):\n",
      "    global motion, posture, memory\n",
      "    \n",
      "    for i in range(STEPS):\n",
      "        processLock.acquire()\n",
      "        motion.angleInterpolation(\n",
      "                            [\"HeadPitch\"],\n",
      "                            [NEGATIVEANGLESTEP],\n",
      "                            [TIMESTEP],\n",
      "                            False\n",
      "        )\n",
      "        processLock.release()\n",
      "    \n",
      "def recordDataProcess(processLock):\n",
      "    \"\"\" Record the data from ALMemory.\n",
      "    Returns a matrix of values\n",
      "\n",
      "    \"\"\"\n",
      "    global motion, posture, memory\n",
      "    \n",
      "    print \"Recording data ...\"\n",
      "    \n",
      "    data = list()\n",
      "    for i in range (STEPS):\n",
      "        processLock.acquire()\n",
      "        line = list()\n",
      "        for key in ALMEMORY_KEY_NAMES:\n",
      "            value = memory.getData(key)\n",
      "            line.append(value)\n",
      "        data.append(line)\n",
      "        time.sleep(TIMESTEP)\n",
      "        processLock.release()\n",
      "        \n",
      "    print \"Done recording data\"\n",
      "    \n",
      "    print data\n",
      "\n",
      "\n",
      "def test4Multiprocessing():\n",
      "    \"\"\" Do some moves and record data using the multiprocessing module.\n",
      "    \n",
      "    \"\"\"\n",
      "    global motion, posture, memory, processLock\n",
      "    \n",
      "    processLock = multiprocessing.Lock()\n",
      "    \n",
      "    # Spawn process objects.\n",
      "    p1 = multiprocessing.Process(target = headYawMotionProcess, args = (processLock,))\n",
      "    p2 = multiprocessing.Process(target = headPitchMotionProcess, args = (processLock,))\n",
      "    p3 = multiprocessing.Process(target = recordDataProcess, args = (processLock,))\n",
      "    \n",
      "    # Start processes.\n",
      "    p1.start()\n",
      "    p2.start()\n",
      "    p3.start()\n",
      "    \n",
      "    # Wait for processes to finish.\n",
      "    p1.join()\n",
      "    p2.join()\n",
      "    p3.join()\n",
      "\n",
      "\n",
      "##########################################################\n",
      "#                   END test4Multiprocessing CODE\n",
      "##########################################################\n",
      "\n",
      "##########################################################\n",
      "#                   START test5Coroutine CODE\n",
      "##########################################################\n",
      "\n",
      "def headYawMotionCoroutine(yawMotionList):\n",
      "    global motion, posture, memory\n",
      "    \n",
      "    _yawMotionList = list(yawMotionList)\n",
      "    current = 0\n",
      "    \n",
      "    while len(_yawMotionList):\n",
      "        angle = _yawMotionList[current][0]\n",
      "        time = _yawMotionList[current][1]\n",
      "        motion.angleInterpolation(\n",
      "                    [\"HeadYaw\"],\n",
      "                    [angle],\n",
      "                    [time],\n",
      "                    False\n",
      "        )\n",
      "        yield\n",
      "        current += 1\n",
      "\n",
      "    \n",
      "def headPitchMotionCoroutine(pitchMotionList):\n",
      "    global motion, posture, memory\n",
      "    \n",
      "    _pitchMotionList = list(pitchMotionList)\n",
      "    current = 0\n",
      "    \n",
      "    while len(_pitchMotionList):\n",
      "        angle = _pitchMotionList[current][0]\n",
      "        time = _pitchMotionList[current][1]\n",
      "        motion.angleInterpolation(\n",
      "                                [\"HeadPitch\"],\n",
      "                                [angle],\n",
      "                                [time],\n",
      "                                False\n",
      "        )\n",
      "        yield\n",
      "        current += 1\n",
      "    \n",
      "def recordDataCoroutine():\n",
      "    \"\"\" Record the data from ALMemory.\n",
      "    Returns a matrix of values\n",
      "\n",
      "    \"\"\"\n",
      "    global motion, posture, memory\n",
      "    \n",
      "    print \"Recording data ...\"\n",
      "    \n",
      "    data = list()\n",
      "    # Infinite list as is run every time there is a motion move.\n",
      "    while 1:        \n",
      "        line = list()\n",
      "        for key in ALMEMORY_KEY_NAMES:\n",
      "            value = memory.getData(key)\n",
      "            line.append(value)\n",
      "        data.append(line)\n",
      "        yield data\n",
      "        \n",
      "def test5Coroutine():\n",
      "    \"\"\" Do some moves and record data using coroutines.\n",
      "    \n",
      "    \"\"\"\n",
      "    global motion, posture, memory\n",
      "    \n",
      "    # Generate motion lists\n",
      "    yawMotionList = []\n",
      "    pitchMotionList = []            \n",
      "    yawMotionList = [(POSITIVEANGLESTEP, TIMESTEP) for i in range(STEPS)]\n",
      "    pitchMotionList = [(NEGATIVEANGLESTEP, TIMESTEP) for i in range(STEPS)]\n",
      "    \n",
      "    # Ininitiate coroutine.\n",
      "    p1 = headYawMotionCoroutine(yawMotionList)\n",
      "    p2 = headPitchMotionCoroutine(pitchMotionList)\n",
      "    p3 = recordDataCoroutine()\n",
      "\n",
      "    # Loop through all steps. Could also be infinite loop if this was,\n",
      "    # a full coroutine where data was being sent to the lists.\n",
      "    for i in range(STEPS):\n",
      "        p1.next()\n",
      "        p2.next()\n",
      "        data = p3.next()\n",
      "        \n",
      "    #print data\n",
      "    \n",
      "\n",
      "##########################################################\n",
      "#                   END test5Coroutine CODE\n",
      "##########################################################\n",
      "\n",
      "def main():\n",
      "    \"\"\" Some simple robot processes.\n",
      "\n",
      "    \"\"\"\n",
      "    global motion, posture, memory\n",
      "\n",
      "    motion = ALProxy(\"ALMotion\", NAO_IP, 9559)\n",
      "    posture = ALProxy(\"ALRobotPosture\", NAO_IP, 9559)\n",
      "    memory = ALProxy(\"ALMemory\", NAO_IP, 9559)    \n",
      "\n",
      "    # Set stiffness on for Head motors and go to start pose.\n",
      "    print \"Starting tests....\"\n",
      "    motion.setStiffnesses(\"Head\", 1.0)\n",
      "    print \"\\n---------------------------------------\\n\"\n",
      "    # Goto start position, and run test1Procedural\n",
      "    print \"test1Procedural starting ...\"\n",
      "    posture.goToPosture(\"Crouch\", 2.0)\n",
      "    t1 = (timeit(\"test1Procedural()\", setup = \"from __main__ import test1Procedural\", number = TESTREPS))\n",
      "    print \"...end test1Procedural, time: \", t1\n",
      "    print \"\\n---------------------------------------\\n\"\n",
      "    # Goto start position, and run test2Post\n",
      "    print \"test2Post starting ...\"\n",
      "    posture.goToPosture(\"Crouch\", 2.0)\n",
      "    t2 = (timeit(\"test2Post()\", setup = \"from __main__ import test2Post\", number = TESTREPS))\n",
      "    print \"...end test2Post, time: \", t2\n",
      "    print \"\\n---------------------------------------\\n\"\n",
      "    # Goto start position, and run test3Threading\n",
      "    print \"test3Threading starting ...\"\n",
      "    posture.goToPosture(\"Crouch\", 2.0)\n",
      "    t3 = (timeit(\"test3Threading()\", setup = \"from __main__ import test3Threading\", number = TESTREPS))\n",
      "    print \"...end test3Threading, time: \", t3\n",
      "    print \"\\n---------------------------------------\\n\"\n",
      "    # Goto start position, and run test4Multiprocessing - NOT WORKING\n",
      "    print \"test4Multiprocessing - not working\"\n",
      "    #print \"test4Multiprocessing starting ...\"\n",
      "    #posture.goToPosture(\"Crouch\", 2.0)\n",
      "    #test4Multiprocessing()\n",
      "    #t4 = (timeit(\"test4Multiprocessing()\", setup = \"from __main__ import test3Threading\", number = TESTREPS))\n",
      "    #print \"...end test4Multiprocessing, time: \", t4\n",
      "    print \"\\n---------------------------------------\\n\"\n",
      "    # Goto start position, and run test5Coroutine\n",
      "    print \"test5Coroutine starting ...\"\n",
      "    posture.goToPosture(\"Crouch\", 2.0)\n",
      "    t5 = (timeit(\"test5Coroutine()\", setup = \"from __main__ import test5Coroutine\", number = TESTREPS))\n",
      "    print \"...end test5Coroutine, time: \", t5\n",
      "    print \"\\n---------------------------------------\\n\"\n",
      "    # Gently set stiff off for Head motors and relax.\n",
      "    print \"...ending tests!\"\n",
      "    motion.setStiffnesses(\"Head\", 0.0)\n",
      "    motion.rest()\n",
      "    \n",
      "if __name__ == \"__main__\":\n",
      "    main()"
     ],
     "language": "python",
     "metadata": {},
     "outputs": [
      {
       "output_type": "stream",
       "stream": "stdout",
       "text": [
        "Overwriting concurrency_1_general_problem_with_timeit.py\n"
       ]
      }
     ],
     "prompt_number": 43
    },
    {
     "cell_type": "code",
     "collapsed": false,
     "input": [
      "!python concurrency_1_general_problem_with_timeit.py"
     ],
     "language": "python",
     "metadata": {},
     "outputs": [
      {
       "output_type": "stream",
       "stream": "stdout",
       "text": [
        "\u001b[0m\u001b[37m\u001b[0m\u001b[34m[I] \u001b[0m\u001b[47m\u001b[30m4359\u001b[0m \u001b[37mqi.eventloop: \u001b[0mCreating event loop while no qi::Application() is running\r\n",
        "\u001b[0m\u001b[37m\u001b[0m\u001b[34m[I] \u001b[0m\u001b[47m\u001b[30m4359\u001b[0m \u001b[37mqimessaging.session: \u001b[0mSession listener created on tcp://0.0.0.0:0\r\n",
        "\u001b[0m\u001b[37m\u001b[0m\u001b[34m[I] \u001b[0m\u001b[47m\u001b[30m4359\u001b[0m \u001b[37mqi.eventloop: \u001b[0mCreating event loop while no qi::Application() is running\r\n",
        "\u001b[0m\u001b[37m\u001b[0m\u001b[34m[I] \u001b[0m\u001b[47m\u001b[30m4359\u001b[0m \u001b[37mqimessaging.transportserver: \u001b[0mTransportServer will listen on: tcp://10.0.1.152:51959\r\n",
        "\u001b[0m\u001b[37m\u001b[0m\u001b[34m[I] \u001b[0m\u001b[47m\u001b[30m4359\u001b[0m \u001b[37mqimessaging.transportserver: \u001b[0mTransportServer will listen on: tcp://127.0.0.1:51959\r\n",
        "\u001b[0m\u001b[37m\u001b[0m\u001b[34m[I] \u001b[0m\u001b[47m\u001b[30m4359\u001b[0m \u001b[37mqimessaging.transportserver: \u001b[0mTransportServer will listen on: tcp://10.137.0.22:51959\r\n"
       ]
      },
      {
       "output_type": "stream",
       "stream": "stdout",
       "text": [
        "Starting tests....\r\n",
        "\r\n",
        "---------------------------------------\r\n",
        "\r\n",
        "test1Procedural starting ...\r\n"
       ]
      },
      {
       "output_type": "stream",
       "stream": "stdout",
       "text": [
        "...end test1Procedural, time:  41.0207629204\r\n",
        "\r\n",
        "---------------------------------------\r\n",
        "\r\n",
        "test2Post starting ...\r\n"
       ]
      },
      {
       "output_type": "stream",
       "stream": "stdout",
       "text": [
        "Recording data ...\r\n"
       ]
      },
      {
       "output_type": "stream",
       "stream": "stdout",
       "text": [
        "Done recording data\r\n",
        "...end test2Post, time:  20.3220949173\r\n",
        "\r\n",
        "---------------------------------------\r\n",
        "\r\n",
        "test3Threading starting ...\r\n"
       ]
      },
      {
       "output_type": "stream",
       "stream": "stdout",
       "text": [
        "Recording data ...\r\n"
       ]
      },
      {
       "output_type": "stream",
       "stream": "stdout",
       "text": [
        "Done recording data\r\n",
        "...end test3Threading, time:  60.9526190758\r\n",
        "\r\n",
        "---------------------------------------\r\n",
        "\r\n",
        "test4Multiprocessing - not working\r\n",
        "\r\n",
        "---------------------------------------\r\n",
        "\r\n",
        "test5Coroutine starting ...\r\n"
       ]
      },
      {
       "output_type": "stream",
       "stream": "stdout",
       "text": [
        "Recording data ...\r\n"
       ]
      },
      {
       "output_type": "stream",
       "stream": "stdout",
       "text": [
        "...end test5Coroutine, time:  44.906514883\r\n",
        "\r\n",
        "---------------------------------------\r\n",
        "\r\n",
        "...ending tests!\r\n"
       ]
      }
     ],
     "prompt_number": 44
    },
    {
     "cell_type": "heading",
     "level": 2,
     "metadata": {},
     "source": [
      "Conclusions"
     ]
    },
    {
     "cell_type": "markdown",
     "metadata": {},
     "source": [
      "+ Concurrent programming is hard! I have outlined some potential programming approaches to concurrent programming in this notebook.\n",
      "+ There is a lot more depth and detail to each of these approaches and potentially many ways to use each approach. I'm not sure my outlines are optimum examples of each approach. Particularly in the use of queues and coroutines where it might have been better to have a single global queue or coroutine acting as an actioner for the whole system (or a subsystem) that each task fed.\n",
      "+ The built in post object is very effective but it can not be applied to user defined methods and it can not lock shared resources.\n",
      "+ A procedural (state machine) approach could be reliable but slow.\n",
      "+ In theory threading should have worked well, but in practise it was slow or allowed the shared resource to be accessed inappropriately. Possibly this is a NAO thing or a Python threads thing.\n",
      "+ Queues (of tasks) or coroutines (acting as a queue for tasks) could be reliable but conccurent tasks were not handled particularly smoothly or quickly.\n",
      "+ If concurrent tasks are required in a program they need to be considered upfront and the program designed appropriately for the chosen approach."
     ]
    },
    {
     "cell_type": "code",
     "collapsed": false,
     "input": [],
     "language": "python",
     "metadata": {},
     "outputs": []
    }
   ],
   "metadata": {}
  }
 ]
}