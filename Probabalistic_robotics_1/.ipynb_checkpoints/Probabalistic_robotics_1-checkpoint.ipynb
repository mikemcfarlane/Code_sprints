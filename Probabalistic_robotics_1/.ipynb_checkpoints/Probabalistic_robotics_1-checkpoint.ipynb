{
 "metadata": {
  "name": ""
 },
 "nbformat": 3,
 "nbformat_minor": 0,
 "worksheets": [
  {
   "cells": [
    {
     "cell_type": "heading",
     "level": 1,
     "metadata": {},
     "source": [
      "Probabalistic robotics 1"
     ]
    },
    {
     "cell_type": "heading",
     "level": 2,
     "metadata": {},
     "source": [
      "Objectives"
     ]
    },
    {
     "cell_type": "markdown",
     "metadata": {},
     "source": [
      "+ Understand basic probability concepts from [Probabilistic Robotics by Sebastian Thrun, Wolfram Burgard, Dieter Fox](http://www.amazon.co.uk/dp/0262201623)\n",
      "\n",
      "+ Code, or find a library for, a basic Bayes Filter."
     ]
    },
    {
     "cell_type": "heading",
     "level": 2,
     "metadata": {},
     "source": [
      "Symbol key"
     ]
    },
    {
     "cell_type": "markdown",
     "metadata": {},
     "source": [
      "X = a random variable\n",
      "    \n",
      "x = a specific value that X might assume\n",
      "    \n",
      "$p(x)$ = probability of x\n",
      "    \n",
      "$p(x, y)$ = probability of x and probability of y\n",
      "    \n",
      "$p(x|y)$ = probability of x if y known\n",
      "    \n",
      "\u03bc = mean\n",
      "    \n",
      "$\u03c3^2$ = variance\n",
      "    \n",
      "\u2211 = covariance (little \u2211)\n",
      "    \n",
      "\u03b7 = Bayes rule normaliser (normalise to 1)\n",
      "    \n",
      "$E$ = expectation of a random variable\n",
      "\n",
      "$x_t$ = state at time $t$ which might include state variables:\n",
      "\n",
      "+ Pose e.g. for a rigid mobile robot: x, y, z Cartesian coordinates; pitch, roll, yaw angular orientation.\n",
      "+ Configuation of robot actuators ie the kinematic state.\n",
      "+ Robot velocity and velocity of joints are dynamic states.\n",
      "+ Location and features of surrounding objects including __landmarks__ which are distinct features that can be reliably recognised.\n",
      "+ Location and velocity of moving objects and people.\n",
      "+ Other state variables such as a broken sensor, battery charge .....\n",
      "\n",
      "$z_t$ = measurement data at time t.\n",
      "\n",
      "$z_{t_1 : t_2} = z_{t_1}, z_{t_1 + 1}, z_{t_1 + 2},..., z_{t_2}$ = the set of all __measurement data__ from time $t_1$ to time $t_2$, for $t_1 \u2264 t_2$.\n",
      "\n",
      "$u_t$ = control data, ie information about change of state in the environment, in time interval $(t - 1 ; t)$.\n",
      "\n",
      "$u_{t_1 : t_2} = u_{t_1}, u_{t_1 + 1}, u_{t_1 + 2},..., u_{t_2}$ = the set of all __control data__ from time $t - 1$ to time $t$, for $t_1 \u2264 t_2$.\n",
      "\n",
      "$bel(x_t)$ = __belief__ for state $x_t$\n",
      "    "
     ]
    },
    {
     "cell_type": "heading",
     "level": 2,
     "metadata": {},
     "source": [
      "Note on MathJax/LaTex formating in ipnb"
     ]
    },
    {
     "cell_type": "markdown",
     "metadata": {},
     "source": [
      "__(__If no MathJax installed, in ipnb:\n",
      "\n",
      "from IPython.external.mathjax import install_mathjax\n",
      "\n",
      "install_mathjax()\n",
      "\n",
      "Example of MathJax and LaTeX usage from [nbviewer markdown example](http://nbviewer.ipython.org/github/ipython/ipython/blob/master/examples/notebooks/Part%204%20-%20Markdown%20Cells.ipynb):\n",
      "\n",
      "$$e^x=\\sum_{i=0}^\\infty \\frac{1}{i!}x^i$$\n",
      "\n",
      "And some [more Markdown formatting.](http://www.darkcoding.net/software/markdown-quick-reference/)__)__"
     ]
    },
    {
     "cell_type": "heading",
     "level": 2,
     "metadata": {},
     "source": [
      "Some basic probability theory"
     ]
    },
    {
     "cell_type": "markdown",
     "metadata": {},
     "source": [
      "A __probability density function (PDF)__ must sum to 1:\n",
      "    \n",
      "$$\u222b p(x) dx = 1$$"
     ]
    },
    {
     "cell_type": "markdown",
     "metadata": {},
     "source": [
      "If __independent__ variables:\n",
      "    \n",
      "$$p(x, y) = p(x) p(y)$$"
     ]
    },
    {
     "cell_type": "markdown",
     "metadata": {},
     "source": [
      "If __conditional probability:__\n",
      "    \n",
      "$$p(x | y) = \\frac{p(x, y)}{p(y)}$$\n",
      "    \n",
      "ie if know the probability of y, then know the probability of x."
     ]
    },
    {
     "cell_type": "markdown",
     "metadata": {},
     "source": [
      "__Bayes rule:__\n",
      "\n",
      "$$p(x | y) = \\frac{p (y | x) p(x)} {p(y)}$$\n",
      "    \n",
      "In discrete space.\n",
      "\n",
      "ie if x is a quantity we would like to infer from y, the probability p(x) is a __prior probability distribution__, and y is the data such as a sensor measurement. \n",
      "\n",
      "$p(x | y)$ is called the __posterior probability distribution.__"
     ]
    },
    {
     "cell_type": "markdown",
     "metadata": {},
     "source": [
      "Rewriting for the normaliser as $p(y)^{-1}$ will be the same for any value of x:\n",
      "    \n",
      "$$p(x | y) = \u03b7 p(y | x) p(x)$$"
     ]
    },
    {
     "cell_type": "markdown",
     "metadata": {},
     "source": [
      "__Expectation of a random variable:__\n",
      "    \n",
      "$$E[X] = \u2211_x x p(x)$$\n",
      "    \n",
      "for discrete space."
     ]
    },
    {
     "cell_type": "markdown",
     "metadata": {},
     "source": [
      "__Covariance__ (squared expected deviation from the mean) of X:\n",
      "    \n",
      "$$Cov[X] = E[X^2] - E[X]^2$$"
     ]
    },
    {
     "cell_type": "markdown",
     "metadata": {},
     "source": [
      "__Entropy__ (the expected information that the value of x carries):\n",
      "\n",
      "$$H_{p}(x) = - \u2211_{x} p(x) log_{2} p(x)$$\n",
      "\n",
      "for discrete space."
     ]
    },
    {
     "cell_type": "markdown",
     "metadata": {},
     "source": [
      "A note on __Markov Chains__. The future may be [stochastic](https://en.wikipedia.org/wiki/Stochastic) (state is non-deterministic i.e. \"random\") but no variables prior to $x_t$ may influcence the stochastic evolution of future states, unless this dependence is mediated through the state $x_t$. Temporal processes that meet these conditions are known as __Markov Chains__."
     ]
    },
    {
     "cell_type": "markdown",
     "metadata": {},
     "source": [
      "A note on __data__. There is a clear distinction between __measurement data__ and __control data__, although both may take place concurrently. Consider:\n",
      "\n",
      "+ Measurement data provides information about the environments state, hence tends to increase robots knowledge.\n",
      "+ Control data tends to decrease the robots knowledge due to inherent noise in motion and stochasticity of the environment."
     ]
    },
    {
     "cell_type": "markdown",
     "metadata": {},
     "source": [
      "__Probabalistic generative laws__ govern the evolution of state and measurements with state $x_t$ generated stochastically from $x_{t-1}$ so:\n",
      "\n",
      "$$p(x_t | x_{0 : t - 1}, z_{1 : t - 1}, u_{1 : t} = p(x_t | x_{t-1}, u_t)$$\n",
      "\n",
      "assuming robot undertakes control action $u_1$ first, then takes a measurement $z_1$."
     ]
    },
    {
     "cell_type": "markdown",
     "metadata": {},
     "source": [
      "__Measurement probability__ can be defined as:\n",
      "\n",
      "$$p(z_t | x_t)$$\n",
      "\n",
      "ie. knowing the state $x_t$ allows you to know the probability of measurement $z_t$. Consider measurements as noisy projections of the state!"
     ]
    },
    {
     "cell_type": "code",
     "collapsed": false,
     "input": [
      "# Image \u00a9 Probabalistic Robotics figure 2.2.\n",
      "from IPython.core.display import Image\n",
      "Image(filename='dynamic_bayes_network_Image_Probabalistic_robotics.jpg')"
     ],
     "language": "python",
     "metadata": {},
     "outputs": [
      {
       "jpeg": "[encoded data removed]",
       "metadata": {},
       "output_type": "pyout",
       "prompt_number": 62,
       "text": [
        "<IPython.core.display.Image at 0x10d96f8d0>"
       ]
      }
     ],
     "prompt_number": 62
    },
    {
     "cell_type": "markdown",
     "metadata": {},
     "source": [
      "The __dynamic Bayes network__ shows the evolution of states $x_t$ as control actions $u_t$ are applied and measurements $z_t$ are applied. Such a __temporaral generative model__ is also known as a __Hidden Markov Model (HMM)__."
     ]
    },
    {
     "cell_type": "markdown",
     "metadata": {},
     "source": [
      "__Belief distributions__ reflect the robots internal knowledge about the state of the environment, nb state can not be measured directly, state must be infered from data.\n",
      "\n",
      "$$bel(x_t) = p(x_t | z_{1:t}, u_{1:t})$$\n",
      "\n",
      "this __posterior__ is the probability distribution over the state $x_t$ at time $t$, conditioned on all past measurements $z_{1:t}$ and all past controls $u_{1:t}$.\n",
      "\n",
      "Sometimes the posterior will be calculated before incorporating measurement $z_t$ and after applying control $u_t$. This can be denoted:\n",
      "\n",
      "$$\\overline{bel}(x_t) = p(x_t | z_{1:t - 1}, u_{1:t})$$\n",
      "\n",
      "This probability distribution is refered to as __prediction__ and can be used as part of __correction__."
     ]
    },
    {
     "cell_type": "heading",
     "level": 2,
     "metadata": {},
     "source": [
      "Pseudo code for Bayes Filter algorithm"
     ]
    },
    {
     "cell_type": "markdown",
     "metadata": {},
     "source": [
      "algorithm_bayes_filter($bel(x_{t-1}), u_t, z_t$):\n",
      "\n",
      ">for all $x_t$ do:\n",
      "    \n",
      ">>$$\\overline{bel}(x_t) = \u222b p(x_t | u_t, x_{t-1}) . bel(x_{t-1})dx_{t-1}$$\n",
      "  \n",
      ">>$$bel(x_t) = \u03b7 . p(z_t | x_t) . \\overline{bel}(x_t)$$\n",
      "  \n",
      ">endfor\n",
      "\n",
      ">return $bel(x_t)$\n",
      "\n",
      "\n",
      "In discrete space $\\overline{bel}(x_1) = \u222b p(x_1 | u_1, x_0) . bel(x_0)dx_0$ becomes:\n",
      "\n",
      "$$\\overline{bel}(x_1) = \u2211_{x_0} p(x_1 | u_1, x_0) . bel(x_0)$$"
     ]
    },
    {
     "cell_type": "heading",
     "level": 2,
     "metadata": {},
     "source": [
      "Some Bayes filter libraries"
     ]
    },
    {
     "cell_type": "markdown",
     "metadata": {},
     "source": [
      "+ [Probabilistic Programming and Bayesian Methods for Hackers](http://nbviewer.ipython.org/github/CamDavidsonPilon/Probabilistic-Programming-and-Bayesian-Methods-for-Hackers/blob/master/Prologue/Prologue.ipynb)\n",
      "+ [Naive Bayes with scikit-learn](http://scikit-learn.org/stable/modules/naive_bayes.html)"
     ]
    },
    {
     "cell_type": "heading",
     "level": 2,
     "metadata": {},
     "source": [
      "A basic Bayes Filter example"
     ]
    },
    {
     "cell_type": "code",
     "collapsed": false,
     "input": [
      "%%file basic_bayes_filter_example.py\n",
      "# -*- coding: ascii -*-\n",
      "\"\"\" A basic Bayes Filter example.\n",
      "    A mobile robot estimates the state of a door.\n",
      "    First coding attempt, linear code.\n",
      "\n",
      "\"\"\"\n",
      "\n",
      "__author__ = \"Mike McFarlane mike@mikemcfarlane.co.uk\"\n",
      "__version__ = \"Revision: ??\"\n",
      "__date__ = \"Date: 18-04-14\"\n",
      "__copyright__ = \"Copyright (c)Mike McFarlane 2014\"\n",
      "__license__ = \"TBC\"\n",
      "\n",
      "\n",
      "# Probabilities defining this example.\n",
      "# p = probability, x = state, z = sensor measurement, u = manipulator action.\n",
      "\n",
      "# Initial belief, no prior knowledge so assumes equal probability.\n",
      "bel_X0_isOpen = 0.5\n",
      "bel_X0_isClosed = 0.5\n",
      "\n",
      "# Measurements z from sensor, assume noisy, so conditional probabilities,\n",
      "# when door is open,\n",
      "p_Zt_senseOpen_Xt_isOpen = 0.6\n",
      "p_Zt_senseClosed_Xt_isOpen = 0.4\n",
      "# and when door is closed,\n",
      "p_Zt_senseOpen_Xt_isClosed = 0.2\n",
      "p_Zt_senseClosed_Xt_isClosed = 0.8\n",
      "# ie robot is good at detecting when door is closed, but not so good when door open.\n",
      "\n",
      "# With actions u, if robot tries to open door,\n",
      "p_Xt_isOpen_Ut_push_Xt_1_isOpen = 1\n",
      "p_Xt_isClosed_Ut_push_Xt_1_isOpen = 0\n",
      "p_Xt_isOpen_Ut_push_Xt_1_isClosed = 0.8\n",
      "p_Xt_isClosed_Ut_push_Xt_1_isClosed = 0.2\n",
      "# or does nothing,\n",
      "p_Xt_isOpen_Ut_doNothing_Xt_1_isOpen = 1\n",
      "p_Xt_isClosed_Ut_doNothing_Xt_1_isOpen = 0\n",
      "p_Xt_isOpen_Ut_doNothing_Xt_1_isClosed = 0\n",
      "p_Xt_isClosed_Ut_doNothing_Xt_1_isClosed = 1\n",
      "\n",
      "# Initial value for normaliser,\n",
      "n = 1.0\n",
      "\n",
      "\n",
      "def bayes_filter(bel_xt_1, ut, zt):\n",
      "    \"\"\" Simple Bayes filter.\n",
      "    \n",
      "    \"\"\"\n",
      "    bel_prediction_xt = None\n",
      "    bel_xt = normaliser * p_zt_xt * beliefPrediction_xt\n",
      "    \n",
      "    return bel_xt\n",
      "\n",
      "\n",
      "def main():\n",
      "    \"\"\" Main.\n",
      "    \n",
      "    \"\"\"\n",
      "    # Declare n as global as needs modified.\n",
      "    global n\n",
      "    \n",
      "    print \"\\nArrive at door, is it open or closed?\\n\"\n",
      "        \n",
      "    # For hypothesis X1 = isOpen.\n",
      "    bel_prediction_X1_isOpen = (p_Xt_isOpen_Ut_doNothing_Xt_1_isOpen * bel_X0_isOpen) + \\\n",
      "                                (p_Xt_isOpen_Ut_doNothing_Xt_1_isClosed * bel_X0_isClosed)\n",
      "    print \"bel_prediction_X1_isOpen: \", bel_prediction_X1_isOpen\n",
      "    # For hypothesis X1 = isClosed.\n",
      "    bel_prediction_X1_isClosed = (p_Xt_isClosed_Ut_doNothing_Xt_1_isOpen * bel_X0_isOpen) + \\\n",
      "                                    (p_Xt_isClosed_Ut_doNothing_Xt_1_isClosed * bel_X0_isClosed)\n",
      "    print \"bel_prediction_X1_isClosed: \", bel_prediction_X1_isClosed\n",
      "    \n",
      "    # Incorporate the measurement data, with normaliser equal 1.\n",
      "    bel_X1_isOpen = n * p_Zt_senseOpen_Xt_isOpen * bel_prediction_X1_isOpen\n",
      "    print \"bel_X1_isOpen (n=1): \", bel_X1_isOpen\n",
      "    bel_X1_isClosed = n * p_Zt_senseOpen_Xt_isClosed * bel_prediction_X1_isClosed\n",
      "    print \"bel_X1_isClosed (n=1): \", bel_X1_isClosed\n",
      "    \n",
      "    # Calculate the value of the normaliser\n",
      "    n = 1 / (bel_X1_isOpen + bel_X1_isClosed)\n",
      "    print \"normaliser X1: \", n\n",
      "    \n",
      "    # Recalculate incorporating measurement data, with normaliser.\n",
      "    bel_X1_isOpen = n * p_Zt_senseOpen_Xt_isOpen * bel_prediction_X1_isOpen\n",
      "    print \"bel_X1_isOpen (normalised): \", bel_X1_isOpen\n",
      "    bel_X1_isClosed = n * p_Zt_senseOpen_Xt_isClosed * bel_prediction_X1_isClosed\n",
      "    print \"bel_X1_isClosed (normalised): \", bel_X1_isClosed\n",
      "    \n",
      "    # Give the door a push ie iterate\n",
      "    print \"\\nPush the door .....\\n\"\n",
      "    # For hypothesis X2 = isOpen.\n",
      "    bel_prediction_X2_isOpen = (p_Xt_isOpen_Ut_push_Xt_1_isOpen * bel_X1_isOpen) + \\\n",
      "                                (p_Xt_isOpen_Ut_push_Xt_1_isClosed * bel_X1_isClosed)\n",
      "    print \"bel_prediction_X2_isOpen: \", bel_prediction_X2_isOpen\n",
      "    # For hypothesis X2 = isClosed.\n",
      "    bel_prediction_X2_isClosed = (p_Xt_isClosed_Ut_push_Xt_1_isOpen * bel_X1_isOpen) + \\\n",
      "                                    (p_Xt_isClosed_Ut_push_Xt_1_isClosed * bel_X1_isClosed)\n",
      "    print \"bel_prediction_X1_isClosed: \", bel_prediction_X2_isClosed\n",
      "    \n",
      "    # Incorporate the measurement data, with normaliser = 1.\n",
      "    n = 1\n",
      "    bel_X2_isOpen = n * p_Zt_senseOpen_Xt_isOpen * bel_prediction_X2_isOpen\n",
      "    print \"bel_X2_isOpen (n new): \", bel_X2_isOpen\n",
      "    bel_X2_isClosed = n * p_Zt_senseOpen_Xt_isClosed * bel_prediction_X2_isClosed\n",
      "    print \"bel_X2_isClosed (n new): \", bel_X2_isClosed\n",
      "    \n",
      "    # Calculate the value of the normaliser\n",
      "    n = 1 / (bel_X2_isOpen + bel_X2_isClosed)\n",
      "    print \"normaliser X2: \", n\n",
      "    \n",
      "    # Recalculate incorporating measurement data, with normaliser.\n",
      "    bel_X2_isOpen = n * p_Zt_senseOpen_Xt_isOpen * bel_prediction_X2_isOpen\n",
      "    print \"bel_X2_isOpen (normalised): \", bel_X2_isOpen\n",
      "    bel_X2_isClosed = n * p_Zt_senseOpen_Xt_isClosed * bel_prediction_X2_isClosed\n",
      "    print \"bel_X2_isClosed (normalised): \", bel_X2_isClosed\n",
      "    \n",
      "    \n",
      "if __name__ == \"__main__\":\n",
      "    main()\n"
     ],
     "language": "python",
     "metadata": {},
     "outputs": [
      {
       "output_type": "stream",
       "stream": "stdout",
       "text": [
        "Overwriting basic_bayes_filter_example.py\n"
       ]
      }
     ],
     "prompt_number": 87
    },
    {
     "cell_type": "code",
     "collapsed": false,
     "input": [
      "!python basic_bayes_filter_example.py"
     ],
     "language": "python",
     "metadata": {},
     "outputs": [
      {
       "output_type": "stream",
       "stream": "stdout",
       "text": [
        "\r\n",
        "Arrive at door, is it open or closed?\r\n",
        "\r\n",
        "bel_prediction_X1_isOpen:  0.5\r\n",
        "bel_prediction_X1_isClosed:  0.5\r\n",
        "bel_X1_isOpen (n=1):  0.3\r\n",
        "bel_X1_isClosed (n=1):  0.1\r\n",
        "normaliser X1:  2.5\r\n",
        "bel_X1_isOpen (normalised):  0.75\r\n",
        "bel_X1_isClosed (normalised):  0.25\r\n",
        "\r\n",
        "Push the door .....\r\n",
        "\r\n",
        "bel_prediction_X2_isOpen:  0.95\r\n",
        "bel_prediction_X1_isClosed:  0.05\r\n",
        "bel_X2_isOpen (n new):  0.57\r\n",
        "bel_X2_isClosed (n new):  0.01\r\n",
        "normaliser X2:  1.72413793103\r\n",
        "bel_X2_isOpen (normalised):  0.98275862069\r\n",
        "bel_X2_isClosed (normalised):  0.0172413793103\r\n"
       ]
      }
     ],
     "prompt_number": 88
    },
    {
     "cell_type": "code",
     "collapsed": false,
     "input": [],
     "language": "python",
     "metadata": {},
     "outputs": []
    }
   ],
   "metadata": {}
  }
 ]
}